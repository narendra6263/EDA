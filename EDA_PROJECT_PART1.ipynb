{
 "cells": [
  {
   "cell_type": "markdown",
   "id": "4f6ef42d-911c-435e-a7b0-1fcdb3b69b0a",
   "metadata": {},
   "source": [
    "# Importing libraries"
   ]
  },
  {
   "cell_type": "code",
   "execution_count": 1,
   "id": "6d2d17a4-ae29-405b-86cc-c2e45a16e8f5",
   "metadata": {},
   "outputs": [],
   "source": [
    "import pandas as pd\n",
    "import numpy as np\n"
   ]
  },
  {
   "cell_type": "code",
   "execution_count": 2,
   "id": "e050caaf-93cc-4f7e-9b7a-db6449d2243e",
   "metadata": {},
   "outputs": [],
   "source": [
    "df = pd.read_csv(\"data.csv\", encoding = \"ISO-8859-1\")"
   ]
  },
  {
   "cell_type": "markdown",
   "id": "9d04324d-069d-40d1-9631-27ef308302ae",
   "metadata": {},
   "source": [
    "# Loading the dataset"
   ]
  },
  {
   "cell_type": "code",
   "execution_count": 3,
   "id": "80a6000b-03a7-45ae-85c1-6905c0ca5bf9",
   "metadata": {},
   "outputs": [],
   "source": [
    "# ecom_data = pd.read_csv(\"data.csv\", encoding = \"ISO-8859-1\")"
   ]
  },
  {
   "cell_type": "markdown",
   "id": "ba6c4446-51c9-4d52-975b-94bba9421cc3",
   "metadata": {},
   "source": [
    "# Checking rows and columns"
   ]
  },
  {
   "cell_type": "code",
   "execution_count": 4,
   "id": "413b74ab-9134-4a02-88de-cc289933a3c0",
   "metadata": {},
   "outputs": [
    {
     "data": {
      "text/plain": [
       "(541909, 8)"
      ]
     },
     "execution_count": 4,
     "metadata": {},
     "output_type": "execute_result"
    }
   ],
   "source": [
    "df.shape"
   ]
  },
  {
   "cell_type": "markdown",
   "id": "763702f8-bade-4242-9017-c2f186b618a0",
   "metadata": {},
   "source": [
    "# Accessing top five rows"
   ]
  },
  {
   "cell_type": "code",
   "execution_count": 5,
   "id": "806d3dad-ef9f-463d-a7c7-d68baa0f87a5",
   "metadata": {},
   "outputs": [
    {
     "data": {
      "text/html": [
       "<div>\n",
       "<style scoped>\n",
       "    .dataframe tbody tr th:only-of-type {\n",
       "        vertical-align: middle;\n",
       "    }\n",
       "\n",
       "    .dataframe tbody tr th {\n",
       "        vertical-align: top;\n",
       "    }\n",
       "\n",
       "    .dataframe thead th {\n",
       "        text-align: right;\n",
       "    }\n",
       "</style>\n",
       "<table border=\"1\" class=\"dataframe\">\n",
       "  <thead>\n",
       "    <tr style=\"text-align: right;\">\n",
       "      <th></th>\n",
       "      <th>InvoiceNo</th>\n",
       "      <th>StockCode</th>\n",
       "      <th>Description</th>\n",
       "      <th>Quantity</th>\n",
       "      <th>InvoiceDate</th>\n",
       "      <th>UnitPrice</th>\n",
       "      <th>CustomerID</th>\n",
       "      <th>Country</th>\n",
       "    </tr>\n",
       "  </thead>\n",
       "  <tbody>\n",
       "    <tr>\n",
       "      <th>0</th>\n",
       "      <td>536365</td>\n",
       "      <td>85123A</td>\n",
       "      <td>WHITE HANGING HEART T-LIGHT HOLDER</td>\n",
       "      <td>6</td>\n",
       "      <td>12/1/2010 8:26</td>\n",
       "      <td>2.55</td>\n",
       "      <td>17850.0</td>\n",
       "      <td>United Kingdom</td>\n",
       "    </tr>\n",
       "    <tr>\n",
       "      <th>1</th>\n",
       "      <td>536365</td>\n",
       "      <td>71053</td>\n",
       "      <td>WHITE METAL LANTERN</td>\n",
       "      <td>6</td>\n",
       "      <td>12/1/2010 8:26</td>\n",
       "      <td>3.39</td>\n",
       "      <td>17850.0</td>\n",
       "      <td>United Kingdom</td>\n",
       "    </tr>\n",
       "    <tr>\n",
       "      <th>2</th>\n",
       "      <td>536365</td>\n",
       "      <td>84406B</td>\n",
       "      <td>CREAM CUPID HEARTS COAT HANGER</td>\n",
       "      <td>8</td>\n",
       "      <td>12/1/2010 8:26</td>\n",
       "      <td>2.75</td>\n",
       "      <td>17850.0</td>\n",
       "      <td>United Kingdom</td>\n",
       "    </tr>\n",
       "    <tr>\n",
       "      <th>3</th>\n",
       "      <td>536365</td>\n",
       "      <td>84029G</td>\n",
       "      <td>KNITTED UNION FLAG HOT WATER BOTTLE</td>\n",
       "      <td>6</td>\n",
       "      <td>12/1/2010 8:26</td>\n",
       "      <td>3.39</td>\n",
       "      <td>17850.0</td>\n",
       "      <td>United Kingdom</td>\n",
       "    </tr>\n",
       "    <tr>\n",
       "      <th>4</th>\n",
       "      <td>536365</td>\n",
       "      <td>84029E</td>\n",
       "      <td>RED WOOLLY HOTTIE WHITE HEART.</td>\n",
       "      <td>6</td>\n",
       "      <td>12/1/2010 8:26</td>\n",
       "      <td>3.39</td>\n",
       "      <td>17850.0</td>\n",
       "      <td>United Kingdom</td>\n",
       "    </tr>\n",
       "  </tbody>\n",
       "</table>\n",
       "</div>"
      ],
      "text/plain": [
       "  InvoiceNo StockCode                          Description  Quantity  \\\n",
       "0    536365    85123A   WHITE HANGING HEART T-LIGHT HOLDER         6   \n",
       "1    536365     71053                  WHITE METAL LANTERN         6   \n",
       "2    536365    84406B       CREAM CUPID HEARTS COAT HANGER         8   \n",
       "3    536365    84029G  KNITTED UNION FLAG HOT WATER BOTTLE         6   \n",
       "4    536365    84029E       RED WOOLLY HOTTIE WHITE HEART.         6   \n",
       "\n",
       "      InvoiceDate  UnitPrice  CustomerID         Country  \n",
       "0  12/1/2010 8:26       2.55     17850.0  United Kingdom  \n",
       "1  12/1/2010 8:26       3.39     17850.0  United Kingdom  \n",
       "2  12/1/2010 8:26       2.75     17850.0  United Kingdom  \n",
       "3  12/1/2010 8:26       3.39     17850.0  United Kingdom  \n",
       "4  12/1/2010 8:26       3.39     17850.0  United Kingdom  "
      ]
     },
     "execution_count": 5,
     "metadata": {},
     "output_type": "execute_result"
    }
   ],
   "source": [
    "df.head()"
   ]
  },
  {
   "cell_type": "markdown",
   "id": "7040fc7f-1ce5-4bed-9a0e-989d6e9ff04a",
   "metadata": {},
   "source": [
    "# Accessing last 5 rows"
   ]
  },
  {
   "cell_type": "code",
   "execution_count": 6,
   "id": "90107a39-8379-486a-8c98-50c93013639c",
   "metadata": {},
   "outputs": [
    {
     "data": {
      "text/html": [
       "<div>\n",
       "<style scoped>\n",
       "    .dataframe tbody tr th:only-of-type {\n",
       "        vertical-align: middle;\n",
       "    }\n",
       "\n",
       "    .dataframe tbody tr th {\n",
       "        vertical-align: top;\n",
       "    }\n",
       "\n",
       "    .dataframe thead th {\n",
       "        text-align: right;\n",
       "    }\n",
       "</style>\n",
       "<table border=\"1\" class=\"dataframe\">\n",
       "  <thead>\n",
       "    <tr style=\"text-align: right;\">\n",
       "      <th></th>\n",
       "      <th>InvoiceNo</th>\n",
       "      <th>StockCode</th>\n",
       "      <th>Description</th>\n",
       "      <th>Quantity</th>\n",
       "      <th>InvoiceDate</th>\n",
       "      <th>UnitPrice</th>\n",
       "      <th>CustomerID</th>\n",
       "      <th>Country</th>\n",
       "    </tr>\n",
       "  </thead>\n",
       "  <tbody>\n",
       "    <tr>\n",
       "      <th>541904</th>\n",
       "      <td>581587</td>\n",
       "      <td>22613</td>\n",
       "      <td>PACK OF 20 SPACEBOY NAPKINS</td>\n",
       "      <td>12</td>\n",
       "      <td>12/9/2011 12:50</td>\n",
       "      <td>0.85</td>\n",
       "      <td>12680.0</td>\n",
       "      <td>France</td>\n",
       "    </tr>\n",
       "    <tr>\n",
       "      <th>541905</th>\n",
       "      <td>581587</td>\n",
       "      <td>22899</td>\n",
       "      <td>CHILDREN'S APRON DOLLY GIRL</td>\n",
       "      <td>6</td>\n",
       "      <td>12/9/2011 12:50</td>\n",
       "      <td>2.10</td>\n",
       "      <td>12680.0</td>\n",
       "      <td>France</td>\n",
       "    </tr>\n",
       "    <tr>\n",
       "      <th>541906</th>\n",
       "      <td>581587</td>\n",
       "      <td>23254</td>\n",
       "      <td>CHILDRENS CUTLERY DOLLY GIRL</td>\n",
       "      <td>4</td>\n",
       "      <td>12/9/2011 12:50</td>\n",
       "      <td>4.15</td>\n",
       "      <td>12680.0</td>\n",
       "      <td>France</td>\n",
       "    </tr>\n",
       "    <tr>\n",
       "      <th>541907</th>\n",
       "      <td>581587</td>\n",
       "      <td>23255</td>\n",
       "      <td>CHILDRENS CUTLERY CIRCUS PARADE</td>\n",
       "      <td>4</td>\n",
       "      <td>12/9/2011 12:50</td>\n",
       "      <td>4.15</td>\n",
       "      <td>12680.0</td>\n",
       "      <td>France</td>\n",
       "    </tr>\n",
       "    <tr>\n",
       "      <th>541908</th>\n",
       "      <td>581587</td>\n",
       "      <td>22138</td>\n",
       "      <td>BAKING SET 9 PIECE RETROSPOT</td>\n",
       "      <td>3</td>\n",
       "      <td>12/9/2011 12:50</td>\n",
       "      <td>4.95</td>\n",
       "      <td>12680.0</td>\n",
       "      <td>France</td>\n",
       "    </tr>\n",
       "  </tbody>\n",
       "</table>\n",
       "</div>"
      ],
      "text/plain": [
       "       InvoiceNo StockCode                      Description  Quantity  \\\n",
       "541904    581587     22613      PACK OF 20 SPACEBOY NAPKINS        12   \n",
       "541905    581587     22899     CHILDREN'S APRON DOLLY GIRL          6   \n",
       "541906    581587     23254    CHILDRENS CUTLERY DOLLY GIRL          4   \n",
       "541907    581587     23255  CHILDRENS CUTLERY CIRCUS PARADE         4   \n",
       "541908    581587     22138    BAKING SET 9 PIECE RETROSPOT          3   \n",
       "\n",
       "            InvoiceDate  UnitPrice  CustomerID Country  \n",
       "541904  12/9/2011 12:50       0.85     12680.0  France  \n",
       "541905  12/9/2011 12:50       2.10     12680.0  France  \n",
       "541906  12/9/2011 12:50       4.15     12680.0  France  \n",
       "541907  12/9/2011 12:50       4.15     12680.0  France  \n",
       "541908  12/9/2011 12:50       4.95     12680.0  France  "
      ]
     },
     "execution_count": 6,
     "metadata": {},
     "output_type": "execute_result"
    }
   ],
   "source": [
    "df.tail()"
   ]
  },
  {
   "cell_type": "markdown",
   "id": "fec8433f-c34b-4a90-8362-5affa977251f",
   "metadata": {},
   "source": [
    "# Displaying total columns from Dataset"
   ]
  },
  {
   "cell_type": "code",
   "execution_count": 7,
   "id": "cff5b675-b01b-4f2c-b7c2-1e2e91e0e4ec",
   "metadata": {},
   "outputs": [
    {
     "data": {
      "text/plain": [
       "Index(['InvoiceNo', 'StockCode', 'Description', 'Quantity', 'InvoiceDate',\n",
       "       'UnitPrice', 'CustomerID', 'Country'],\n",
       "      dtype='object')"
      ]
     },
     "execution_count": 7,
     "metadata": {},
     "output_type": "execute_result"
    }
   ],
   "source": [
    "df.columns"
   ]
  },
  {
   "cell_type": "markdown",
   "id": "17945eda-9e95-4959-8fb8-a5ecbb62621e",
   "metadata": {},
   "source": [
    "# Accessing columns one by one using for loop"
   ]
  },
  {
   "cell_type": "code",
   "execution_count": 8,
   "id": "073e2a9d-db0a-44e2-90b9-c2de40ba83cd",
   "metadata": {},
   "outputs": [
    {
     "name": "stdout",
     "output_type": "stream",
     "text": [
      "InvoiceNo\n",
      "StockCode\n",
      "Description\n",
      "Quantity\n",
      "InvoiceDate\n",
      "UnitPrice\n",
      "CustomerID\n",
      "Country\n"
     ]
    }
   ],
   "source": [
    "for column in df.columns:\n",
    "    print(column)"
   ]
  },
  {
   "cell_type": "markdown",
   "id": "bfd97c7c-31f6-463d-abfd-5ec7a78d87ee",
   "metadata": {},
   "source": [
    "# Renaming columns names"
   ]
  },
  {
   "cell_type": "code",
   "execution_count": 9,
   "id": "aa037a89-0493-4451-945d-af1d38ddc770",
   "metadata": {},
   "outputs": [],
   "source": [
    "d = {\n",
    "    \"InvoiceNo\" : \"invoice_num\",\n",
    "    \"StockCode\" : \"stock_code\",\n",
    "    \"Description\" : \"description\",\n",
    "    \"Quantity\" : \"quantity\",\n",
    "    \"InvoiceDate\" : \"invoice_date\",\n",
    "    \"UnitPrice\" : \"unit_price\",\n",
    "    \"CustomerID\" : \"customer_id\",\n",
    "    \"Country\" : \"country\"\n",
    "}\n",
    "df.rename(columns = d, inplace = True)"
   ]
  },
  {
   "cell_type": "markdown",
   "id": "7479396a-26d1-44b6-b056-8c8630274b8d",
   "metadata": {},
   "source": [
    "# after changing column names checking  df"
   ]
  },
  {
   "cell_type": "code",
   "execution_count": 10,
   "id": "d79e9d22-c70e-402d-a39f-9f9a315d40bf",
   "metadata": {},
   "outputs": [
    {
     "data": {
      "text/plain": [
       "Index(['invoice_num', 'stock_code', 'description', 'quantity', 'invoice_date',\n",
       "       'unit_price', 'customer_id', 'country'],\n",
       "      dtype='object')"
      ]
     },
     "execution_count": 10,
     "metadata": {},
     "output_type": "execute_result"
    }
   ],
   "source": [
    "df.columns"
   ]
  },
  {
   "cell_type": "code",
   "execution_count": 11,
   "id": "b4d02ba5-c2f0-4239-9868-1eb3e37235ef",
   "metadata": {},
   "outputs": [
    {
     "name": "stdout",
     "output_type": "stream",
     "text": [
      "invoice_num\n",
      "stock_code\n",
      "description\n",
      "quantity\n",
      "invoice_date\n",
      "unit_price\n",
      "customer_id\n",
      "country\n"
     ]
    }
   ],
   "source": [
    "for i in df.columns:\n",
    "    print(i)"
   ]
  },
  {
   "cell_type": "markdown",
   "id": "ceb22ce4-44a3-47eb-b477-705b5e01c692",
   "metadata": {},
   "source": [
    "# Let's check intial data"
   ]
  },
  {
   "cell_type": "code",
   "execution_count": 12,
   "id": "43c08a76-1e29-41fe-8358-3e52f64cd6ba",
   "metadata": {},
   "outputs": [
    {
     "data": {
      "text/html": [
       "<div>\n",
       "<style scoped>\n",
       "    .dataframe tbody tr th:only-of-type {\n",
       "        vertical-align: middle;\n",
       "    }\n",
       "\n",
       "    .dataframe tbody tr th {\n",
       "        vertical-align: top;\n",
       "    }\n",
       "\n",
       "    .dataframe thead th {\n",
       "        text-align: right;\n",
       "    }\n",
       "</style>\n",
       "<table border=\"1\" class=\"dataframe\">\n",
       "  <thead>\n",
       "    <tr style=\"text-align: right;\">\n",
       "      <th></th>\n",
       "      <th>invoice_num</th>\n",
       "      <th>stock_code</th>\n",
       "      <th>description</th>\n",
       "      <th>quantity</th>\n",
       "      <th>invoice_date</th>\n",
       "      <th>unit_price</th>\n",
       "      <th>customer_id</th>\n",
       "      <th>country</th>\n",
       "    </tr>\n",
       "  </thead>\n",
       "  <tbody>\n",
       "    <tr>\n",
       "      <th>0</th>\n",
       "      <td>536365</td>\n",
       "      <td>85123A</td>\n",
       "      <td>WHITE HANGING HEART T-LIGHT HOLDER</td>\n",
       "      <td>6</td>\n",
       "      <td>12/1/2010 8:26</td>\n",
       "      <td>2.55</td>\n",
       "      <td>17850.0</td>\n",
       "      <td>United Kingdom</td>\n",
       "    </tr>\n",
       "    <tr>\n",
       "      <th>1</th>\n",
       "      <td>536365</td>\n",
       "      <td>71053</td>\n",
       "      <td>WHITE METAL LANTERN</td>\n",
       "      <td>6</td>\n",
       "      <td>12/1/2010 8:26</td>\n",
       "      <td>3.39</td>\n",
       "      <td>17850.0</td>\n",
       "      <td>United Kingdom</td>\n",
       "    </tr>\n",
       "    <tr>\n",
       "      <th>2</th>\n",
       "      <td>536365</td>\n",
       "      <td>84406B</td>\n",
       "      <td>CREAM CUPID HEARTS COAT HANGER</td>\n",
       "      <td>8</td>\n",
       "      <td>12/1/2010 8:26</td>\n",
       "      <td>2.75</td>\n",
       "      <td>17850.0</td>\n",
       "      <td>United Kingdom</td>\n",
       "    </tr>\n",
       "    <tr>\n",
       "      <th>3</th>\n",
       "      <td>536365</td>\n",
       "      <td>84029G</td>\n",
       "      <td>KNITTED UNION FLAG HOT WATER BOTTLE</td>\n",
       "      <td>6</td>\n",
       "      <td>12/1/2010 8:26</td>\n",
       "      <td>3.39</td>\n",
       "      <td>17850.0</td>\n",
       "      <td>United Kingdom</td>\n",
       "    </tr>\n",
       "    <tr>\n",
       "      <th>4</th>\n",
       "      <td>536365</td>\n",
       "      <td>84029E</td>\n",
       "      <td>RED WOOLLY HOTTIE WHITE HEART.</td>\n",
       "      <td>6</td>\n",
       "      <td>12/1/2010 8:26</td>\n",
       "      <td>3.39</td>\n",
       "      <td>17850.0</td>\n",
       "      <td>United Kingdom</td>\n",
       "    </tr>\n",
       "  </tbody>\n",
       "</table>\n",
       "</div>"
      ],
      "text/plain": [
       "  invoice_num stock_code                          description  quantity  \\\n",
       "0      536365     85123A   WHITE HANGING HEART T-LIGHT HOLDER         6   \n",
       "1      536365      71053                  WHITE METAL LANTERN         6   \n",
       "2      536365     84406B       CREAM CUPID HEARTS COAT HANGER         8   \n",
       "3      536365     84029G  KNITTED UNION FLAG HOT WATER BOTTLE         6   \n",
       "4      536365     84029E       RED WOOLLY HOTTIE WHITE HEART.         6   \n",
       "\n",
       "     invoice_date  unit_price  customer_id         country  \n",
       "0  12/1/2010 8:26        2.55      17850.0  United Kingdom  \n",
       "1  12/1/2010 8:26        3.39      17850.0  United Kingdom  \n",
       "2  12/1/2010 8:26        2.75      17850.0  United Kingdom  \n",
       "3  12/1/2010 8:26        3.39      17850.0  United Kingdom  \n",
       "4  12/1/2010 8:26        3.39      17850.0  United Kingdom  "
      ]
     },
     "execution_count": 12,
     "metadata": {},
     "output_type": "execute_result"
    }
   ],
   "source": [
    "df.head()"
   ]
  },
  {
   "cell_type": "markdown",
   "id": "e3577438-dc39-4f8d-bbb2-433e058f250f",
   "metadata": {},
   "source": [
    " # checking column type"
   ]
  },
  {
   "cell_type": "code",
   "execution_count": 13,
   "id": "0dfc8db5-5c6d-468f-aec4-e8b996d3e601",
   "metadata": {},
   "outputs": [
    {
     "data": {
      "text/plain": [
       "invoice_num      object\n",
       "stock_code       object\n",
       "description      object\n",
       "quantity          int64\n",
       "invoice_date     object\n",
       "unit_price      float64\n",
       "customer_id     float64\n",
       "country          object\n",
       "dtype: object"
      ]
     },
     "execution_count": 13,
     "metadata": {},
     "output_type": "execute_result"
    }
   ],
   "source": [
    "df.dtypes"
   ]
  },
  {
   "cell_type": "markdown",
   "id": "414e85c8-39f6-4586-9f34-b48f14948922",
   "metadata": {},
   "source": [
    "# DataFramre information"
   ]
  },
  {
   "cell_type": "code",
   "execution_count": 14,
   "id": "cfcbcc48-94d0-4ec0-b2db-cad372d65f3b",
   "metadata": {},
   "outputs": [
    {
     "name": "stdout",
     "output_type": "stream",
     "text": [
      "<class 'pandas.core.frame.DataFrame'>\n",
      "RangeIndex: 541909 entries, 0 to 541908\n",
      "Data columns (total 8 columns):\n",
      " #   Column        Non-Null Count   Dtype  \n",
      "---  ------        --------------   -----  \n",
      " 0   invoice_num   541909 non-null  object \n",
      " 1   stock_code    541909 non-null  object \n",
      " 2   description   540455 non-null  object \n",
      " 3   quantity      541909 non-null  int64  \n",
      " 4   invoice_date  541909 non-null  object \n",
      " 5   unit_price    541909 non-null  float64\n",
      " 6   customer_id   406829 non-null  float64\n",
      " 7   country       541909 non-null  object \n",
      "dtypes: float64(2), int64(1), object(5)\n",
      "memory usage: 33.1+ MB\n"
     ]
    }
   ],
   "source": [
    "df.info()"
   ]
  },
  {
   "cell_type": "markdown",
   "id": "9c784399-8361-4faa-8686-1c92bbfc51b5",
   "metadata": {},
   "source": [
    "# Checking missing values for ea h columns"
   ]
  },
  {
   "cell_type": "code",
   "execution_count": 15,
   "id": "7e2f3b1a-de09-4522-8d7d-bf89141b0c49",
   "metadata": {},
   "outputs": [
    {
     "data": {
      "text/html": [
       "<div>\n",
       "<style scoped>\n",
       "    .dataframe tbody tr th:only-of-type {\n",
       "        vertical-align: middle;\n",
       "    }\n",
       "\n",
       "    .dataframe tbody tr th {\n",
       "        vertical-align: top;\n",
       "    }\n",
       "\n",
       "    .dataframe thead th {\n",
       "        text-align: right;\n",
       "    }\n",
       "</style>\n",
       "<table border=\"1\" class=\"dataframe\">\n",
       "  <thead>\n",
       "    <tr style=\"text-align: right;\">\n",
       "      <th></th>\n",
       "      <th>invoice_num</th>\n",
       "      <th>stock_code</th>\n",
       "      <th>description</th>\n",
       "      <th>quantity</th>\n",
       "      <th>invoice_date</th>\n",
       "      <th>unit_price</th>\n",
       "      <th>customer_id</th>\n",
       "      <th>country</th>\n",
       "    </tr>\n",
       "  </thead>\n",
       "  <tbody>\n",
       "    <tr>\n",
       "      <th>0</th>\n",
       "      <td>False</td>\n",
       "      <td>False</td>\n",
       "      <td>False</td>\n",
       "      <td>False</td>\n",
       "      <td>False</td>\n",
       "      <td>False</td>\n",
       "      <td>False</td>\n",
       "      <td>False</td>\n",
       "    </tr>\n",
       "    <tr>\n",
       "      <th>1</th>\n",
       "      <td>False</td>\n",
       "      <td>False</td>\n",
       "      <td>False</td>\n",
       "      <td>False</td>\n",
       "      <td>False</td>\n",
       "      <td>False</td>\n",
       "      <td>False</td>\n",
       "      <td>False</td>\n",
       "    </tr>\n",
       "    <tr>\n",
       "      <th>2</th>\n",
       "      <td>False</td>\n",
       "      <td>False</td>\n",
       "      <td>False</td>\n",
       "      <td>False</td>\n",
       "      <td>False</td>\n",
       "      <td>False</td>\n",
       "      <td>False</td>\n",
       "      <td>False</td>\n",
       "    </tr>\n",
       "    <tr>\n",
       "      <th>3</th>\n",
       "      <td>False</td>\n",
       "      <td>False</td>\n",
       "      <td>False</td>\n",
       "      <td>False</td>\n",
       "      <td>False</td>\n",
       "      <td>False</td>\n",
       "      <td>False</td>\n",
       "      <td>False</td>\n",
       "    </tr>\n",
       "    <tr>\n",
       "      <th>4</th>\n",
       "      <td>False</td>\n",
       "      <td>False</td>\n",
       "      <td>False</td>\n",
       "      <td>False</td>\n",
       "      <td>False</td>\n",
       "      <td>False</td>\n",
       "      <td>False</td>\n",
       "      <td>False</td>\n",
       "    </tr>\n",
       "    <tr>\n",
       "      <th>...</th>\n",
       "      <td>...</td>\n",
       "      <td>...</td>\n",
       "      <td>...</td>\n",
       "      <td>...</td>\n",
       "      <td>...</td>\n",
       "      <td>...</td>\n",
       "      <td>...</td>\n",
       "      <td>...</td>\n",
       "    </tr>\n",
       "    <tr>\n",
       "      <th>541904</th>\n",
       "      <td>False</td>\n",
       "      <td>False</td>\n",
       "      <td>False</td>\n",
       "      <td>False</td>\n",
       "      <td>False</td>\n",
       "      <td>False</td>\n",
       "      <td>False</td>\n",
       "      <td>False</td>\n",
       "    </tr>\n",
       "    <tr>\n",
       "      <th>541905</th>\n",
       "      <td>False</td>\n",
       "      <td>False</td>\n",
       "      <td>False</td>\n",
       "      <td>False</td>\n",
       "      <td>False</td>\n",
       "      <td>False</td>\n",
       "      <td>False</td>\n",
       "      <td>False</td>\n",
       "    </tr>\n",
       "    <tr>\n",
       "      <th>541906</th>\n",
       "      <td>False</td>\n",
       "      <td>False</td>\n",
       "      <td>False</td>\n",
       "      <td>False</td>\n",
       "      <td>False</td>\n",
       "      <td>False</td>\n",
       "      <td>False</td>\n",
       "      <td>False</td>\n",
       "    </tr>\n",
       "    <tr>\n",
       "      <th>541907</th>\n",
       "      <td>False</td>\n",
       "      <td>False</td>\n",
       "      <td>False</td>\n",
       "      <td>False</td>\n",
       "      <td>False</td>\n",
       "      <td>False</td>\n",
       "      <td>False</td>\n",
       "      <td>False</td>\n",
       "    </tr>\n",
       "    <tr>\n",
       "      <th>541908</th>\n",
       "      <td>False</td>\n",
       "      <td>False</td>\n",
       "      <td>False</td>\n",
       "      <td>False</td>\n",
       "      <td>False</td>\n",
       "      <td>False</td>\n",
       "      <td>False</td>\n",
       "      <td>False</td>\n",
       "    </tr>\n",
       "  </tbody>\n",
       "</table>\n",
       "<p>541909 rows × 8 columns</p>\n",
       "</div>"
      ],
      "text/plain": [
       "        invoice_num  stock_code  description  quantity  invoice_date  \\\n",
       "0             False       False        False     False         False   \n",
       "1             False       False        False     False         False   \n",
       "2             False       False        False     False         False   \n",
       "3             False       False        False     False         False   \n",
       "4             False       False        False     False         False   \n",
       "...             ...         ...          ...       ...           ...   \n",
       "541904        False       False        False     False         False   \n",
       "541905        False       False        False     False         False   \n",
       "541906        False       False        False     False         False   \n",
       "541907        False       False        False     False         False   \n",
       "541908        False       False        False     False         False   \n",
       "\n",
       "        unit_price  customer_id  country  \n",
       "0            False        False    False  \n",
       "1            False        False    False  \n",
       "2            False        False    False  \n",
       "3            False        False    False  \n",
       "4            False        False    False  \n",
       "...            ...          ...      ...  \n",
       "541904       False        False    False  \n",
       "541905       False        False    False  \n",
       "541906       False        False    False  \n",
       "541907       False        False    False  \n",
       "541908       False        False    False  \n",
       "\n",
       "[541909 rows x 8 columns]"
      ]
     },
     "execution_count": 15,
     "metadata": {},
     "output_type": "execute_result"
    }
   ],
   "source": [
    "df.isnull()"
   ]
  },
  {
   "cell_type": "markdown",
   "id": "4fc18958-5897-4a47-b9e3-bdd20c63d0c7",
   "metadata": {},
   "source": [
    "#  Checking missing values count on each column, applying shorting"
   ]
  },
  {
   "cell_type": "code",
   "execution_count": 16,
   "id": "d2952fe9-377b-468e-9974-1cf0c41747a9",
   "metadata": {},
   "outputs": [
    {
     "data": {
      "text/plain": [
       "invoice_num          0\n",
       "stock_code           0\n",
       "quantity             0\n",
       "invoice_date         0\n",
       "unit_price           0\n",
       "country              0\n",
       "description       1454\n",
       "customer_id     135080\n",
       "dtype: int64"
      ]
     },
     "execution_count": 16,
     "metadata": {},
     "output_type": "execute_result"
    }
   ],
   "source": [
    "df.isnull().sum().sort_values()"
   ]
  },
  {
   "cell_type": "code",
   "execution_count": 17,
   "id": "477ce861-012e-4157-8f89-d3d95e8d2c75",
   "metadata": {},
   "outputs": [
    {
     "data": {
      "text/plain": [
       "customer_id     135080\n",
       "description       1454\n",
       "invoice_num          0\n",
       "stock_code           0\n",
       "quantity             0\n",
       "invoice_date         0\n",
       "unit_price           0\n",
       "country              0\n",
       "dtype: int64"
      ]
     },
     "execution_count": 17,
     "metadata": {},
     "output_type": "execute_result"
    }
   ],
   "source": [
    "df.isnull().sum().sort_values(ascending = False)"
   ]
  },
  {
   "cell_type": "code",
   "execution_count": 18,
   "id": "f98cc992-fdf9-4fe8-b5c8-eccba138330d",
   "metadata": {},
   "outputs": [
    {
     "data": {
      "text/plain": [
       "invoice_num      object\n",
       "stock_code       object\n",
       "description      object\n",
       "quantity          int64\n",
       "invoice_date     object\n",
       "unit_price      float64\n",
       "customer_id     float64\n",
       "country          object\n",
       "dtype: object"
      ]
     },
     "execution_count": 18,
     "metadata": {},
     "output_type": "execute_result"
    }
   ],
   "source": [
    "df.dtypes"
   ]
  },
  {
   "cell_type": "markdown",
   "id": "69553530-23b2-428f-81c6-9d1c364900b0",
   "metadata": {},
   "source": [
    "# Access intial data"
   ]
  },
  {
   "cell_type": "code",
   "execution_count": 19,
   "id": "132086c0-4cf5-4d49-ab3c-cc6a108991a3",
   "metadata": {},
   "outputs": [
    {
     "data": {
      "text/html": [
       "<div>\n",
       "<style scoped>\n",
       "    .dataframe tbody tr th:only-of-type {\n",
       "        vertical-align: middle;\n",
       "    }\n",
       "\n",
       "    .dataframe tbody tr th {\n",
       "        vertical-align: top;\n",
       "    }\n",
       "\n",
       "    .dataframe thead th {\n",
       "        text-align: right;\n",
       "    }\n",
       "</style>\n",
       "<table border=\"1\" class=\"dataframe\">\n",
       "  <thead>\n",
       "    <tr style=\"text-align: right;\">\n",
       "      <th></th>\n",
       "      <th>invoice_num</th>\n",
       "      <th>stock_code</th>\n",
       "      <th>description</th>\n",
       "      <th>quantity</th>\n",
       "      <th>invoice_date</th>\n",
       "      <th>unit_price</th>\n",
       "      <th>customer_id</th>\n",
       "      <th>country</th>\n",
       "    </tr>\n",
       "  </thead>\n",
       "  <tbody>\n",
       "    <tr>\n",
       "      <th>0</th>\n",
       "      <td>536365</td>\n",
       "      <td>85123A</td>\n",
       "      <td>WHITE HANGING HEART T-LIGHT HOLDER</td>\n",
       "      <td>6</td>\n",
       "      <td>12/1/2010 8:26</td>\n",
       "      <td>2.55</td>\n",
       "      <td>17850.0</td>\n",
       "      <td>United Kingdom</td>\n",
       "    </tr>\n",
       "    <tr>\n",
       "      <th>1</th>\n",
       "      <td>536365</td>\n",
       "      <td>71053</td>\n",
       "      <td>WHITE METAL LANTERN</td>\n",
       "      <td>6</td>\n",
       "      <td>12/1/2010 8:26</td>\n",
       "      <td>3.39</td>\n",
       "      <td>17850.0</td>\n",
       "      <td>United Kingdom</td>\n",
       "    </tr>\n",
       "  </tbody>\n",
       "</table>\n",
       "</div>"
      ],
      "text/plain": [
       "  invoice_num stock_code                         description  quantity  \\\n",
       "0      536365     85123A  WHITE HANGING HEART T-LIGHT HOLDER         6   \n",
       "1      536365      71053                 WHITE METAL LANTERN         6   \n",
       "\n",
       "     invoice_date  unit_price  customer_id         country  \n",
       "0  12/1/2010 8:26        2.55      17850.0  United Kingdom  \n",
       "1  12/1/2010 8:26        3.39      17850.0  United Kingdom  "
      ]
     },
     "execution_count": 19,
     "metadata": {},
     "output_type": "execute_result"
    }
   ],
   "source": [
    "df.head(2)"
   ]
  },
  {
   "cell_type": "markdown",
   "id": "f4938c6c-b8c0-49f5-bbd4-c1c7379ac4cb",
   "metadata": {},
   "source": [
    "# Converting invoice_date datatype into datetime datatype"
   ]
  },
  {
   "cell_type": "code",
   "execution_count": 20,
   "id": "c6d633aa-2a0b-48b4-92ba-9966ef0cfc2d",
   "metadata": {},
   "outputs": [],
   "source": [
    "df[\"invoice_date\"] = pd.to_datetime(df[\"invoice_date\"],format = \"%m/%d/%Y %H:%M\")"
   ]
  },
  {
   "cell_type": "markdown",
   "id": "0737383c-e082-4b01-af26-a9cd7517f074",
   "metadata": {},
   "source": [
    "# checking type of invoice_date"
   ]
  },
  {
   "cell_type": "code",
   "execution_count": 21,
   "id": "771df3c6-80f9-4f5c-ba40-ce682b3f4a2e",
   "metadata": {},
   "outputs": [
    {
     "data": {
      "text/plain": [
       "invoice_num             object\n",
       "stock_code              object\n",
       "description             object\n",
       "quantity                 int64\n",
       "invoice_date    datetime64[ns]\n",
       "unit_price             float64\n",
       "customer_id            float64\n",
       "country                 object\n",
       "dtype: object"
      ]
     },
     "execution_count": 21,
     "metadata": {},
     "output_type": "execute_result"
    }
   ],
   "source": [
    "df.dtypes"
   ]
  },
  {
   "cell_type": "code",
   "execution_count": 22,
   "id": "60d03771-0d81-473d-bb55-8a6391ce944d",
   "metadata": {},
   "outputs": [
    {
     "data": {
      "text/html": [
       "<div>\n",
       "<style scoped>\n",
       "    .dataframe tbody tr th:only-of-type {\n",
       "        vertical-align: middle;\n",
       "    }\n",
       "\n",
       "    .dataframe tbody tr th {\n",
       "        vertical-align: top;\n",
       "    }\n",
       "\n",
       "    .dataframe thead th {\n",
       "        text-align: right;\n",
       "    }\n",
       "</style>\n",
       "<table border=\"1\" class=\"dataframe\">\n",
       "  <thead>\n",
       "    <tr style=\"text-align: right;\">\n",
       "      <th></th>\n",
       "      <th>invoice_num</th>\n",
       "      <th>stock_code</th>\n",
       "      <th>description</th>\n",
       "      <th>quantity</th>\n",
       "      <th>invoice_date</th>\n",
       "      <th>unit_price</th>\n",
       "      <th>customer_id</th>\n",
       "      <th>country</th>\n",
       "    </tr>\n",
       "  </thead>\n",
       "  <tbody>\n",
       "    <tr>\n",
       "      <th>0</th>\n",
       "      <td>536365</td>\n",
       "      <td>85123A</td>\n",
       "      <td>WHITE HANGING HEART T-LIGHT HOLDER</td>\n",
       "      <td>6</td>\n",
       "      <td>2010-12-01 08:26:00</td>\n",
       "      <td>2.55</td>\n",
       "      <td>17850.0</td>\n",
       "      <td>United Kingdom</td>\n",
       "    </tr>\n",
       "    <tr>\n",
       "      <th>1</th>\n",
       "      <td>536365</td>\n",
       "      <td>71053</td>\n",
       "      <td>WHITE METAL LANTERN</td>\n",
       "      <td>6</td>\n",
       "      <td>2010-12-01 08:26:00</td>\n",
       "      <td>3.39</td>\n",
       "      <td>17850.0</td>\n",
       "      <td>United Kingdom</td>\n",
       "    </tr>\n",
       "  </tbody>\n",
       "</table>\n",
       "</div>"
      ],
      "text/plain": [
       "  invoice_num stock_code                         description  quantity  \\\n",
       "0      536365     85123A  WHITE HANGING HEART T-LIGHT HOLDER         6   \n",
       "1      536365      71053                 WHITE METAL LANTERN         6   \n",
       "\n",
       "         invoice_date  unit_price  customer_id         country  \n",
       "0 2010-12-01 08:26:00        2.55      17850.0  United Kingdom  \n",
       "1 2010-12-01 08:26:00        3.39      17850.0  United Kingdom  "
      ]
     },
     "execution_count": 22,
     "metadata": {},
     "output_type": "execute_result"
    }
   ],
   "source": [
    "df.head(2)"
   ]
  },
  {
   "cell_type": "markdown",
   "id": "04628eea-1eab-4c2c-b6ea-a7b2ec20cf2a",
   "metadata": {},
   "source": [
    "#  Let us check description column"
   ]
  },
  {
   "cell_type": "code",
   "execution_count": 23,
   "id": "11c2c280-91ed-48af-a65a-39f5e1a81ecd",
   "metadata": {},
   "outputs": [
    {
     "data": {
      "text/plain": [
       "0          WHITE HANGING HEART T-LIGHT HOLDER\n",
       "1                         WHITE METAL LANTERN\n",
       "2              CREAM CUPID HEARTS COAT HANGER\n",
       "3         KNITTED UNION FLAG HOT WATER BOTTLE\n",
       "4              RED WOOLLY HOTTIE WHITE HEART.\n",
       "                         ...                 \n",
       "541904            PACK OF 20 SPACEBOY NAPKINS\n",
       "541905           CHILDREN'S APRON DOLLY GIRL \n",
       "541906          CHILDRENS CUTLERY DOLLY GIRL \n",
       "541907        CHILDRENS CUTLERY CIRCUS PARADE\n",
       "541908          BAKING SET 9 PIECE RETROSPOT \n",
       "Name: description, Length: 541909, dtype: object"
      ]
     },
     "execution_count": 23,
     "metadata": {},
     "output_type": "execute_result"
    }
   ],
   "source": [
    "df[\"description\"]"
   ]
  },
  {
   "cell_type": "markdown",
   "id": "c2a343e0-0db3-46a9-8c01-974ac34c4c87",
   "metadata": {},
   "source": [
    "# We need to call lower() method"
   ]
  },
  {
   "cell_type": "code",
   "execution_count": 24,
   "id": "b908ebed-a07a-47e6-9315-adf4373c0060",
   "metadata": {},
   "outputs": [
    {
     "data": {
      "text/plain": [
       "0          white hanging heart t-light holder\n",
       "1                         white metal lantern\n",
       "2              cream cupid hearts coat hanger\n",
       "3         knitted union flag hot water bottle\n",
       "4              red woolly hottie white heart.\n",
       "                         ...                 \n",
       "541904            pack of 20 spaceboy napkins\n",
       "541905           children's apron dolly girl \n",
       "541906          childrens cutlery dolly girl \n",
       "541907        childrens cutlery circus parade\n",
       "541908          baking set 9 piece retrospot \n",
       "Name: description, Length: 541909, dtype: object"
      ]
     },
     "execution_count": 24,
     "metadata": {},
     "output_type": "execute_result"
    }
   ],
   "source": [
    "df.description.str.lower()"
   ]
  },
  {
   "cell_type": "code",
   "execution_count": 25,
   "id": "16ed9968-51bf-43d3-b623-3d59a10cfe3e",
   "metadata": {},
   "outputs": [],
   "source": [
    "df[\"description\"] = df.description.str.lower()"
   ]
  },
  {
   "cell_type": "code",
   "execution_count": 26,
   "id": "3c4da8c1-10f2-43f5-99ea-ef5a48262fa4",
   "metadata": {},
   "outputs": [
    {
     "data": {
      "text/html": [
       "<div>\n",
       "<style scoped>\n",
       "    .dataframe tbody tr th:only-of-type {\n",
       "        vertical-align: middle;\n",
       "    }\n",
       "\n",
       "    .dataframe tbody tr th {\n",
       "        vertical-align: top;\n",
       "    }\n",
       "\n",
       "    .dataframe thead th {\n",
       "        text-align: right;\n",
       "    }\n",
       "</style>\n",
       "<table border=\"1\" class=\"dataframe\">\n",
       "  <thead>\n",
       "    <tr style=\"text-align: right;\">\n",
       "      <th></th>\n",
       "      <th>invoice_num</th>\n",
       "      <th>stock_code</th>\n",
       "      <th>description</th>\n",
       "      <th>quantity</th>\n",
       "      <th>invoice_date</th>\n",
       "      <th>unit_price</th>\n",
       "      <th>customer_id</th>\n",
       "      <th>country</th>\n",
       "    </tr>\n",
       "  </thead>\n",
       "  <tbody>\n",
       "    <tr>\n",
       "      <th>0</th>\n",
       "      <td>536365</td>\n",
       "      <td>85123A</td>\n",
       "      <td>white hanging heart t-light holder</td>\n",
       "      <td>6</td>\n",
       "      <td>2010-12-01 08:26:00</td>\n",
       "      <td>2.55</td>\n",
       "      <td>17850.0</td>\n",
       "      <td>United Kingdom</td>\n",
       "    </tr>\n",
       "    <tr>\n",
       "      <th>1</th>\n",
       "      <td>536365</td>\n",
       "      <td>71053</td>\n",
       "      <td>white metal lantern</td>\n",
       "      <td>6</td>\n",
       "      <td>2010-12-01 08:26:00</td>\n",
       "      <td>3.39</td>\n",
       "      <td>17850.0</td>\n",
       "      <td>United Kingdom</td>\n",
       "    </tr>\n",
       "  </tbody>\n",
       "</table>\n",
       "</div>"
      ],
      "text/plain": [
       "  invoice_num stock_code                         description  quantity  \\\n",
       "0      536365     85123A  white hanging heart t-light holder         6   \n",
       "1      536365      71053                 white metal lantern         6   \n",
       "\n",
       "         invoice_date  unit_price  customer_id         country  \n",
       "0 2010-12-01 08:26:00        2.55      17850.0  United Kingdom  \n",
       "1 2010-12-01 08:26:00        3.39      17850.0  United Kingdom  "
      ]
     },
     "execution_count": 26,
     "metadata": {},
     "output_type": "execute_result"
    }
   ],
   "source": [
    "df.head(2)"
   ]
  },
  {
   "cell_type": "markdown",
   "id": "261ebdaa-28e4-42e1-ad52-33d8e08c849f",
   "metadata": {},
   "source": [
    "# Missing values\n",
    "# Based on team meeting/client didcussion we will need to perfrome accordingly"
   ]
  },
  {
   "cell_type": "code",
   "execution_count": 27,
   "id": "7186bfa7-ac21-401d-b3c1-26f2e3af928c",
   "metadata": {},
   "outputs": [
    {
     "data": {
      "text/plain": [
       "customer_id     135080\n",
       "description       1454\n",
       "invoice_num          0\n",
       "stock_code           0\n",
       "quantity             0\n",
       "invoice_date         0\n",
       "unit_price           0\n",
       "country              0\n",
       "dtype: int64"
      ]
     },
     "execution_count": 27,
     "metadata": {},
     "output_type": "execute_result"
    }
   ],
   "source": [
    "df.isnull().sum().sort_values(ascending = False)"
   ]
  },
  {
   "cell_type": "code",
   "execution_count": 28,
   "id": "dcf068ff-d8ac-4fc7-abeb-a6f920c043d9",
   "metadata": {},
   "outputs": [],
   "source": [
    "d = df.isnull().sum()"
   ]
  },
  {
   "cell_type": "code",
   "execution_count": 29,
   "id": "eaec238c-c53b-430c-9452-340d1f0d0076",
   "metadata": {},
   "outputs": [
    {
     "data": {
      "text/plain": [
       "invoice_num      0.00\n",
       "stock_code       0.00\n",
       "description      0.27\n",
       "quantity         0.00\n",
       "invoice_date     0.00\n",
       "unit_price       0.00\n",
       "customer_id     24.93\n",
       "country          0.00\n",
       "dtype: float64"
      ]
     },
     "execution_count": 29,
     "metadata": {},
     "output_type": "execute_result"
    }
   ],
   "source": [
    "p = (d*100)/len(df)\n",
    "p.round(2)"
   ]
  },
  {
   "cell_type": "markdown",
   "id": "956f09db-2535-4686-94d1-37383b149e01",
   "metadata": {},
   "source": [
    "  # Dropping the missing values"
   ]
  },
  {
   "cell_type": "code",
   "execution_count": 30,
   "id": "2eb64e83-9db3-4c31-949f-338868b38255",
   "metadata": {},
   "outputs": [],
   "source": [
    " df_new = df.dropna()"
   ]
  },
  {
   "cell_type": "markdown",
   "id": "b787ddee-5c49-4e9c-aafb-ee413d4245cf",
   "metadata": {},
   "source": [
    "# After droping missing values then assing in new variable and chacking  missing values"
   ]
  },
  {
   "cell_type": "code",
   "execution_count": 31,
   "id": "67a4b720-4863-40e3-a50e-1cfa7a506d65",
   "metadata": {},
   "outputs": [
    {
     "data": {
      "text/plain": [
       "invoice_num     0\n",
       "stock_code      0\n",
       "description     0\n",
       "quantity        0\n",
       "invoice_date    0\n",
       "unit_price      0\n",
       "customer_id     0\n",
       "country         0\n",
       "dtype: int64"
      ]
     },
     "execution_count": 31,
     "metadata": {},
     "output_type": "execute_result"
    }
   ],
   "source": [
    "df_new.isnull().sum()"
   ]
  },
  {
   "cell_type": "code",
   "execution_count": 32,
   "id": "56640005-50b7-4a56-9b45-07f328284ddc",
   "metadata": {},
   "outputs": [
    {
     "data": {
      "text/plain": [
       "(406829, 8)"
      ]
     },
     "execution_count": 32,
     "metadata": {},
     "output_type": "execute_result"
    }
   ],
   "source": [
    "  df_new.shape"
   ]
  },
  {
   "cell_type": "code",
   "execution_count": 33,
   "id": "9e6ccf53-c766-4650-8828-7071744faf6b",
   "metadata": {},
   "outputs": [
    {
     "data": {
      "text/plain": [
       "(541909, 8)"
      ]
     },
     "execution_count": 33,
     "metadata": {},
     "output_type": "execute_result"
    }
   ],
   "source": [
    "df.shape"
   ]
  },
  {
   "cell_type": "markdown",
   "id": "340ff232-4e9d-4b57-a903-bb92bb1ad2d5",
   "metadata": {},
   "source": [
    " #  New DataFrame information"
   ]
  },
  {
   "cell_type": "code",
   "execution_count": 34,
   "id": "c60d675a-1039-4437-a0a7-d3e57833512f",
   "metadata": {},
   "outputs": [
    {
     "name": "stdout",
     "output_type": "stream",
     "text": [
      "<class 'pandas.core.frame.DataFrame'>\n",
      "Index: 406829 entries, 0 to 541908\n",
      "Data columns (total 8 columns):\n",
      " #   Column        Non-Null Count   Dtype         \n",
      "---  ------        --------------   -----         \n",
      " 0   invoice_num   406829 non-null  object        \n",
      " 1   stock_code    406829 non-null  object        \n",
      " 2   description   406829 non-null  object        \n",
      " 3   quantity      406829 non-null  int64         \n",
      " 4   invoice_date  406829 non-null  datetime64[ns]\n",
      " 5   unit_price    406829 non-null  float64       \n",
      " 6   customer_id   406829 non-null  float64       \n",
      " 7   country       406829 non-null  object        \n",
      "dtypes: datetime64[ns](1), float64(2), int64(1), object(4)\n",
      "memory usage: 27.9+ MB\n"
     ]
    }
   ],
   "source": [
    "df_new.info()"
   ]
  },
  {
   "cell_type": "code",
   "execution_count": 35,
   "id": "1407453c-fd6a-4d3e-af59-fb6116ca8938",
   "metadata": {},
   "outputs": [
    {
     "data": {
      "text/html": [
       "<div>\n",
       "<style scoped>\n",
       "    .dataframe tbody tr th:only-of-type {\n",
       "        vertical-align: middle;\n",
       "    }\n",
       "\n",
       "    .dataframe tbody tr th {\n",
       "        vertical-align: top;\n",
       "    }\n",
       "\n",
       "    .dataframe thead th {\n",
       "        text-align: right;\n",
       "    }\n",
       "</style>\n",
       "<table border=\"1\" class=\"dataframe\">\n",
       "  <thead>\n",
       "    <tr style=\"text-align: right;\">\n",
       "      <th></th>\n",
       "      <th>invoice_num</th>\n",
       "      <th>stock_code</th>\n",
       "      <th>description</th>\n",
       "      <th>quantity</th>\n",
       "      <th>invoice_date</th>\n",
       "      <th>unit_price</th>\n",
       "      <th>customer_id</th>\n",
       "      <th>country</th>\n",
       "    </tr>\n",
       "  </thead>\n",
       "  <tbody>\n",
       "    <tr>\n",
       "      <th>0</th>\n",
       "      <td>536365</td>\n",
       "      <td>85123A</td>\n",
       "      <td>white hanging heart t-light holder</td>\n",
       "      <td>6</td>\n",
       "      <td>2010-12-01 08:26:00</td>\n",
       "      <td>2.55</td>\n",
       "      <td>17850.0</td>\n",
       "      <td>United Kingdom</td>\n",
       "    </tr>\n",
       "    <tr>\n",
       "      <th>1</th>\n",
       "      <td>536365</td>\n",
       "      <td>71053</td>\n",
       "      <td>white metal lantern</td>\n",
       "      <td>6</td>\n",
       "      <td>2010-12-01 08:26:00</td>\n",
       "      <td>3.39</td>\n",
       "      <td>17850.0</td>\n",
       "      <td>United Kingdom</td>\n",
       "    </tr>\n",
       "    <tr>\n",
       "      <th>2</th>\n",
       "      <td>536365</td>\n",
       "      <td>84406B</td>\n",
       "      <td>cream cupid hearts coat hanger</td>\n",
       "      <td>8</td>\n",
       "      <td>2010-12-01 08:26:00</td>\n",
       "      <td>2.75</td>\n",
       "      <td>17850.0</td>\n",
       "      <td>United Kingdom</td>\n",
       "    </tr>\n",
       "  </tbody>\n",
       "</table>\n",
       "</div>"
      ],
      "text/plain": [
       "  invoice_num stock_code                         description  quantity  \\\n",
       "0      536365     85123A  white hanging heart t-light holder         6   \n",
       "1      536365      71053                 white metal lantern         6   \n",
       "2      536365     84406B      cream cupid hearts coat hanger         8   \n",
       "\n",
       "         invoice_date  unit_price  customer_id         country  \n",
       "0 2010-12-01 08:26:00        2.55      17850.0  United Kingdom  \n",
       "1 2010-12-01 08:26:00        3.39      17850.0  United Kingdom  \n",
       "2 2010-12-01 08:26:00        2.75      17850.0  United Kingdom  "
      ]
     },
     "execution_count": 35,
     "metadata": {},
     "output_type": "execute_result"
    }
   ],
   "source": [
    "df_new.head(3)"
   ]
  },
  {
   "cell_type": "markdown",
   "id": "761c1b2c-f0c3-44eb-a8ac-0622caab629a",
   "metadata": {},
   "source": [
    "# Check type of cust_id data type"
   ]
  },
  {
   "cell_type": "code",
   "execution_count": 36,
   "id": "8130ae56-ac10-4e9f-a66d-8b0a87b47ad6",
   "metadata": {},
   "outputs": [
    {
     "data": {
      "text/plain": [
       "invoice_num             object\n",
       "stock_code              object\n",
       "description             object\n",
       "quantity                 int64\n",
       "invoice_date    datetime64[ns]\n",
       "unit_price             float64\n",
       "customer_id            float64\n",
       "country                 object\n",
       "dtype: object"
      ]
     },
     "execution_count": 36,
     "metadata": {},
     "output_type": "execute_result"
    }
   ],
   "source": [
    "df_new.dtypes"
   ]
  },
  {
   "cell_type": "markdown",
   "id": "041df766-d14a-4c3a-8539-9857825b6ee8",
   "metadata": {},
   "source": [
    "# Converting cust_id float type into integer type"
   ]
  },
  {
   "cell_type": "code",
   "execution_count": 37,
   "id": "02137e62-e51c-4402-95a1-e79fe3e5d1b9",
   "metadata": {},
   "outputs": [
    {
     "data": {
      "text/plain": [
       "0         17850.0\n",
       "1         17850.0\n",
       "2         17850.0\n",
       "3         17850.0\n",
       "4         17850.0\n",
       "           ...   \n",
       "541904    12680.0\n",
       "541905    12680.0\n",
       "541906    12680.0\n",
       "541907    12680.0\n",
       "541908    12680.0\n",
       "Name: customer_id, Length: 406829, dtype: float64"
      ]
     },
     "execution_count": 37,
     "metadata": {},
     "output_type": "execute_result"
    }
   ],
   "source": [
    " df_new[\"customer_id\"]"
   ]
  },
  {
   "cell_type": "markdown",
   "id": "9fb2f35e-d3ee-4185-9574-a5d6f02fef9c",
   "metadata": {},
   "source": [
    "# How to hide warnings in jupyter notebook"
   ]
  },
  {
   "cell_type": "code",
   "execution_count": 38,
   "id": "138cb940-2d99-452c-809d-589fda4e592a",
   "metadata": {},
   "outputs": [],
   "source": [
    "import warnings\n",
    "warnings.filterwarnings('ignore')"
   ]
  },
  {
   "cell_type": "code",
   "execution_count": 39,
   "id": "ca097826-4d13-4b0b-a343-e413ef6dd91f",
   "metadata": {},
   "outputs": [],
   "source": [
    " df_new[\"customer_id\"] = df_new[\"customer_id\"].astype(\"int\")"
   ]
  },
  {
   "cell_type": "code",
   "execution_count": 40,
   "id": "e80efcd1-648e-406c-97c9-4af803a4ee9a",
   "metadata": {},
   "outputs": [
    {
     "data": {
      "text/plain": [
       "0         17850\n",
       "1         17850\n",
       "2         17850\n",
       "3         17850\n",
       "4         17850\n",
       "          ...  \n",
       "541904    12680\n",
       "541905    12680\n",
       "541906    12680\n",
       "541907    12680\n",
       "541908    12680\n",
       "Name: customer_id, Length: 406829, dtype: int32"
      ]
     },
     "execution_count": 40,
     "metadata": {},
     "output_type": "execute_result"
    }
   ],
   "source": [
    " df_new[\"customer_id\"]"
   ]
  },
  {
   "cell_type": "code",
   "execution_count": 41,
   "id": "6a97a3d9-a402-43df-b940-6e9de0149d0b",
   "metadata": {},
   "outputs": [
    {
     "data": {
      "text/plain": [
       "invoice_num             object\n",
       "stock_code              object\n",
       "description             object\n",
       "quantity                 int64\n",
       "invoice_date    datetime64[ns]\n",
       "unit_price             float64\n",
       "customer_id              int32\n",
       "country                 object\n",
       "dtype: object"
      ]
     },
     "execution_count": 41,
     "metadata": {},
     "output_type": "execute_result"
    }
   ],
   "source": [
    "df_new.dtypes"
   ]
  },
  {
   "cell_type": "markdown",
   "id": "46315584-31fe-411a-b8a3-b748c8f50c4a",
   "metadata": {},
   "source": [
    "# DataFrame description"
   ]
  },
  {
   "cell_type": "code",
   "execution_count": 42,
   "id": "cbfd098a-0b29-4990-a612-06acd4783721",
   "metadata": {},
   "outputs": [
    {
     "data": {
      "text/html": [
       "<div>\n",
       "<style scoped>\n",
       "    .dataframe tbody tr th:only-of-type {\n",
       "        vertical-align: middle;\n",
       "    }\n",
       "\n",
       "    .dataframe tbody tr th {\n",
       "        vertical-align: top;\n",
       "    }\n",
       "\n",
       "    .dataframe thead th {\n",
       "        text-align: right;\n",
       "    }\n",
       "</style>\n",
       "<table border=\"1\" class=\"dataframe\">\n",
       "  <thead>\n",
       "    <tr style=\"text-align: right;\">\n",
       "      <th></th>\n",
       "      <th>quantity</th>\n",
       "      <th>invoice_date</th>\n",
       "      <th>unit_price</th>\n",
       "      <th>customer_id</th>\n",
       "    </tr>\n",
       "  </thead>\n",
       "  <tbody>\n",
       "    <tr>\n",
       "      <th>count</th>\n",
       "      <td>406829.000000</td>\n",
       "      <td>406829</td>\n",
       "      <td>406829.000000</td>\n",
       "      <td>406829.000000</td>\n",
       "    </tr>\n",
       "    <tr>\n",
       "      <th>mean</th>\n",
       "      <td>12.061303</td>\n",
       "      <td>2011-07-10 16:30:57.879207424</td>\n",
       "      <td>3.460471</td>\n",
       "      <td>15287.690570</td>\n",
       "    </tr>\n",
       "    <tr>\n",
       "      <th>min</th>\n",
       "      <td>-80995.000000</td>\n",
       "      <td>2010-12-01 08:26:00</td>\n",
       "      <td>0.000000</td>\n",
       "      <td>12346.000000</td>\n",
       "    </tr>\n",
       "    <tr>\n",
       "      <th>25%</th>\n",
       "      <td>2.000000</td>\n",
       "      <td>2011-04-06 15:02:00</td>\n",
       "      <td>1.250000</td>\n",
       "      <td>13953.000000</td>\n",
       "    </tr>\n",
       "    <tr>\n",
       "      <th>50%</th>\n",
       "      <td>5.000000</td>\n",
       "      <td>2011-07-31 11:48:00</td>\n",
       "      <td>1.950000</td>\n",
       "      <td>15152.000000</td>\n",
       "    </tr>\n",
       "    <tr>\n",
       "      <th>75%</th>\n",
       "      <td>12.000000</td>\n",
       "      <td>2011-10-20 13:06:00</td>\n",
       "      <td>3.750000</td>\n",
       "      <td>16791.000000</td>\n",
       "    </tr>\n",
       "    <tr>\n",
       "      <th>max</th>\n",
       "      <td>80995.000000</td>\n",
       "      <td>2011-12-09 12:50:00</td>\n",
       "      <td>38970.000000</td>\n",
       "      <td>18287.000000</td>\n",
       "    </tr>\n",
       "    <tr>\n",
       "      <th>std</th>\n",
       "      <td>248.693370</td>\n",
       "      <td>NaN</td>\n",
       "      <td>69.315162</td>\n",
       "      <td>1713.600303</td>\n",
       "    </tr>\n",
       "  </tbody>\n",
       "</table>\n",
       "</div>"
      ],
      "text/plain": [
       "            quantity                   invoice_date     unit_price  \\\n",
       "count  406829.000000                         406829  406829.000000   \n",
       "mean       12.061303  2011-07-10 16:30:57.879207424       3.460471   \n",
       "min    -80995.000000            2010-12-01 08:26:00       0.000000   \n",
       "25%         2.000000            2011-04-06 15:02:00       1.250000   \n",
       "50%         5.000000            2011-07-31 11:48:00       1.950000   \n",
       "75%        12.000000            2011-10-20 13:06:00       3.750000   \n",
       "max     80995.000000            2011-12-09 12:50:00   38970.000000   \n",
       "std       248.693370                            NaN      69.315162   \n",
       "\n",
       "         customer_id  \n",
       "count  406829.000000  \n",
       "mean    15287.690570  \n",
       "min     12346.000000  \n",
       "25%     13953.000000  \n",
       "50%     15152.000000  \n",
       "75%     16791.000000  \n",
       "max     18287.000000  \n",
       "std      1713.600303  "
      ]
     },
     "execution_count": 42,
     "metadata": {},
     "output_type": "execute_result"
    }
   ],
   "source": [
    "df_new.describe()"
   ]
  },
  {
   "cell_type": "markdown",
   "id": "7f4552ff-d369-422a-ae21-9e0954514976",
   "metadata": {},
   "source": [
    "# Rounding the values inDataFrame"
   ]
  },
  {
   "cell_type": "code",
   "execution_count": 43,
   "id": "3d291e98-33eb-46f9-ad65-0d3e070a79b7",
   "metadata": {},
   "outputs": [
    {
     "data": {
      "text/html": [
       "<div>\n",
       "<style scoped>\n",
       "    .dataframe tbody tr th:only-of-type {\n",
       "        vertical-align: middle;\n",
       "    }\n",
       "\n",
       "    .dataframe tbody tr th {\n",
       "        vertical-align: top;\n",
       "    }\n",
       "\n",
       "    .dataframe thead th {\n",
       "        text-align: right;\n",
       "    }\n",
       "</style>\n",
       "<table border=\"1\" class=\"dataframe\">\n",
       "  <thead>\n",
       "    <tr style=\"text-align: right;\">\n",
       "      <th></th>\n",
       "      <th>quantity</th>\n",
       "      <th>invoice_date</th>\n",
       "      <th>unit_price</th>\n",
       "      <th>customer_id</th>\n",
       "    </tr>\n",
       "  </thead>\n",
       "  <tbody>\n",
       "    <tr>\n",
       "      <th>count</th>\n",
       "      <td>406829.00</td>\n",
       "      <td>406829</td>\n",
       "      <td>406829.00</td>\n",
       "      <td>406829.00</td>\n",
       "    </tr>\n",
       "    <tr>\n",
       "      <th>mean</th>\n",
       "      <td>12.06</td>\n",
       "      <td>2011-07-10 16:30:57.879207424</td>\n",
       "      <td>3.46</td>\n",
       "      <td>15287.69</td>\n",
       "    </tr>\n",
       "    <tr>\n",
       "      <th>min</th>\n",
       "      <td>-80995.00</td>\n",
       "      <td>2010-12-01 08:26:00</td>\n",
       "      <td>0.00</td>\n",
       "      <td>12346.00</td>\n",
       "    </tr>\n",
       "    <tr>\n",
       "      <th>25%</th>\n",
       "      <td>2.00</td>\n",
       "      <td>2011-04-06 15:02:00</td>\n",
       "      <td>1.25</td>\n",
       "      <td>13953.00</td>\n",
       "    </tr>\n",
       "    <tr>\n",
       "      <th>50%</th>\n",
       "      <td>5.00</td>\n",
       "      <td>2011-07-31 11:48:00</td>\n",
       "      <td>1.95</td>\n",
       "      <td>15152.00</td>\n",
       "    </tr>\n",
       "    <tr>\n",
       "      <th>75%</th>\n",
       "      <td>12.00</td>\n",
       "      <td>2011-10-20 13:06:00</td>\n",
       "      <td>3.75</td>\n",
       "      <td>16791.00</td>\n",
       "    </tr>\n",
       "    <tr>\n",
       "      <th>max</th>\n",
       "      <td>80995.00</td>\n",
       "      <td>2011-12-09 12:50:00</td>\n",
       "      <td>38970.00</td>\n",
       "      <td>18287.00</td>\n",
       "    </tr>\n",
       "    <tr>\n",
       "      <th>std</th>\n",
       "      <td>248.69</td>\n",
       "      <td>NaN</td>\n",
       "      <td>69.32</td>\n",
       "      <td>1713.60</td>\n",
       "    </tr>\n",
       "  </tbody>\n",
       "</table>\n",
       "</div>"
      ],
      "text/plain": [
       "        quantity                   invoice_date  unit_price  customer_id\n",
       "count  406829.00                         406829   406829.00    406829.00\n",
       "mean       12.06  2011-07-10 16:30:57.879207424        3.46     15287.69\n",
       "min    -80995.00            2010-12-01 08:26:00        0.00     12346.00\n",
       "25%         2.00            2011-04-06 15:02:00        1.25     13953.00\n",
       "50%         5.00            2011-07-31 11:48:00        1.95     15152.00\n",
       "75%        12.00            2011-10-20 13:06:00        3.75     16791.00\n",
       "max     80995.00            2011-12-09 12:50:00    38970.00     18287.00\n",
       "std       248.69                            NaN       69.32      1713.60"
      ]
     },
     "execution_count": 43,
     "metadata": {},
     "output_type": "execute_result"
    }
   ],
   "source": [
    "df_new.describe().round(2)"
   ]
  },
  {
   "cell_type": "markdown",
   "id": "a3e75e36-23c1-4ae4-81f3-d8be4e17102b",
   "metadata": {},
   "source": [
    "# Let us do some analysis\n",
    "\n",
    "# Conclusion is:quantity column having negative number\n",
    "\n",
    "# So, we need to remove/delete nagative values \n",
    "\n",
    "# Example to delete nagative values from list object"
   ]
  },
  {
   "cell_type": "code",
   "execution_count": 44,
   "id": "84d2088c-3682-44c6-b190-c59b08e2565a",
   "metadata": {},
   "outputs": [],
   "source": [
    "values = [1, 2, 3, -4, -5, 6, 7, 8, -9, 10]"
   ]
  },
  {
   "cell_type": "code",
   "execution_count": 45,
   "id": "64cbab3c-4f63-4d53-9225-cdd87186543a",
   "metadata": {},
   "outputs": [
    {
     "name": "stdout",
     "output_type": "stream",
     "text": [
      "1\n",
      "2\n",
      "3\n",
      "-4\n",
      "-5\n",
      "6\n",
      "7\n",
      "8\n",
      "-9\n",
      "10\n"
     ]
    }
   ],
   "source": [
    "for value in values:\n",
    "    print(value)"
   ]
  },
  {
   "cell_type": "code",
   "execution_count": 46,
   "id": "4478b8b7-7f7f-42f1-b86e-ba551bd01f38",
   "metadata": {},
   "outputs": [
    {
     "name": "stdout",
     "output_type": "stream",
     "text": [
      "1\n",
      "2\n",
      "3\n",
      "6\n",
      "7\n",
      "8\n",
      "10\n"
     ]
    }
   ],
   "source": [
    "for value in values:\n",
    "    if value >= 0:\n",
    "        print(value)"
   ]
  },
  {
   "cell_type": "markdown",
   "id": "a9efcde8-d5ef-4c3e-be1e-cf469c427bf8",
   "metadata": {},
   "source": [
    "# Remove negative values from quantity column"
   ]
  },
  {
   "cell_type": "code",
   "execution_count": 47,
   "id": "539d7522-6216-47da-aa26-7af2293ea578",
   "metadata": {},
   "outputs": [
    {
     "data": {
      "text/plain": [
       "0         True\n",
       "1         True\n",
       "2         True\n",
       "3         True\n",
       "4         True\n",
       "          ... \n",
       "541904    True\n",
       "541905    True\n",
       "541906    True\n",
       "541907    True\n",
       "541908    True\n",
       "Name: quantity, Length: 406829, dtype: bool"
      ]
     },
     "execution_count": 47,
     "metadata": {},
     "output_type": "execute_result"
    }
   ],
   "source": [
    "df_new.quantity > 0"
   ]
  },
  {
   "cell_type": "code",
   "execution_count": 48,
   "id": "c8c12592-9500-4148-81ae-306de928154d",
   "metadata": {},
   "outputs": [],
   "source": [
    "con = df_new.quantity > 0"
   ]
  },
  {
   "cell_type": "code",
   "execution_count": 49,
   "id": "1241095c-4e7e-4aec-8689-5905bc30d60b",
   "metadata": {},
   "outputs": [],
   "source": [
    "df_new = df_new[con]"
   ]
  },
  {
   "cell_type": "code",
   "execution_count": 50,
   "id": "12d28d1e-96d6-452c-acc9-3938a139c508",
   "metadata": {},
   "outputs": [
    {
     "data": {
      "text/html": [
       "<div>\n",
       "<style scoped>\n",
       "    .dataframe tbody tr th:only-of-type {\n",
       "        vertical-align: middle;\n",
       "    }\n",
       "\n",
       "    .dataframe tbody tr th {\n",
       "        vertical-align: top;\n",
       "    }\n",
       "\n",
       "    .dataframe thead th {\n",
       "        text-align: right;\n",
       "    }\n",
       "</style>\n",
       "<table border=\"1\" class=\"dataframe\">\n",
       "  <thead>\n",
       "    <tr style=\"text-align: right;\">\n",
       "      <th></th>\n",
       "      <th>quantity</th>\n",
       "      <th>invoice_date</th>\n",
       "      <th>unit_price</th>\n",
       "      <th>customer_id</th>\n",
       "    </tr>\n",
       "  </thead>\n",
       "  <tbody>\n",
       "    <tr>\n",
       "      <th>count</th>\n",
       "      <td>397924.00</td>\n",
       "      <td>397924</td>\n",
       "      <td>397924.00</td>\n",
       "      <td>397924.00</td>\n",
       "    </tr>\n",
       "    <tr>\n",
       "      <th>mean</th>\n",
       "      <td>13.02</td>\n",
       "      <td>2011-07-10 23:43:36.912475648</td>\n",
       "      <td>3.12</td>\n",
       "      <td>15294.32</td>\n",
       "    </tr>\n",
       "    <tr>\n",
       "      <th>min</th>\n",
       "      <td>1.00</td>\n",
       "      <td>2010-12-01 08:26:00</td>\n",
       "      <td>0.00</td>\n",
       "      <td>12346.00</td>\n",
       "    </tr>\n",
       "    <tr>\n",
       "      <th>25%</th>\n",
       "      <td>2.00</td>\n",
       "      <td>2011-04-07 11:12:00</td>\n",
       "      <td>1.25</td>\n",
       "      <td>13969.00</td>\n",
       "    </tr>\n",
       "    <tr>\n",
       "      <th>50%</th>\n",
       "      <td>6.00</td>\n",
       "      <td>2011-07-31 14:39:00</td>\n",
       "      <td>1.95</td>\n",
       "      <td>15159.00</td>\n",
       "    </tr>\n",
       "    <tr>\n",
       "      <th>75%</th>\n",
       "      <td>12.00</td>\n",
       "      <td>2011-10-20 14:33:00</td>\n",
       "      <td>3.75</td>\n",
       "      <td>16795.00</td>\n",
       "    </tr>\n",
       "    <tr>\n",
       "      <th>max</th>\n",
       "      <td>80995.00</td>\n",
       "      <td>2011-12-09 12:50:00</td>\n",
       "      <td>8142.75</td>\n",
       "      <td>18287.00</td>\n",
       "    </tr>\n",
       "    <tr>\n",
       "      <th>std</th>\n",
       "      <td>180.42</td>\n",
       "      <td>NaN</td>\n",
       "      <td>22.10</td>\n",
       "      <td>1713.17</td>\n",
       "    </tr>\n",
       "  </tbody>\n",
       "</table>\n",
       "</div>"
      ],
      "text/plain": [
       "        quantity                   invoice_date  unit_price  customer_id\n",
       "count  397924.00                         397924   397924.00    397924.00\n",
       "mean       13.02  2011-07-10 23:43:36.912475648        3.12     15294.32\n",
       "min         1.00            2010-12-01 08:26:00        0.00     12346.00\n",
       "25%         2.00            2011-04-07 11:12:00        1.25     13969.00\n",
       "50%         6.00            2011-07-31 14:39:00        1.95     15159.00\n",
       "75%        12.00            2011-10-20 14:33:00        3.75     16795.00\n",
       "max     80995.00            2011-12-09 12:50:00     8142.75     18287.00\n",
       "std       180.42                            NaN       22.10      1713.17"
      ]
     },
     "execution_count": 50,
     "metadata": {},
     "output_type": "execute_result"
    }
   ],
   "source": [
    "df_new.describe().round(2)"
   ]
  },
  {
   "cell_type": "markdown",
   "id": "30280f6f-684a-454b-bc5d-1644b5e86a0c",
   "metadata": {},
   "source": [
    "# Access initial Data"
   ]
  },
  {
   "cell_type": "code",
   "execution_count": 51,
   "id": "8b5fc600-cdd0-4463-aa9a-065043480842",
   "metadata": {},
   "outputs": [
    {
     "data": {
      "text/html": [
       "<div>\n",
       "<style scoped>\n",
       "    .dataframe tbody tr th:only-of-type {\n",
       "        vertical-align: middle;\n",
       "    }\n",
       "\n",
       "    .dataframe tbody tr th {\n",
       "        vertical-align: top;\n",
       "    }\n",
       "\n",
       "    .dataframe thead th {\n",
       "        text-align: right;\n",
       "    }\n",
       "</style>\n",
       "<table border=\"1\" class=\"dataframe\">\n",
       "  <thead>\n",
       "    <tr style=\"text-align: right;\">\n",
       "      <th></th>\n",
       "      <th>invoice_num</th>\n",
       "      <th>stock_code</th>\n",
       "      <th>description</th>\n",
       "      <th>quantity</th>\n",
       "      <th>invoice_date</th>\n",
       "      <th>unit_price</th>\n",
       "      <th>customer_id</th>\n",
       "      <th>country</th>\n",
       "    </tr>\n",
       "  </thead>\n",
       "  <tbody>\n",
       "    <tr>\n",
       "      <th>0</th>\n",
       "      <td>536365</td>\n",
       "      <td>85123A</td>\n",
       "      <td>white hanging heart t-light holder</td>\n",
       "      <td>6</td>\n",
       "      <td>2010-12-01 08:26:00</td>\n",
       "      <td>2.55</td>\n",
       "      <td>17850</td>\n",
       "      <td>United Kingdom</td>\n",
       "    </tr>\n",
       "    <tr>\n",
       "      <th>1</th>\n",
       "      <td>536365</td>\n",
       "      <td>71053</td>\n",
       "      <td>white metal lantern</td>\n",
       "      <td>6</td>\n",
       "      <td>2010-12-01 08:26:00</td>\n",
       "      <td>3.39</td>\n",
       "      <td>17850</td>\n",
       "      <td>United Kingdom</td>\n",
       "    </tr>\n",
       "    <tr>\n",
       "      <th>2</th>\n",
       "      <td>536365</td>\n",
       "      <td>84406B</td>\n",
       "      <td>cream cupid hearts coat hanger</td>\n",
       "      <td>8</td>\n",
       "      <td>2010-12-01 08:26:00</td>\n",
       "      <td>2.75</td>\n",
       "      <td>17850</td>\n",
       "      <td>United Kingdom</td>\n",
       "    </tr>\n",
       "    <tr>\n",
       "      <th>3</th>\n",
       "      <td>536365</td>\n",
       "      <td>84029G</td>\n",
       "      <td>knitted union flag hot water bottle</td>\n",
       "      <td>6</td>\n",
       "      <td>2010-12-01 08:26:00</td>\n",
       "      <td>3.39</td>\n",
       "      <td>17850</td>\n",
       "      <td>United Kingdom</td>\n",
       "    </tr>\n",
       "  </tbody>\n",
       "</table>\n",
       "</div>"
      ],
      "text/plain": [
       "  invoice_num stock_code                          description  quantity  \\\n",
       "0      536365     85123A   white hanging heart t-light holder         6   \n",
       "1      536365      71053                  white metal lantern         6   \n",
       "2      536365     84406B       cream cupid hearts coat hanger         8   \n",
       "3      536365     84029G  knitted union flag hot water bottle         6   \n",
       "\n",
       "         invoice_date  unit_price  customer_id         country  \n",
       "0 2010-12-01 08:26:00        2.55        17850  United Kingdom  \n",
       "1 2010-12-01 08:26:00        3.39        17850  United Kingdom  \n",
       "2 2010-12-01 08:26:00        2.75        17850  United Kingdom  \n",
       "3 2010-12-01 08:26:00        3.39        17850  United Kingdom  "
      ]
     },
     "execution_count": 51,
     "metadata": {},
     "output_type": "execute_result"
    }
   ],
   "source": [
    "df_new.head(4)"
   ]
  },
  {
   "cell_type": "markdown",
   "id": "4c219bde-92d3-4a2c-a90d-b3aedb6f9a63",
   "metadata": {},
   "source": [
    "# Checking total number of rows and columns"
   ]
  },
  {
   "cell_type": "code",
   "execution_count": 52,
   "id": "2e4bdec7-0c13-40c0-a7d4-690b02539edd",
   "metadata": {},
   "outputs": [
    {
     "data": {
      "text/plain": [
       "(397924, 8)"
      ]
     },
     "execution_count": 52,
     "metadata": {},
     "output_type": "execute_result"
    }
   ],
   "source": [
    "df_new.shape"
   ]
  },
  {
   "cell_type": "code",
   "execution_count": 53,
   "id": "8171f122-1003-4704-94fa-f1a84921e53a",
   "metadata": {},
   "outputs": [
    {
     "data": {
      "text/plain": [
       "(541909, 8)"
      ]
     },
     "execution_count": 53,
     "metadata": {},
     "output_type": "execute_result"
    }
   ],
   "source": [
    "df.shape"
   ]
  },
  {
   "cell_type": "markdown",
   "id": "3b3d385d-605d-4385-9c44-bf637f2aeefc",
   "metadata": {},
   "source": [
    "# Adding the column - amount_spent"
   ]
  },
  {
   "cell_type": "code",
   "execution_count": 54,
   "id": "d6f9266b-330a-431a-8679-280258d8cfbc",
   "metadata": {},
   "outputs": [],
   "source": [
    "df_new[\"amount_spend\"] = df_new[\"quantity\"] * df_new[\"unit_price\"]"
   ]
  },
  {
   "cell_type": "code",
   "execution_count": 55,
   "id": "28795703-1dae-4053-abcd-141f36832049",
   "metadata": {},
   "outputs": [
    {
     "data": {
      "text/plain": [
       "(397924, 9)"
      ]
     },
     "execution_count": 55,
     "metadata": {},
     "output_type": "execute_result"
    }
   ],
   "source": [
    "df_new.shape"
   ]
  },
  {
   "cell_type": "code",
   "execution_count": 56,
   "id": "4096c6f4-1d46-47fc-9705-d0fc4630aeaa",
   "metadata": {},
   "outputs": [
    {
     "data": {
      "text/html": [
       "<div>\n",
       "<style scoped>\n",
       "    .dataframe tbody tr th:only-of-type {\n",
       "        vertical-align: middle;\n",
       "    }\n",
       "\n",
       "    .dataframe tbody tr th {\n",
       "        vertical-align: top;\n",
       "    }\n",
       "\n",
       "    .dataframe thead th {\n",
       "        text-align: right;\n",
       "    }\n",
       "</style>\n",
       "<table border=\"1\" class=\"dataframe\">\n",
       "  <thead>\n",
       "    <tr style=\"text-align: right;\">\n",
       "      <th></th>\n",
       "      <th>invoice_num</th>\n",
       "      <th>stock_code</th>\n",
       "      <th>description</th>\n",
       "      <th>quantity</th>\n",
       "      <th>invoice_date</th>\n",
       "      <th>unit_price</th>\n",
       "      <th>customer_id</th>\n",
       "      <th>country</th>\n",
       "      <th>amount_spend</th>\n",
       "    </tr>\n",
       "  </thead>\n",
       "  <tbody>\n",
       "    <tr>\n",
       "      <th>0</th>\n",
       "      <td>536365</td>\n",
       "      <td>85123A</td>\n",
       "      <td>white hanging heart t-light holder</td>\n",
       "      <td>6</td>\n",
       "      <td>2010-12-01 08:26:00</td>\n",
       "      <td>2.55</td>\n",
       "      <td>17850</td>\n",
       "      <td>United Kingdom</td>\n",
       "      <td>15.30</td>\n",
       "    </tr>\n",
       "    <tr>\n",
       "      <th>1</th>\n",
       "      <td>536365</td>\n",
       "      <td>71053</td>\n",
       "      <td>white metal lantern</td>\n",
       "      <td>6</td>\n",
       "      <td>2010-12-01 08:26:00</td>\n",
       "      <td>3.39</td>\n",
       "      <td>17850</td>\n",
       "      <td>United Kingdom</td>\n",
       "      <td>20.34</td>\n",
       "    </tr>\n",
       "    <tr>\n",
       "      <th>2</th>\n",
       "      <td>536365</td>\n",
       "      <td>84406B</td>\n",
       "      <td>cream cupid hearts coat hanger</td>\n",
       "      <td>8</td>\n",
       "      <td>2010-12-01 08:26:00</td>\n",
       "      <td>2.75</td>\n",
       "      <td>17850</td>\n",
       "      <td>United Kingdom</td>\n",
       "      <td>22.00</td>\n",
       "    </tr>\n",
       "    <tr>\n",
       "      <th>3</th>\n",
       "      <td>536365</td>\n",
       "      <td>84029G</td>\n",
       "      <td>knitted union flag hot water bottle</td>\n",
       "      <td>6</td>\n",
       "      <td>2010-12-01 08:26:00</td>\n",
       "      <td>3.39</td>\n",
       "      <td>17850</td>\n",
       "      <td>United Kingdom</td>\n",
       "      <td>20.34</td>\n",
       "    </tr>\n",
       "  </tbody>\n",
       "</table>\n",
       "</div>"
      ],
      "text/plain": [
       "  invoice_num stock_code                          description  quantity  \\\n",
       "0      536365     85123A   white hanging heart t-light holder         6   \n",
       "1      536365      71053                  white metal lantern         6   \n",
       "2      536365     84406B       cream cupid hearts coat hanger         8   \n",
       "3      536365     84029G  knitted union flag hot water bottle         6   \n",
       "\n",
       "         invoice_date  unit_price  customer_id         country  amount_spend  \n",
       "0 2010-12-01 08:26:00        2.55        17850  United Kingdom         15.30  \n",
       "1 2010-12-01 08:26:00        3.39        17850  United Kingdom         20.34  \n",
       "2 2010-12-01 08:26:00        2.75        17850  United Kingdom         22.00  \n",
       "3 2010-12-01 08:26:00        3.39        17850  United Kingdom         20.34  "
      ]
     },
     "execution_count": 56,
     "metadata": {},
     "output_type": "execute_result"
    }
   ],
   "source": [
    "df_new.head(4)  "
   ]
  },
  {
   "cell_type": "code",
   "execution_count": 57,
   "id": "e1a86cdb-1c4b-450a-a5f9-bc0a20c7ee58",
   "metadata": {},
   "outputs": [
    {
     "data": {
      "text/plain": [
       "8911407.904"
      ]
     },
     "execution_count": 57,
     "metadata": {},
     "output_type": "execute_result"
    }
   ],
   "source": [
    "df_new[\"amount_spend\"].sum()"
   ]
  },
  {
   "cell_type": "code",
   "execution_count": 58,
   "id": "8f3dafba-964c-4b9f-9268-e2af71961f16",
   "metadata": {},
   "outputs": [
    {
     "data": {
      "text/plain": [
       "8911407.904"
      ]
     },
     "execution_count": 58,
     "metadata": {},
     "output_type": "execute_result"
    }
   ],
   "source": [
    "df_new.amount_spend.sum()"
   ]
  },
  {
   "cell_type": "markdown",
   "id": "61e9286f-775d-4210-9f54-846338696011",
   "metadata": {},
   "source": [
    "# Lets read the column name from DataFrame"
   ]
  },
  {
   "cell_type": "code",
   "execution_count": 59,
   "id": "1b91c256-950a-4691-bcf3-a2e35d0e773e",
   "metadata": {},
   "outputs": [
    {
     "name": "stdout",
     "output_type": "stream",
     "text": [
      "invoice_num\n",
      "stock_code\n",
      "description\n",
      "quantity\n",
      "invoice_date\n",
      "unit_price\n",
      "customer_id\n",
      "country\n",
      "amount_spend\n"
     ]
    }
   ],
   "source": [
    "for col in df_new.columns:\n",
    "    print(col)"
   ]
  },
  {
   "cell_type": "markdown",
   "id": "bc61f96c-0963-4f9a-9af1-0682d5101c78",
   "metadata": {},
   "source": [
    "# Rearranging columns for more readability"
   ]
  },
  {
   "cell_type": "code",
   "execution_count": 60,
   "id": "8faf56e3-aad5-40e2-8a2a-8879a6f1ebd4",
   "metadata": {},
   "outputs": [],
   "source": [
    "col_order = [\"invoice_num\", \"invoice_date\", \"stock_code\", \"description\", \"quantity\", \"unit_price\", \"amount_spend\", \"customer_id\", \"country\"]"
   ]
  },
  {
   "cell_type": "code",
   "execution_count": 61,
   "id": "c212ccc7-2701-4bbb-a5a8-8abee2aa31ad",
   "metadata": {},
   "outputs": [],
   "source": [
    "df_new =df_new[col_order]"
   ]
  },
  {
   "cell_type": "code",
   "execution_count": 62,
   "id": "594cbc78-3a45-4a6b-b31f-bb7fdd6151cf",
   "metadata": {},
   "outputs": [
    {
     "data": {
      "text/html": [
       "<div>\n",
       "<style scoped>\n",
       "    .dataframe tbody tr th:only-of-type {\n",
       "        vertical-align: middle;\n",
       "    }\n",
       "\n",
       "    .dataframe tbody tr th {\n",
       "        vertical-align: top;\n",
       "    }\n",
       "\n",
       "    .dataframe thead th {\n",
       "        text-align: right;\n",
       "    }\n",
       "</style>\n",
       "<table border=\"1\" class=\"dataframe\">\n",
       "  <thead>\n",
       "    <tr style=\"text-align: right;\">\n",
       "      <th></th>\n",
       "      <th>invoice_num</th>\n",
       "      <th>invoice_date</th>\n",
       "      <th>stock_code</th>\n",
       "      <th>description</th>\n",
       "      <th>quantity</th>\n",
       "      <th>unit_price</th>\n",
       "      <th>amount_spend</th>\n",
       "      <th>customer_id</th>\n",
       "      <th>country</th>\n",
       "    </tr>\n",
       "  </thead>\n",
       "  <tbody>\n",
       "    <tr>\n",
       "      <th>0</th>\n",
       "      <td>536365</td>\n",
       "      <td>2010-12-01 08:26:00</td>\n",
       "      <td>85123A</td>\n",
       "      <td>white hanging heart t-light holder</td>\n",
       "      <td>6</td>\n",
       "      <td>2.55</td>\n",
       "      <td>15.30</td>\n",
       "      <td>17850</td>\n",
       "      <td>United Kingdom</td>\n",
       "    </tr>\n",
       "    <tr>\n",
       "      <th>1</th>\n",
       "      <td>536365</td>\n",
       "      <td>2010-12-01 08:26:00</td>\n",
       "      <td>71053</td>\n",
       "      <td>white metal lantern</td>\n",
       "      <td>6</td>\n",
       "      <td>3.39</td>\n",
       "      <td>20.34</td>\n",
       "      <td>17850</td>\n",
       "      <td>United Kingdom</td>\n",
       "    </tr>\n",
       "    <tr>\n",
       "      <th>2</th>\n",
       "      <td>536365</td>\n",
       "      <td>2010-12-01 08:26:00</td>\n",
       "      <td>84406B</td>\n",
       "      <td>cream cupid hearts coat hanger</td>\n",
       "      <td>8</td>\n",
       "      <td>2.75</td>\n",
       "      <td>22.00</td>\n",
       "      <td>17850</td>\n",
       "      <td>United Kingdom</td>\n",
       "    </tr>\n",
       "    <tr>\n",
       "      <th>3</th>\n",
       "      <td>536365</td>\n",
       "      <td>2010-12-01 08:26:00</td>\n",
       "      <td>84029G</td>\n",
       "      <td>knitted union flag hot water bottle</td>\n",
       "      <td>6</td>\n",
       "      <td>3.39</td>\n",
       "      <td>20.34</td>\n",
       "      <td>17850</td>\n",
       "      <td>United Kingdom</td>\n",
       "    </tr>\n",
       "  </tbody>\n",
       "</table>\n",
       "</div>"
      ],
      "text/plain": [
       "  invoice_num        invoice_date stock_code  \\\n",
       "0      536365 2010-12-01 08:26:00     85123A   \n",
       "1      536365 2010-12-01 08:26:00      71053   \n",
       "2      536365 2010-12-01 08:26:00     84406B   \n",
       "3      536365 2010-12-01 08:26:00     84029G   \n",
       "\n",
       "                           description  quantity  unit_price  amount_spend  \\\n",
       "0   white hanging heart t-light holder         6        2.55         15.30   \n",
       "1                  white metal lantern         6        3.39         20.34   \n",
       "2       cream cupid hearts coat hanger         8        2.75         22.00   \n",
       "3  knitted union flag hot water bottle         6        3.39         20.34   \n",
       "\n",
       "   customer_id         country  \n",
       "0        17850  United Kingdom  \n",
       "1        17850  United Kingdom  \n",
       "2        17850  United Kingdom  \n",
       "3        17850  United Kingdom  "
      ]
     },
     "execution_count": 62,
     "metadata": {},
     "output_type": "execute_result"
    }
   ],
   "source": [
    "df_new.head(4)"
   ]
  },
  {
   "cell_type": "markdown",
   "id": "de10f99f-e814-4551-8a16-a96fc40185f7",
   "metadata": {},
   "source": [
    "# Number of columns in Dataset"
   ]
  },
  {
   "cell_type": "code",
   "execution_count": 63,
   "id": "118f79e0-8f18-4ca0-878c-703f8c98360c",
   "metadata": {},
   "outputs": [
    {
     "data": {
      "text/plain": [
       "9"
      ]
     },
     "execution_count": 63,
     "metadata": {},
     "output_type": "execute_result"
    }
   ],
   "source": [
    "len(df_new.columns)"
   ]
  },
  {
   "cell_type": "markdown",
   "id": "d9a5a7ac-7a45-41c4-8aea-22b1e88676ed",
   "metadata": {},
   "source": [
    "# Accessing invoice_date column\n",
    "\n",
    "# Method - 1 to access column"
   ]
  },
  {
   "cell_type": "code",
   "execution_count": 64,
   "id": "8f88e912-4635-4a96-b0d2-ba17cd8f16d2",
   "metadata": {},
   "outputs": [
    {
     "data": {
      "text/plain": [
       "0        2010-12-01 08:26:00\n",
       "1        2010-12-01 08:26:00\n",
       "2        2010-12-01 08:26:00\n",
       "3        2010-12-01 08:26:00\n",
       "4        2010-12-01 08:26:00\n",
       "                 ...        \n",
       "541904   2011-12-09 12:50:00\n",
       "541905   2011-12-09 12:50:00\n",
       "541906   2011-12-09 12:50:00\n",
       "541907   2011-12-09 12:50:00\n",
       "541908   2011-12-09 12:50:00\n",
       "Name: invoice_date, Length: 397924, dtype: datetime64[ns]"
      ]
     },
     "execution_count": 64,
     "metadata": {},
     "output_type": "execute_result"
    }
   ],
   "source": [
    "df_new[\"invoice_date\"]"
   ]
  },
  {
   "cell_type": "code",
   "execution_count": 65,
   "id": "8407dada-69a5-442d-a8ac-455733671642",
   "metadata": {},
   "outputs": [
    {
     "data": {
      "text/plain": [
       "['invoice_num',\n",
       " 'stock_code',\n",
       " 'description',\n",
       " 'quantity',\n",
       " 'invoice_date',\n",
       " 'unit_price',\n",
       " 'customer_id',\n",
       " 'country']"
      ]
     },
     "execution_count": 65,
     "metadata": {},
     "output_type": "execute_result"
    }
   ],
   "source": [
    "df.columns.to_list()"
   ]
  },
  {
   "cell_type": "code",
   "execution_count": 66,
   "id": "3c780187-2595-4445-ab0b-f340ffff77a0",
   "metadata": {},
   "outputs": [
    {
     "data": {
      "text/plain": [
       "0        2010-12-01 08:26:00\n",
       "1        2010-12-01 08:26:00\n",
       "2        2010-12-01 08:26:00\n",
       "3        2010-12-01 08:26:00\n",
       "4        2010-12-01 08:26:00\n",
       "                 ...        \n",
       "541904   2011-12-09 12:50:00\n",
       "541905   2011-12-09 12:50:00\n",
       "541906   2011-12-09 12:50:00\n",
       "541907   2011-12-09 12:50:00\n",
       "541908   2011-12-09 12:50:00\n",
       "Name: invoice_date, Length: 397924, dtype: datetime64[ns]"
      ]
     },
     "execution_count": 66,
     "metadata": {},
     "output_type": "execute_result"
    }
   ],
   "source": [
    "df_new[\"invoice_date\"]"
   ]
  },
  {
   "cell_type": "markdown",
   "id": "5a496001-8718-4955-9e74-a53bdb75416c",
   "metadata": {},
   "source": [
    "# Accessing year value from invoice_date"
   ]
  },
  {
   "cell_type": "code",
   "execution_count": 67,
   "id": "be7c7cde-2ff7-4113-9ec9-41ef9d94c302",
   "metadata": {},
   "outputs": [
    {
     "data": {
      "text/plain": [
       "0         2010\n",
       "1         2010\n",
       "2         2010\n",
       "3         2010\n",
       "4         2010\n",
       "          ... \n",
       "541904    2011\n",
       "541905    2011\n",
       "541906    2011\n",
       "541907    2011\n",
       "541908    2011\n",
       "Name: invoice_date, Length: 397924, dtype: int32"
      ]
     },
     "execution_count": 67,
     "metadata": {},
     "output_type": "execute_result"
    }
   ],
   "source": [
    "df_new[\"invoice_date\"].dt.year"
   ]
  },
  {
   "cell_type": "markdown",
   "id": "23dececc-6656-4dcf-b0c9-dd11da6b0cd3",
   "metadata": {},
   "source": [
    "# Accessing month value from invoice_date"
   ]
  },
  {
   "cell_type": "code",
   "execution_count": 68,
   "id": "c8bfc855-6571-4e47-ad4e-cd210d316a30",
   "metadata": {},
   "outputs": [
    {
     "data": {
      "text/plain": [
       "0         12\n",
       "1         12\n",
       "2         12\n",
       "3         12\n",
       "4         12\n",
       "          ..\n",
       "541904    12\n",
       "541905    12\n",
       "541906    12\n",
       "541907    12\n",
       "541908    12\n",
       "Name: invoice_date, Length: 397924, dtype: int32"
      ]
     },
     "execution_count": 68,
     "metadata": {},
     "output_type": "execute_result"
    }
   ],
   "source": [
    "df_new[\"invoice_date\"].dt.month"
   ]
  },
  {
   "cell_type": "markdown",
   "id": "bc5bbf08-b45f-4b7f-8ad2-2c8077443a6f",
   "metadata": {},
   "source": [
    "# Access initial Data"
   ]
  },
  {
   "cell_type": "code",
   "execution_count": 69,
   "id": "3160592b-9916-4705-aa4b-2ea6326c8ff2",
   "metadata": {},
   "outputs": [
    {
     "data": {
      "text/html": [
       "<div>\n",
       "<style scoped>\n",
       "    .dataframe tbody tr th:only-of-type {\n",
       "        vertical-align: middle;\n",
       "    }\n",
       "\n",
       "    .dataframe tbody tr th {\n",
       "        vertical-align: top;\n",
       "    }\n",
       "\n",
       "    .dataframe thead th {\n",
       "        text-align: right;\n",
       "    }\n",
       "</style>\n",
       "<table border=\"1\" class=\"dataframe\">\n",
       "  <thead>\n",
       "    <tr style=\"text-align: right;\">\n",
       "      <th></th>\n",
       "      <th>invoice_num</th>\n",
       "      <th>invoice_date</th>\n",
       "      <th>stock_code</th>\n",
       "      <th>description</th>\n",
       "      <th>quantity</th>\n",
       "      <th>unit_price</th>\n",
       "      <th>amount_spend</th>\n",
       "      <th>customer_id</th>\n",
       "      <th>country</th>\n",
       "    </tr>\n",
       "  </thead>\n",
       "  <tbody>\n",
       "    <tr>\n",
       "      <th>0</th>\n",
       "      <td>False</td>\n",
       "      <td>False</td>\n",
       "      <td>False</td>\n",
       "      <td>False</td>\n",
       "      <td>False</td>\n",
       "      <td>False</td>\n",
       "      <td>False</td>\n",
       "      <td>False</td>\n",
       "      <td>False</td>\n",
       "    </tr>\n",
       "    <tr>\n",
       "      <th>1</th>\n",
       "      <td>False</td>\n",
       "      <td>False</td>\n",
       "      <td>False</td>\n",
       "      <td>False</td>\n",
       "      <td>False</td>\n",
       "      <td>False</td>\n",
       "      <td>False</td>\n",
       "      <td>False</td>\n",
       "      <td>False</td>\n",
       "    </tr>\n",
       "    <tr>\n",
       "      <th>2</th>\n",
       "      <td>False</td>\n",
       "      <td>False</td>\n",
       "      <td>False</td>\n",
       "      <td>False</td>\n",
       "      <td>False</td>\n",
       "      <td>False</td>\n",
       "      <td>False</td>\n",
       "      <td>False</td>\n",
       "      <td>False</td>\n",
       "    </tr>\n",
       "    <tr>\n",
       "      <th>3</th>\n",
       "      <td>False</td>\n",
       "      <td>False</td>\n",
       "      <td>False</td>\n",
       "      <td>False</td>\n",
       "      <td>False</td>\n",
       "      <td>False</td>\n",
       "      <td>False</td>\n",
       "      <td>False</td>\n",
       "      <td>False</td>\n",
       "    </tr>\n",
       "    <tr>\n",
       "      <th>4</th>\n",
       "      <td>False</td>\n",
       "      <td>False</td>\n",
       "      <td>False</td>\n",
       "      <td>False</td>\n",
       "      <td>False</td>\n",
       "      <td>False</td>\n",
       "      <td>False</td>\n",
       "      <td>False</td>\n",
       "      <td>False</td>\n",
       "    </tr>\n",
       "    <tr>\n",
       "      <th>...</th>\n",
       "      <td>...</td>\n",
       "      <td>...</td>\n",
       "      <td>...</td>\n",
       "      <td>...</td>\n",
       "      <td>...</td>\n",
       "      <td>...</td>\n",
       "      <td>...</td>\n",
       "      <td>...</td>\n",
       "      <td>...</td>\n",
       "    </tr>\n",
       "    <tr>\n",
       "      <th>541904</th>\n",
       "      <td>False</td>\n",
       "      <td>False</td>\n",
       "      <td>False</td>\n",
       "      <td>False</td>\n",
       "      <td>False</td>\n",
       "      <td>False</td>\n",
       "      <td>False</td>\n",
       "      <td>False</td>\n",
       "      <td>False</td>\n",
       "    </tr>\n",
       "    <tr>\n",
       "      <th>541905</th>\n",
       "      <td>False</td>\n",
       "      <td>False</td>\n",
       "      <td>False</td>\n",
       "      <td>False</td>\n",
       "      <td>False</td>\n",
       "      <td>False</td>\n",
       "      <td>False</td>\n",
       "      <td>False</td>\n",
       "      <td>False</td>\n",
       "    </tr>\n",
       "    <tr>\n",
       "      <th>541906</th>\n",
       "      <td>False</td>\n",
       "      <td>False</td>\n",
       "      <td>False</td>\n",
       "      <td>False</td>\n",
       "      <td>False</td>\n",
       "      <td>False</td>\n",
       "      <td>False</td>\n",
       "      <td>False</td>\n",
       "      <td>False</td>\n",
       "    </tr>\n",
       "    <tr>\n",
       "      <th>541907</th>\n",
       "      <td>False</td>\n",
       "      <td>False</td>\n",
       "      <td>False</td>\n",
       "      <td>False</td>\n",
       "      <td>False</td>\n",
       "      <td>False</td>\n",
       "      <td>False</td>\n",
       "      <td>False</td>\n",
       "      <td>False</td>\n",
       "    </tr>\n",
       "    <tr>\n",
       "      <th>541908</th>\n",
       "      <td>False</td>\n",
       "      <td>False</td>\n",
       "      <td>False</td>\n",
       "      <td>False</td>\n",
       "      <td>False</td>\n",
       "      <td>False</td>\n",
       "      <td>False</td>\n",
       "      <td>False</td>\n",
       "      <td>False</td>\n",
       "    </tr>\n",
       "  </tbody>\n",
       "</table>\n",
       "<p>397924 rows × 9 columns</p>\n",
       "</div>"
      ],
      "text/plain": [
       "        invoice_num  invoice_date  stock_code  description  quantity  \\\n",
       "0             False         False       False        False     False   \n",
       "1             False         False       False        False     False   \n",
       "2             False         False       False        False     False   \n",
       "3             False         False       False        False     False   \n",
       "4             False         False       False        False     False   \n",
       "...             ...           ...         ...          ...       ...   \n",
       "541904        False         False       False        False     False   \n",
       "541905        False         False       False        False     False   \n",
       "541906        False         False       False        False     False   \n",
       "541907        False         False       False        False     False   \n",
       "541908        False         False       False        False     False   \n",
       "\n",
       "        unit_price  amount_spend  customer_id  country  \n",
       "0            False         False        False    False  \n",
       "1            False         False        False    False  \n",
       "2            False         False        False    False  \n",
       "3            False         False        False    False  \n",
       "4            False         False        False    False  \n",
       "...            ...           ...          ...      ...  \n",
       "541904       False         False        False    False  \n",
       "541905       False         False        False    False  \n",
       "541906       False         False        False    False  \n",
       "541907       False         False        False    False  \n",
       "541908       False         False        False    False  \n",
       "\n",
       "[397924 rows x 9 columns]"
      ]
     },
     "execution_count": 69,
     "metadata": {},
     "output_type": "execute_result"
    }
   ],
   "source": [
    "df_new.isnull()"
   ]
  },
  {
   "cell_type": "markdown",
   "id": "fb6bff88-8977-45d7-aa34-93753545cbe1",
   "metadata": {},
   "source": [
    "# small calculation"
   ]
  },
  {
   "cell_type": "code",
   "execution_count": 70,
   "id": "5b9f5d13-f864-4652-ab92-e2786b73d84e",
   "metadata": {},
   "outputs": [],
   "source": [
    "y = 2010\n",
    "m = 12"
   ]
  },
  {
   "cell_type": "code",
   "execution_count": 71,
   "id": "6a6ee452-3b94-49da-8866-ff04cc03faad",
   "metadata": {},
   "outputs": [],
   "source": [
    "y_m = 100*2010+12"
   ]
  },
  {
   "cell_type": "code",
   "execution_count": 72,
   "id": "b24fc7a3-f49a-4504-bfd3-39613ac93f1c",
   "metadata": {},
   "outputs": [
    {
     "data": {
      "text/plain": [
       "201012"
      ]
     },
     "execution_count": 72,
     "metadata": {},
     "output_type": "execute_result"
    }
   ],
   "source": [
    "y_m"
   ]
  },
  {
   "cell_type": "code",
   "execution_count": 73,
   "id": "2c2b9659-c3db-4be9-85dd-d3e8bb5506d5",
   "metadata": {},
   "outputs": [],
   "source": [
    "c1 = \"year_month\""
   ]
  },
  {
   "cell_type": "code",
   "execution_count": 74,
   "id": "82c27736-1456-43b2-a5bd-b444bef43c9f",
   "metadata": {},
   "outputs": [],
   "source": [
    "v1 = df_new[\"invoice_date\"].map(lambda col:100*(col.year) + col.month) "
   ]
  },
  {
   "cell_type": "code",
   "execution_count": 75,
   "id": "da4c1467-ba82-4da5-bc38-eaff20a97ca3",
   "metadata": {},
   "outputs": [],
   "source": [
    "df_new.insert(loc = 2, column = c1, value = v1)"
   ]
  },
  {
   "cell_type": "code",
   "execution_count": 76,
   "id": "d9a1a46c-9213-4528-9145-d0f6850086e4",
   "metadata": {},
   "outputs": [
    {
     "data": {
      "text/html": [
       "<div>\n",
       "<style scoped>\n",
       "    .dataframe tbody tr th:only-of-type {\n",
       "        vertical-align: middle;\n",
       "    }\n",
       "\n",
       "    .dataframe tbody tr th {\n",
       "        vertical-align: top;\n",
       "    }\n",
       "\n",
       "    .dataframe thead th {\n",
       "        text-align: right;\n",
       "    }\n",
       "</style>\n",
       "<table border=\"1\" class=\"dataframe\">\n",
       "  <thead>\n",
       "    <tr style=\"text-align: right;\">\n",
       "      <th></th>\n",
       "      <th>invoice_num</th>\n",
       "      <th>invoice_date</th>\n",
       "      <th>year_month</th>\n",
       "      <th>stock_code</th>\n",
       "      <th>description</th>\n",
       "      <th>quantity</th>\n",
       "      <th>unit_price</th>\n",
       "      <th>amount_spend</th>\n",
       "      <th>customer_id</th>\n",
       "      <th>country</th>\n",
       "    </tr>\n",
       "  </thead>\n",
       "  <tbody>\n",
       "    <tr>\n",
       "      <th>0</th>\n",
       "      <td>536365</td>\n",
       "      <td>2010-12-01 08:26:00</td>\n",
       "      <td>201012</td>\n",
       "      <td>85123A</td>\n",
       "      <td>white hanging heart t-light holder</td>\n",
       "      <td>6</td>\n",
       "      <td>2.55</td>\n",
       "      <td>15.30</td>\n",
       "      <td>17850</td>\n",
       "      <td>United Kingdom</td>\n",
       "    </tr>\n",
       "    <tr>\n",
       "      <th>1</th>\n",
       "      <td>536365</td>\n",
       "      <td>2010-12-01 08:26:00</td>\n",
       "      <td>201012</td>\n",
       "      <td>71053</td>\n",
       "      <td>white metal lantern</td>\n",
       "      <td>6</td>\n",
       "      <td>3.39</td>\n",
       "      <td>20.34</td>\n",
       "      <td>17850</td>\n",
       "      <td>United Kingdom</td>\n",
       "    </tr>\n",
       "  </tbody>\n",
       "</table>\n",
       "</div>"
      ],
      "text/plain": [
       "  invoice_num        invoice_date  year_month stock_code  \\\n",
       "0      536365 2010-12-01 08:26:00      201012     85123A   \n",
       "1      536365 2010-12-01 08:26:00      201012      71053   \n",
       "\n",
       "                          description  quantity  unit_price  amount_spend  \\\n",
       "0  white hanging heart t-light holder         6        2.55         15.30   \n",
       "1                 white metal lantern         6        3.39         20.34   \n",
       "\n",
       "   customer_id         country  \n",
       "0        17850  United Kingdom  \n",
       "1        17850  United Kingdom  "
      ]
     },
     "execution_count": 76,
     "metadata": {},
     "output_type": "execute_result"
    }
   ],
   "source": [
    "df_new.head(2)"
   ]
  },
  {
   "cell_type": "markdown",
   "id": "aed4d97c-cc18-4fec-a1f7-34e8e250a350",
   "metadata": {},
   "source": [
    "# Adding month column to the exisint DataFrame"
   ]
  },
  {
   "cell_type": "code",
   "execution_count": 77,
   "id": "2f4b970f-eafd-4ee5-b177-d35e05956e2f",
   "metadata": {},
   "outputs": [],
   "source": [
    "c2 = \"month\""
   ]
  },
  {
   "cell_type": "code",
   "execution_count": 78,
   "id": "92d581e3-e811-405f-a04f-9ffe03ac798e",
   "metadata": {},
   "outputs": [],
   "source": [
    "v2 = df_new.invoice_date.dt.month"
   ]
  },
  {
   "cell_type": "code",
   "execution_count": 79,
   "id": "275e7ee0-ba7b-4d9b-9825-d19ecad817e5",
   "metadata": {},
   "outputs": [],
   "source": [
    "df_new.insert(loc = 3, column = c2, value = v2)"
   ]
  },
  {
   "cell_type": "code",
   "execution_count": 80,
   "id": "6c978f56-67b4-46f8-beb6-92a63293e40f",
   "metadata": {},
   "outputs": [
    {
     "data": {
      "text/html": [
       "<div>\n",
       "<style scoped>\n",
       "    .dataframe tbody tr th:only-of-type {\n",
       "        vertical-align: middle;\n",
       "    }\n",
       "\n",
       "    .dataframe tbody tr th {\n",
       "        vertical-align: top;\n",
       "    }\n",
       "\n",
       "    .dataframe thead th {\n",
       "        text-align: right;\n",
       "    }\n",
       "</style>\n",
       "<table border=\"1\" class=\"dataframe\">\n",
       "  <thead>\n",
       "    <tr style=\"text-align: right;\">\n",
       "      <th></th>\n",
       "      <th>invoice_num</th>\n",
       "      <th>invoice_date</th>\n",
       "      <th>year_month</th>\n",
       "      <th>month</th>\n",
       "      <th>stock_code</th>\n",
       "      <th>description</th>\n",
       "      <th>quantity</th>\n",
       "      <th>unit_price</th>\n",
       "      <th>amount_spend</th>\n",
       "      <th>customer_id</th>\n",
       "      <th>country</th>\n",
       "    </tr>\n",
       "  </thead>\n",
       "  <tbody>\n",
       "    <tr>\n",
       "      <th>0</th>\n",
       "      <td>536365</td>\n",
       "      <td>2010-12-01 08:26:00</td>\n",
       "      <td>201012</td>\n",
       "      <td>12</td>\n",
       "      <td>85123A</td>\n",
       "      <td>white hanging heart t-light holder</td>\n",
       "      <td>6</td>\n",
       "      <td>2.55</td>\n",
       "      <td>15.30</td>\n",
       "      <td>17850</td>\n",
       "      <td>United Kingdom</td>\n",
       "    </tr>\n",
       "    <tr>\n",
       "      <th>1</th>\n",
       "      <td>536365</td>\n",
       "      <td>2010-12-01 08:26:00</td>\n",
       "      <td>201012</td>\n",
       "      <td>12</td>\n",
       "      <td>71053</td>\n",
       "      <td>white metal lantern</td>\n",
       "      <td>6</td>\n",
       "      <td>3.39</td>\n",
       "      <td>20.34</td>\n",
       "      <td>17850</td>\n",
       "      <td>United Kingdom</td>\n",
       "    </tr>\n",
       "    <tr>\n",
       "      <th>2</th>\n",
       "      <td>536365</td>\n",
       "      <td>2010-12-01 08:26:00</td>\n",
       "      <td>201012</td>\n",
       "      <td>12</td>\n",
       "      <td>84406B</td>\n",
       "      <td>cream cupid hearts coat hanger</td>\n",
       "      <td>8</td>\n",
       "      <td>2.75</td>\n",
       "      <td>22.00</td>\n",
       "      <td>17850</td>\n",
       "      <td>United Kingdom</td>\n",
       "    </tr>\n",
       "  </tbody>\n",
       "</table>\n",
       "</div>"
      ],
      "text/plain": [
       "  invoice_num        invoice_date  year_month  month stock_code  \\\n",
       "0      536365 2010-12-01 08:26:00      201012     12     85123A   \n",
       "1      536365 2010-12-01 08:26:00      201012     12      71053   \n",
       "2      536365 2010-12-01 08:26:00      201012     12     84406B   \n",
       "\n",
       "                          description  quantity  unit_price  amount_spend  \\\n",
       "0  white hanging heart t-light holder         6        2.55         15.30   \n",
       "1                 white metal lantern         6        3.39         20.34   \n",
       "2      cream cupid hearts coat hanger         8        2.75         22.00   \n",
       "\n",
       "   customer_id         country  \n",
       "0        17850  United Kingdom  \n",
       "1        17850  United Kingdom  \n",
       "2        17850  United Kingdom  "
      ]
     },
     "execution_count": 80,
     "metadata": {},
     "output_type": "execute_result"
    }
   ],
   "source": [
    "df_new.head(3)"
   ]
  },
  {
   "cell_type": "code",
   "execution_count": 81,
   "id": "79bc80d5-29ee-49b7-a436-6ce4180b5469",
   "metadata": {},
   "outputs": [
    {
     "data": {
      "text/plain": [
       "(397924, 11)"
      ]
     },
     "execution_count": 81,
     "metadata": {},
     "output_type": "execute_result"
    }
   ],
   "source": [
    "df_new.shape"
   ]
  },
  {
   "cell_type": "code",
   "execution_count": 82,
   "id": "778190eb-21c2-41c7-9a5b-0af88b957710",
   "metadata": {},
   "outputs": [
    {
     "data": {
      "text/html": [
       "<div>\n",
       "<style scoped>\n",
       "    .dataframe tbody tr th:only-of-type {\n",
       "        vertical-align: middle;\n",
       "    }\n",
       "\n",
       "    .dataframe tbody tr th {\n",
       "        vertical-align: top;\n",
       "    }\n",
       "\n",
       "    .dataframe thead th {\n",
       "        text-align: right;\n",
       "    }\n",
       "</style>\n",
       "<table border=\"1\" class=\"dataframe\">\n",
       "  <thead>\n",
       "    <tr style=\"text-align: right;\">\n",
       "      <th></th>\n",
       "      <th>invoice_num</th>\n",
       "      <th>invoice_date</th>\n",
       "      <th>year_month</th>\n",
       "      <th>month</th>\n",
       "      <th>stock_code</th>\n",
       "      <th>description</th>\n",
       "      <th>quantity</th>\n",
       "      <th>unit_price</th>\n",
       "      <th>amount_spend</th>\n",
       "      <th>customer_id</th>\n",
       "      <th>country</th>\n",
       "    </tr>\n",
       "  </thead>\n",
       "  <tbody>\n",
       "    <tr>\n",
       "      <th>0</th>\n",
       "      <td>536365</td>\n",
       "      <td>2010-12-01 08:26:00</td>\n",
       "      <td>201012</td>\n",
       "      <td>12</td>\n",
       "      <td>85123A</td>\n",
       "      <td>white hanging heart t-light holder</td>\n",
       "      <td>6</td>\n",
       "      <td>2.55</td>\n",
       "      <td>15.30</td>\n",
       "      <td>17850</td>\n",
       "      <td>United Kingdom</td>\n",
       "    </tr>\n",
       "    <tr>\n",
       "      <th>1</th>\n",
       "      <td>536365</td>\n",
       "      <td>2010-12-01 08:26:00</td>\n",
       "      <td>201012</td>\n",
       "      <td>12</td>\n",
       "      <td>71053</td>\n",
       "      <td>white metal lantern</td>\n",
       "      <td>6</td>\n",
       "      <td>3.39</td>\n",
       "      <td>20.34</td>\n",
       "      <td>17850</td>\n",
       "      <td>United Kingdom</td>\n",
       "    </tr>\n",
       "    <tr>\n",
       "      <th>2</th>\n",
       "      <td>536365</td>\n",
       "      <td>2010-12-01 08:26:00</td>\n",
       "      <td>201012</td>\n",
       "      <td>12</td>\n",
       "      <td>84406B</td>\n",
       "      <td>cream cupid hearts coat hanger</td>\n",
       "      <td>8</td>\n",
       "      <td>2.75</td>\n",
       "      <td>22.00</td>\n",
       "      <td>17850</td>\n",
       "      <td>United Kingdom</td>\n",
       "    </tr>\n",
       "    <tr>\n",
       "      <th>3</th>\n",
       "      <td>536365</td>\n",
       "      <td>2010-12-01 08:26:00</td>\n",
       "      <td>201012</td>\n",
       "      <td>12</td>\n",
       "      <td>84029G</td>\n",
       "      <td>knitted union flag hot water bottle</td>\n",
       "      <td>6</td>\n",
       "      <td>3.39</td>\n",
       "      <td>20.34</td>\n",
       "      <td>17850</td>\n",
       "      <td>United Kingdom</td>\n",
       "    </tr>\n",
       "  </tbody>\n",
       "</table>\n",
       "</div>"
      ],
      "text/plain": [
       "  invoice_num        invoice_date  year_month  month stock_code  \\\n",
       "0      536365 2010-12-01 08:26:00      201012     12     85123A   \n",
       "1      536365 2010-12-01 08:26:00      201012     12      71053   \n",
       "2      536365 2010-12-01 08:26:00      201012     12     84406B   \n",
       "3      536365 2010-12-01 08:26:00      201012     12     84029G   \n",
       "\n",
       "                           description  quantity  unit_price  amount_spend  \\\n",
       "0   white hanging heart t-light holder         6        2.55         15.30   \n",
       "1                  white metal lantern         6        3.39         20.34   \n",
       "2       cream cupid hearts coat hanger         8        2.75         22.00   \n",
       "3  knitted union flag hot water bottle         6        3.39         20.34   \n",
       "\n",
       "   customer_id         country  \n",
       "0        17850  United Kingdom  \n",
       "1        17850  United Kingdom  \n",
       "2        17850  United Kingdom  \n",
       "3        17850  United Kingdom  "
      ]
     },
     "execution_count": 82,
     "metadata": {},
     "output_type": "execute_result"
    }
   ],
   "source": [
    "df_new.head(4)"
   ]
  },
  {
   "cell_type": "markdown",
   "id": "5a0ff36b-bc50-4e88-9c90-938d42a81c66",
   "metadata": {},
   "source": [
    "# Lets access invoice_date column"
   ]
  },
  {
   "cell_type": "code",
   "execution_count": 83,
   "id": "19bf6e52-5772-4268-b1b0-22bd5a0357ba",
   "metadata": {},
   "outputs": [
    {
     "data": {
      "text/plain": [
       "0        2010-12-01 08:26:00\n",
       "1        2010-12-01 08:26:00\n",
       "2        2010-12-01 08:26:00\n",
       "3        2010-12-01 08:26:00\n",
       "4        2010-12-01 08:26:00\n",
       "                 ...        \n",
       "541904   2011-12-09 12:50:00\n",
       "541905   2011-12-09 12:50:00\n",
       "541906   2011-12-09 12:50:00\n",
       "541907   2011-12-09 12:50:00\n",
       "541908   2011-12-09 12:50:00\n",
       "Name: invoice_date, Length: 397924, dtype: datetime64[ns]"
      ]
     },
     "execution_count": 83,
     "metadata": {},
     "output_type": "execute_result"
    }
   ],
   "source": [
    "df_new[\"invoice_date\"]"
   ]
  },
  {
   "cell_type": "markdown",
   "id": "19cd307e-778b-4b7a-9f44-7982a78a81e8",
   "metadata": {},
   "source": [
    "# We can get day of the week"
   ]
  },
  {
   "cell_type": "code",
   "execution_count": 84,
   "id": "dd113835-b038-45f4-ad00-fa146a243909",
   "metadata": {},
   "outputs": [
    {
     "data": {
      "text/plain": [
       "0         2\n",
       "1         2\n",
       "2         2\n",
       "3         2\n",
       "4         2\n",
       "         ..\n",
       "541904    4\n",
       "541905    4\n",
       "541906    4\n",
       "541907    4\n",
       "541908    4\n",
       "Name: invoice_date, Length: 397924, dtype: int32"
      ]
     },
     "execution_count": 84,
     "metadata": {},
     "output_type": "execute_result"
    }
   ],
   "source": [
    "df_new[\"invoice_date\"].dt.dayofweek"
   ]
  },
  {
   "cell_type": "markdown",
   "id": "1becfe18-5b4c-4398-b797-fc8a024aabea",
   "metadata": {},
   "source": [
    "# In pandas, the day fornate starts from 0 to 6\n",
    " Monday = 0 Tuesday = 1.... Sunday = 6\n",
    "\n",
    "# Apply +1 to make Monday = 1...until Sunday = 7 "
   ]
  },
  {
   "cell_type": "code",
   "execution_count": 85,
   "id": "c1705f9d-e4e2-4920-8bcc-82c0107061f3",
   "metadata": {},
   "outputs": [],
   "source": [
    "c3 = \"day\""
   ]
  },
  {
   "cell_type": "code",
   "execution_count": 86,
   "id": "bd13b54a-dec4-44da-8a00-4a9af87e1a0b",
   "metadata": {},
   "outputs": [],
   "source": [
    "v3 = (df_new[\"invoice_date\"].dt.dayofweek)+1"
   ]
  },
  {
   "cell_type": "code",
   "execution_count": 87,
   "id": "2a6281da-2f24-4dac-985a-06f77d64f488",
   "metadata": {},
   "outputs": [],
   "source": [
    "df_new.insert(loc = 4, column = c3, value = v3)"
   ]
  },
  {
   "cell_type": "code",
   "execution_count": 88,
   "id": "fe7232f8-a6cb-4cc4-a386-3f55d093f8b3",
   "metadata": {},
   "outputs": [
    {
     "data": {
      "text/html": [
       "<div>\n",
       "<style scoped>\n",
       "    .dataframe tbody tr th:only-of-type {\n",
       "        vertical-align: middle;\n",
       "    }\n",
       "\n",
       "    .dataframe tbody tr th {\n",
       "        vertical-align: top;\n",
       "    }\n",
       "\n",
       "    .dataframe thead th {\n",
       "        text-align: right;\n",
       "    }\n",
       "</style>\n",
       "<table border=\"1\" class=\"dataframe\">\n",
       "  <thead>\n",
       "    <tr style=\"text-align: right;\">\n",
       "      <th></th>\n",
       "      <th>invoice_num</th>\n",
       "      <th>invoice_date</th>\n",
       "      <th>year_month</th>\n",
       "      <th>month</th>\n",
       "      <th>day</th>\n",
       "      <th>stock_code</th>\n",
       "      <th>description</th>\n",
       "      <th>quantity</th>\n",
       "      <th>unit_price</th>\n",
       "      <th>amount_spend</th>\n",
       "      <th>customer_id</th>\n",
       "      <th>country</th>\n",
       "    </tr>\n",
       "  </thead>\n",
       "  <tbody>\n",
       "    <tr>\n",
       "      <th>0</th>\n",
       "      <td>536365</td>\n",
       "      <td>2010-12-01 08:26:00</td>\n",
       "      <td>201012</td>\n",
       "      <td>12</td>\n",
       "      <td>3</td>\n",
       "      <td>85123A</td>\n",
       "      <td>white hanging heart t-light holder</td>\n",
       "      <td>6</td>\n",
       "      <td>2.55</td>\n",
       "      <td>15.30</td>\n",
       "      <td>17850</td>\n",
       "      <td>United Kingdom</td>\n",
       "    </tr>\n",
       "    <tr>\n",
       "      <th>1</th>\n",
       "      <td>536365</td>\n",
       "      <td>2010-12-01 08:26:00</td>\n",
       "      <td>201012</td>\n",
       "      <td>12</td>\n",
       "      <td>3</td>\n",
       "      <td>71053</td>\n",
       "      <td>white metal lantern</td>\n",
       "      <td>6</td>\n",
       "      <td>3.39</td>\n",
       "      <td>20.34</td>\n",
       "      <td>17850</td>\n",
       "      <td>United Kingdom</td>\n",
       "    </tr>\n",
       "    <tr>\n",
       "      <th>2</th>\n",
       "      <td>536365</td>\n",
       "      <td>2010-12-01 08:26:00</td>\n",
       "      <td>201012</td>\n",
       "      <td>12</td>\n",
       "      <td>3</td>\n",
       "      <td>84406B</td>\n",
       "      <td>cream cupid hearts coat hanger</td>\n",
       "      <td>8</td>\n",
       "      <td>2.75</td>\n",
       "      <td>22.00</td>\n",
       "      <td>17850</td>\n",
       "      <td>United Kingdom</td>\n",
       "    </tr>\n",
       "  </tbody>\n",
       "</table>\n",
       "</div>"
      ],
      "text/plain": [
       "  invoice_num        invoice_date  year_month  month  day stock_code  \\\n",
       "0      536365 2010-12-01 08:26:00      201012     12    3     85123A   \n",
       "1      536365 2010-12-01 08:26:00      201012     12    3      71053   \n",
       "2      536365 2010-12-01 08:26:00      201012     12    3     84406B   \n",
       "\n",
       "                          description  quantity  unit_price  amount_spend  \\\n",
       "0  white hanging heart t-light holder         6        2.55         15.30   \n",
       "1                 white metal lantern         6        3.39         20.34   \n",
       "2      cream cupid hearts coat hanger         8        2.75         22.00   \n",
       "\n",
       "   customer_id         country  \n",
       "0        17850  United Kingdom  \n",
       "1        17850  United Kingdom  \n",
       "2        17850  United Kingdom  "
      ]
     },
     "execution_count": 88,
     "metadata": {},
     "output_type": "execute_result"
    }
   ],
   "source": [
    "df_new.head(3)"
   ]
  },
  {
   "cell_type": "markdown",
   "id": "c4820a06-6fe8-43d6-b69f-b81dbb1d2837",
   "metadata": {},
   "source": [
    "# Adding hour column to existing Dataframe"
   ]
  },
  {
   "cell_type": "code",
   "execution_count": 89,
   "id": "4403a655-a96b-47fb-bd09-8e1cdf902b96",
   "metadata": {},
   "outputs": [
    {
     "data": {
      "text/plain": [
       "0        2010-12-01 08:26:00\n",
       "1        2010-12-01 08:26:00\n",
       "2        2010-12-01 08:26:00\n",
       "3        2010-12-01 08:26:00\n",
       "4        2010-12-01 08:26:00\n",
       "                 ...        \n",
       "541904   2011-12-09 12:50:00\n",
       "541905   2011-12-09 12:50:00\n",
       "541906   2011-12-09 12:50:00\n",
       "541907   2011-12-09 12:50:00\n",
       "541908   2011-12-09 12:50:00\n",
       "Name: invoice_date, Length: 397924, dtype: datetime64[ns]"
      ]
     },
     "execution_count": 89,
     "metadata": {},
     "output_type": "execute_result"
    }
   ],
   "source": [
    "df_new.invoice_date"
   ]
  },
  {
   "cell_type": "code",
   "execution_count": 90,
   "id": "8d7b29b9-389e-4819-8410-92ff6c944abf",
   "metadata": {},
   "outputs": [],
   "source": [
    " # dir(df_new.invoice_date) "
   ]
  },
  {
   "cell_type": "code",
   "execution_count": 91,
   "id": "75b75556-268d-4e3b-a336-39490ed366b6",
   "metadata": {},
   "outputs": [],
   "source": [
    " # dir(df_new.invoice_date.dt) "
   ]
  },
  {
   "cell_type": "code",
   "execution_count": 92,
   "id": "cb866730-0a47-4f7b-ad66-a347332a6737",
   "metadata": {},
   "outputs": [],
   "source": [
    " # df_new.invoice_date.dt.hour "
   ]
  },
  {
   "cell_type": "code",
   "execution_count": 93,
   "id": "31c2c6eb-64ec-4e14-959a-9ca8a96b8c63",
   "metadata": {},
   "outputs": [],
   "source": [
    "c4 = \"hour\""
   ]
  },
  {
   "cell_type": "code",
   "execution_count": 94,
   "id": "25b6a7cd-5f4a-4e25-8512-f446bd5ae444",
   "metadata": {},
   "outputs": [],
   "source": [
    "v4 = df_new.invoice_date.dt.hour"
   ]
  },
  {
   "cell_type": "code",
   "execution_count": 95,
   "id": "80993cdc-4982-473f-9375-e3a6c7e2b3f7",
   "metadata": {},
   "outputs": [],
   "source": [
    "df_new.insert(loc = 5, column = c4, value = v4)"
   ]
  },
  {
   "cell_type": "code",
   "execution_count": 96,
   "id": "604bd8f0-4b90-456f-ac78-c11f1942849a",
   "metadata": {},
   "outputs": [
    {
     "data": {
      "text/html": [
       "<div>\n",
       "<style scoped>\n",
       "    .dataframe tbody tr th:only-of-type {\n",
       "        vertical-align: middle;\n",
       "    }\n",
       "\n",
       "    .dataframe tbody tr th {\n",
       "        vertical-align: top;\n",
       "    }\n",
       "\n",
       "    .dataframe thead th {\n",
       "        text-align: right;\n",
       "    }\n",
       "</style>\n",
       "<table border=\"1\" class=\"dataframe\">\n",
       "  <thead>\n",
       "    <tr style=\"text-align: right;\">\n",
       "      <th></th>\n",
       "      <th>invoice_num</th>\n",
       "      <th>invoice_date</th>\n",
       "      <th>year_month</th>\n",
       "      <th>month</th>\n",
       "      <th>day</th>\n",
       "      <th>hour</th>\n",
       "      <th>stock_code</th>\n",
       "      <th>description</th>\n",
       "      <th>quantity</th>\n",
       "      <th>unit_price</th>\n",
       "      <th>amount_spend</th>\n",
       "      <th>customer_id</th>\n",
       "      <th>country</th>\n",
       "    </tr>\n",
       "  </thead>\n",
       "  <tbody>\n",
       "    <tr>\n",
       "      <th>0</th>\n",
       "      <td>536365</td>\n",
       "      <td>2010-12-01 08:26:00</td>\n",
       "      <td>201012</td>\n",
       "      <td>12</td>\n",
       "      <td>3</td>\n",
       "      <td>8</td>\n",
       "      <td>85123A</td>\n",
       "      <td>white hanging heart t-light holder</td>\n",
       "      <td>6</td>\n",
       "      <td>2.55</td>\n",
       "      <td>15.30</td>\n",
       "      <td>17850</td>\n",
       "      <td>United Kingdom</td>\n",
       "    </tr>\n",
       "    <tr>\n",
       "      <th>1</th>\n",
       "      <td>536365</td>\n",
       "      <td>2010-12-01 08:26:00</td>\n",
       "      <td>201012</td>\n",
       "      <td>12</td>\n",
       "      <td>3</td>\n",
       "      <td>8</td>\n",
       "      <td>71053</td>\n",
       "      <td>white metal lantern</td>\n",
       "      <td>6</td>\n",
       "      <td>3.39</td>\n",
       "      <td>20.34</td>\n",
       "      <td>17850</td>\n",
       "      <td>United Kingdom</td>\n",
       "    </tr>\n",
       "    <tr>\n",
       "      <th>2</th>\n",
       "      <td>536365</td>\n",
       "      <td>2010-12-01 08:26:00</td>\n",
       "      <td>201012</td>\n",
       "      <td>12</td>\n",
       "      <td>3</td>\n",
       "      <td>8</td>\n",
       "      <td>84406B</td>\n",
       "      <td>cream cupid hearts coat hanger</td>\n",
       "      <td>8</td>\n",
       "      <td>2.75</td>\n",
       "      <td>22.00</td>\n",
       "      <td>17850</td>\n",
       "      <td>United Kingdom</td>\n",
       "    </tr>\n",
       "  </tbody>\n",
       "</table>\n",
       "</div>"
      ],
      "text/plain": [
       "  invoice_num        invoice_date  year_month  month  day  hour stock_code  \\\n",
       "0      536365 2010-12-01 08:26:00      201012     12    3     8     85123A   \n",
       "1      536365 2010-12-01 08:26:00      201012     12    3     8      71053   \n",
       "2      536365 2010-12-01 08:26:00      201012     12    3     8     84406B   \n",
       "\n",
       "                          description  quantity  unit_price  amount_spend  \\\n",
       "0  white hanging heart t-light holder         6        2.55         15.30   \n",
       "1                 white metal lantern         6        3.39         20.34   \n",
       "2      cream cupid hearts coat hanger         8        2.75         22.00   \n",
       "\n",
       "   customer_id         country  \n",
       "0        17850  United Kingdom  \n",
       "1        17850  United Kingdom  \n",
       "2        17850  United Kingdom  "
      ]
     },
     "execution_count": 96,
     "metadata": {},
     "output_type": "execute_result"
    }
   ],
   "source": [
    "df_new.head(3)"
   ]
  },
  {
   "cell_type": "code",
   "execution_count": null,
   "id": "4a85716c-7723-4e38-bafc-5a78992f6e49",
   "metadata": {},
   "outputs": [],
   "source": []
  },
  {
   "cell_type": "markdown",
   "id": "6730c44c-6959-40d4-83d3-f2bb34bf528c",
   "metadata": {},
   "source": [
    "# Lets display all columns onec"
   ]
  },
  {
   "cell_type": "code",
   "execution_count": 97,
   "id": "a6c4d24e-3215-4a55-8369-114f93741249",
   "metadata": {},
   "outputs": [
    {
     "data": {
      "text/plain": [
       "Index(['invoice_num', 'invoice_date', 'year_month', 'month', 'day', 'hour',\n",
       "       'stock_code', 'description', 'quantity', 'unit_price', 'amount_spend',\n",
       "       'customer_id', 'country'],\n",
       "      dtype='object')"
      ]
     },
     "execution_count": 97,
     "metadata": {},
     "output_type": "execute_result"
    }
   ],
   "source": [
    "df_new.columns"
   ]
  },
  {
   "cell_type": "code",
   "execution_count": 98,
   "id": "dd8cef9d-a1c4-4e9a-965f-fa5fc8389330",
   "metadata": {},
   "outputs": [
    {
     "data": {
      "text/plain": [
       "['invoice_num',\n",
       " 'invoice_date',\n",
       " 'year_month',\n",
       " 'month',\n",
       " 'day',\n",
       " 'hour',\n",
       " 'stock_code',\n",
       " 'description',\n",
       " 'quantity',\n",
       " 'unit_price',\n",
       " 'amount_spend',\n",
       " 'customer_id',\n",
       " 'country']"
      ]
     },
     "execution_count": 98,
     "metadata": {},
     "output_type": "execute_result"
    }
   ],
   "source": [
    "df_new.columns.to_list()"
   ]
  },
  {
   "cell_type": "code",
   "execution_count": 99,
   "id": "ee47a4f4-1005-4f94-a708-8ba040bc3174",
   "metadata": {},
   "outputs": [
    {
     "name": "stdout",
     "output_type": "stream",
     "text": [
      "invoice_num\n",
      "invoice_date\n",
      "year_month\n",
      "month\n",
      "day\n",
      "hour\n",
      "stock_code\n",
      "description\n",
      "quantity\n",
      "unit_price\n",
      "amount_spend\n",
      "customer_id\n",
      "country\n"
     ]
    }
   ],
   "source": [
    "for col in df_new.columns:\n",
    "    print(col)"
   ]
  },
  {
   "cell_type": "markdown",
   "id": "71ff4d64-8659-4de5-bfaa-3b1d5424ff8b",
   "metadata": {},
   "source": [
    "# Exploratory Data Analysis(EDA)"
   ]
  },
  {
   "cell_type": "code",
   "execution_count": 100,
   "id": "51ed6871-2fa5-4e11-9b91-204014a2358f",
   "metadata": {},
   "outputs": [
    {
     "data": {
      "text/html": [
       "<div>\n",
       "<style scoped>\n",
       "    .dataframe tbody tr th:only-of-type {\n",
       "        vertical-align: middle;\n",
       "    }\n",
       "\n",
       "    .dataframe tbody tr th {\n",
       "        vertical-align: top;\n",
       "    }\n",
       "\n",
       "    .dataframe thead th {\n",
       "        text-align: right;\n",
       "    }\n",
       "</style>\n",
       "<table border=\"1\" class=\"dataframe\">\n",
       "  <thead>\n",
       "    <tr style=\"text-align: right;\">\n",
       "      <th></th>\n",
       "      <th>invoice_num</th>\n",
       "      <th>invoice_date</th>\n",
       "      <th>year_month</th>\n",
       "      <th>month</th>\n",
       "      <th>day</th>\n",
       "      <th>hour</th>\n",
       "      <th>stock_code</th>\n",
       "      <th>description</th>\n",
       "      <th>quantity</th>\n",
       "      <th>unit_price</th>\n",
       "      <th>amount_spend</th>\n",
       "      <th>customer_id</th>\n",
       "      <th>country</th>\n",
       "    </tr>\n",
       "  </thead>\n",
       "  <tbody>\n",
       "    <tr>\n",
       "      <th>0</th>\n",
       "      <td>536365</td>\n",
       "      <td>2010-12-01 08:26:00</td>\n",
       "      <td>201012</td>\n",
       "      <td>12</td>\n",
       "      <td>3</td>\n",
       "      <td>8</td>\n",
       "      <td>85123A</td>\n",
       "      <td>white hanging heart t-light holder</td>\n",
       "      <td>6</td>\n",
       "      <td>2.55</td>\n",
       "      <td>15.30</td>\n",
       "      <td>17850</td>\n",
       "      <td>United Kingdom</td>\n",
       "    </tr>\n",
       "    <tr>\n",
       "      <th>1</th>\n",
       "      <td>536365</td>\n",
       "      <td>2010-12-01 08:26:00</td>\n",
       "      <td>201012</td>\n",
       "      <td>12</td>\n",
       "      <td>3</td>\n",
       "      <td>8</td>\n",
       "      <td>71053</td>\n",
       "      <td>white metal lantern</td>\n",
       "      <td>6</td>\n",
       "      <td>3.39</td>\n",
       "      <td>20.34</td>\n",
       "      <td>17850</td>\n",
       "      <td>United Kingdom</td>\n",
       "    </tr>\n",
       "    <tr>\n",
       "      <th>2</th>\n",
       "      <td>536365</td>\n",
       "      <td>2010-12-01 08:26:00</td>\n",
       "      <td>201012</td>\n",
       "      <td>12</td>\n",
       "      <td>3</td>\n",
       "      <td>8</td>\n",
       "      <td>84406B</td>\n",
       "      <td>cream cupid hearts coat hanger</td>\n",
       "      <td>8</td>\n",
       "      <td>2.75</td>\n",
       "      <td>22.00</td>\n",
       "      <td>17850</td>\n",
       "      <td>United Kingdom</td>\n",
       "    </tr>\n",
       "  </tbody>\n",
       "</table>\n",
       "</div>"
      ],
      "text/plain": [
       "  invoice_num        invoice_date  year_month  month  day  hour stock_code  \\\n",
       "0      536365 2010-12-01 08:26:00      201012     12    3     8     85123A   \n",
       "1      536365 2010-12-01 08:26:00      201012     12    3     8      71053   \n",
       "2      536365 2010-12-01 08:26:00      201012     12    3     8     84406B   \n",
       "\n",
       "                          description  quantity  unit_price  amount_spend  \\\n",
       "0  white hanging heart t-light holder         6        2.55         15.30   \n",
       "1                 white metal lantern         6        3.39         20.34   \n",
       "2      cream cupid hearts coat hanger         8        2.75         22.00   \n",
       "\n",
       "   customer_id         country  \n",
       "0        17850  United Kingdom  \n",
       "1        17850  United Kingdom  \n",
       "2        17850  United Kingdom  "
      ]
     },
     "execution_count": 100,
     "metadata": {},
     "output_type": "execute_result"
    }
   ],
   "source": [
    "df_new.head(3)"
   ]
  },
  {
   "cell_type": "code",
   "execution_count": 101,
   "id": "43608b23-9629-4291-b014-4ed0a39ec67b",
   "metadata": {},
   "outputs": [
    {
     "data": {
      "text/html": [
       "<div>\n",
       "<style scoped>\n",
       "    .dataframe tbody tr th:only-of-type {\n",
       "        vertical-align: middle;\n",
       "    }\n",
       "\n",
       "    .dataframe tbody tr th {\n",
       "        vertical-align: top;\n",
       "    }\n",
       "\n",
       "    .dataframe thead th {\n",
       "        text-align: right;\n",
       "    }\n",
       "</style>\n",
       "<table border=\"1\" class=\"dataframe\">\n",
       "  <thead>\n",
       "    <tr style=\"text-align: right;\">\n",
       "      <th></th>\n",
       "      <th>invoice_num</th>\n",
       "      <th>invoice_date</th>\n",
       "      <th>year_month</th>\n",
       "      <th>month</th>\n",
       "      <th>day</th>\n",
       "      <th>hour</th>\n",
       "      <th>stock_code</th>\n",
       "      <th>description</th>\n",
       "      <th>quantity</th>\n",
       "      <th>unit_price</th>\n",
       "      <th>amount_spend</th>\n",
       "      <th>country</th>\n",
       "    </tr>\n",
       "    <tr>\n",
       "      <th>customer_id</th>\n",
       "      <th></th>\n",
       "      <th></th>\n",
       "      <th></th>\n",
       "      <th></th>\n",
       "      <th></th>\n",
       "      <th></th>\n",
       "      <th></th>\n",
       "      <th></th>\n",
       "      <th></th>\n",
       "      <th></th>\n",
       "      <th></th>\n",
       "      <th></th>\n",
       "    </tr>\n",
       "  </thead>\n",
       "  <tbody>\n",
       "    <tr>\n",
       "      <th>12346</th>\n",
       "      <td>1</td>\n",
       "      <td>1</td>\n",
       "      <td>1</td>\n",
       "      <td>1</td>\n",
       "      <td>1</td>\n",
       "      <td>1</td>\n",
       "      <td>1</td>\n",
       "      <td>1</td>\n",
       "      <td>1</td>\n",
       "      <td>1</td>\n",
       "      <td>1</td>\n",
       "      <td>1</td>\n",
       "    </tr>\n",
       "    <tr>\n",
       "      <th>12347</th>\n",
       "      <td>182</td>\n",
       "      <td>182</td>\n",
       "      <td>182</td>\n",
       "      <td>182</td>\n",
       "      <td>182</td>\n",
       "      <td>182</td>\n",
       "      <td>182</td>\n",
       "      <td>182</td>\n",
       "      <td>182</td>\n",
       "      <td>182</td>\n",
       "      <td>182</td>\n",
       "      <td>182</td>\n",
       "    </tr>\n",
       "    <tr>\n",
       "      <th>12348</th>\n",
       "      <td>31</td>\n",
       "      <td>31</td>\n",
       "      <td>31</td>\n",
       "      <td>31</td>\n",
       "      <td>31</td>\n",
       "      <td>31</td>\n",
       "      <td>31</td>\n",
       "      <td>31</td>\n",
       "      <td>31</td>\n",
       "      <td>31</td>\n",
       "      <td>31</td>\n",
       "      <td>31</td>\n",
       "    </tr>\n",
       "    <tr>\n",
       "      <th>12349</th>\n",
       "      <td>73</td>\n",
       "      <td>73</td>\n",
       "      <td>73</td>\n",
       "      <td>73</td>\n",
       "      <td>73</td>\n",
       "      <td>73</td>\n",
       "      <td>73</td>\n",
       "      <td>73</td>\n",
       "      <td>73</td>\n",
       "      <td>73</td>\n",
       "      <td>73</td>\n",
       "      <td>73</td>\n",
       "    </tr>\n",
       "    <tr>\n",
       "      <th>12350</th>\n",
       "      <td>17</td>\n",
       "      <td>17</td>\n",
       "      <td>17</td>\n",
       "      <td>17</td>\n",
       "      <td>17</td>\n",
       "      <td>17</td>\n",
       "      <td>17</td>\n",
       "      <td>17</td>\n",
       "      <td>17</td>\n",
       "      <td>17</td>\n",
       "      <td>17</td>\n",
       "      <td>17</td>\n",
       "    </tr>\n",
       "    <tr>\n",
       "      <th>...</th>\n",
       "      <td>...</td>\n",
       "      <td>...</td>\n",
       "      <td>...</td>\n",
       "      <td>...</td>\n",
       "      <td>...</td>\n",
       "      <td>...</td>\n",
       "      <td>...</td>\n",
       "      <td>...</td>\n",
       "      <td>...</td>\n",
       "      <td>...</td>\n",
       "      <td>...</td>\n",
       "      <td>...</td>\n",
       "    </tr>\n",
       "    <tr>\n",
       "      <th>18280</th>\n",
       "      <td>10</td>\n",
       "      <td>10</td>\n",
       "      <td>10</td>\n",
       "      <td>10</td>\n",
       "      <td>10</td>\n",
       "      <td>10</td>\n",
       "      <td>10</td>\n",
       "      <td>10</td>\n",
       "      <td>10</td>\n",
       "      <td>10</td>\n",
       "      <td>10</td>\n",
       "      <td>10</td>\n",
       "    </tr>\n",
       "    <tr>\n",
       "      <th>18281</th>\n",
       "      <td>7</td>\n",
       "      <td>7</td>\n",
       "      <td>7</td>\n",
       "      <td>7</td>\n",
       "      <td>7</td>\n",
       "      <td>7</td>\n",
       "      <td>7</td>\n",
       "      <td>7</td>\n",
       "      <td>7</td>\n",
       "      <td>7</td>\n",
       "      <td>7</td>\n",
       "      <td>7</td>\n",
       "    </tr>\n",
       "    <tr>\n",
       "      <th>18282</th>\n",
       "      <td>12</td>\n",
       "      <td>12</td>\n",
       "      <td>12</td>\n",
       "      <td>12</td>\n",
       "      <td>12</td>\n",
       "      <td>12</td>\n",
       "      <td>12</td>\n",
       "      <td>12</td>\n",
       "      <td>12</td>\n",
       "      <td>12</td>\n",
       "      <td>12</td>\n",
       "      <td>12</td>\n",
       "    </tr>\n",
       "    <tr>\n",
       "      <th>18283</th>\n",
       "      <td>756</td>\n",
       "      <td>756</td>\n",
       "      <td>756</td>\n",
       "      <td>756</td>\n",
       "      <td>756</td>\n",
       "      <td>756</td>\n",
       "      <td>756</td>\n",
       "      <td>756</td>\n",
       "      <td>756</td>\n",
       "      <td>756</td>\n",
       "      <td>756</td>\n",
       "      <td>756</td>\n",
       "    </tr>\n",
       "    <tr>\n",
       "      <th>18287</th>\n",
       "      <td>70</td>\n",
       "      <td>70</td>\n",
       "      <td>70</td>\n",
       "      <td>70</td>\n",
       "      <td>70</td>\n",
       "      <td>70</td>\n",
       "      <td>70</td>\n",
       "      <td>70</td>\n",
       "      <td>70</td>\n",
       "      <td>70</td>\n",
       "      <td>70</td>\n",
       "      <td>70</td>\n",
       "    </tr>\n",
       "  </tbody>\n",
       "</table>\n",
       "<p>4339 rows × 12 columns</p>\n",
       "</div>"
      ],
      "text/plain": [
       "             invoice_num  invoice_date  year_month  month  day  hour  \\\n",
       "customer_id                                                            \n",
       "12346                  1             1           1      1    1     1   \n",
       "12347                182           182         182    182  182   182   \n",
       "12348                 31            31          31     31   31    31   \n",
       "12349                 73            73          73     73   73    73   \n",
       "12350                 17            17          17     17   17    17   \n",
       "...                  ...           ...         ...    ...  ...   ...   \n",
       "18280                 10            10          10     10   10    10   \n",
       "18281                  7             7           7      7    7     7   \n",
       "18282                 12            12          12     12   12    12   \n",
       "18283                756           756         756    756  756   756   \n",
       "18287                 70            70          70     70   70    70   \n",
       "\n",
       "             stock_code  description  quantity  unit_price  amount_spend  \\\n",
       "customer_id                                                                \n",
       "12346                 1            1         1           1             1   \n",
       "12347               182          182       182         182           182   \n",
       "12348                31           31        31          31            31   \n",
       "12349                73           73        73          73            73   \n",
       "12350                17           17        17          17            17   \n",
       "...                 ...          ...       ...         ...           ...   \n",
       "18280                10           10        10          10            10   \n",
       "18281                 7            7         7           7             7   \n",
       "18282                12           12        12          12            12   \n",
       "18283               756          756       756         756           756   \n",
       "18287                70           70        70          70            70   \n",
       "\n",
       "             country  \n",
       "customer_id           \n",
       "12346              1  \n",
       "12347            182  \n",
       "12348             31  \n",
       "12349             73  \n",
       "12350             17  \n",
       "...              ...  \n",
       "18280             10  \n",
       "18281              7  \n",
       "18282             12  \n",
       "18283            756  \n",
       "18287             70  \n",
       "\n",
       "[4339 rows x 12 columns]"
      ]
     },
     "execution_count": 101,
     "metadata": {},
     "output_type": "execute_result"
    }
   ],
   "source": [
    "  df_new.groupby(by = [\"customer_id\"]).count()"
   ]
  },
  {
   "cell_type": "code",
   "execution_count": 102,
   "id": "a2d390d3-c13b-4923-8796-3fabe55c718d",
   "metadata": {},
   "outputs": [
    {
     "data": {
      "text/html": [
       "<div>\n",
       "<style scoped>\n",
       "    .dataframe tbody tr th:only-of-type {\n",
       "        vertical-align: middle;\n",
       "    }\n",
       "\n",
       "    .dataframe tbody tr th {\n",
       "        vertical-align: top;\n",
       "    }\n",
       "\n",
       "    .dataframe thead th {\n",
       "        text-align: right;\n",
       "    }\n",
       "</style>\n",
       "<table border=\"1\" class=\"dataframe\">\n",
       "  <thead>\n",
       "    <tr style=\"text-align: right;\">\n",
       "      <th></th>\n",
       "      <th></th>\n",
       "      <th>invoice_num</th>\n",
       "      <th>invoice_date</th>\n",
       "      <th>year_month</th>\n",
       "      <th>month</th>\n",
       "      <th>day</th>\n",
       "      <th>hour</th>\n",
       "      <th>stock_code</th>\n",
       "      <th>description</th>\n",
       "      <th>quantity</th>\n",
       "      <th>unit_price</th>\n",
       "      <th>amount_spend</th>\n",
       "    </tr>\n",
       "    <tr>\n",
       "      <th>customer_id</th>\n",
       "      <th>country</th>\n",
       "      <th></th>\n",
       "      <th></th>\n",
       "      <th></th>\n",
       "      <th></th>\n",
       "      <th></th>\n",
       "      <th></th>\n",
       "      <th></th>\n",
       "      <th></th>\n",
       "      <th></th>\n",
       "      <th></th>\n",
       "      <th></th>\n",
       "    </tr>\n",
       "  </thead>\n",
       "  <tbody>\n",
       "    <tr>\n",
       "      <th>12346</th>\n",
       "      <th>United Kingdom</th>\n",
       "      <td>1</td>\n",
       "      <td>1</td>\n",
       "      <td>1</td>\n",
       "      <td>1</td>\n",
       "      <td>1</td>\n",
       "      <td>1</td>\n",
       "      <td>1</td>\n",
       "      <td>1</td>\n",
       "      <td>1</td>\n",
       "      <td>1</td>\n",
       "      <td>1</td>\n",
       "    </tr>\n",
       "    <tr>\n",
       "      <th>12347</th>\n",
       "      <th>Iceland</th>\n",
       "      <td>182</td>\n",
       "      <td>182</td>\n",
       "      <td>182</td>\n",
       "      <td>182</td>\n",
       "      <td>182</td>\n",
       "      <td>182</td>\n",
       "      <td>182</td>\n",
       "      <td>182</td>\n",
       "      <td>182</td>\n",
       "      <td>182</td>\n",
       "      <td>182</td>\n",
       "    </tr>\n",
       "    <tr>\n",
       "      <th>12348</th>\n",
       "      <th>Finland</th>\n",
       "      <td>31</td>\n",
       "      <td>31</td>\n",
       "      <td>31</td>\n",
       "      <td>31</td>\n",
       "      <td>31</td>\n",
       "      <td>31</td>\n",
       "      <td>31</td>\n",
       "      <td>31</td>\n",
       "      <td>31</td>\n",
       "      <td>31</td>\n",
       "      <td>31</td>\n",
       "    </tr>\n",
       "    <tr>\n",
       "      <th>12349</th>\n",
       "      <th>Italy</th>\n",
       "      <td>73</td>\n",
       "      <td>73</td>\n",
       "      <td>73</td>\n",
       "      <td>73</td>\n",
       "      <td>73</td>\n",
       "      <td>73</td>\n",
       "      <td>73</td>\n",
       "      <td>73</td>\n",
       "      <td>73</td>\n",
       "      <td>73</td>\n",
       "      <td>73</td>\n",
       "    </tr>\n",
       "    <tr>\n",
       "      <th>12350</th>\n",
       "      <th>Norway</th>\n",
       "      <td>17</td>\n",
       "      <td>17</td>\n",
       "      <td>17</td>\n",
       "      <td>17</td>\n",
       "      <td>17</td>\n",
       "      <td>17</td>\n",
       "      <td>17</td>\n",
       "      <td>17</td>\n",
       "      <td>17</td>\n",
       "      <td>17</td>\n",
       "      <td>17</td>\n",
       "    </tr>\n",
       "    <tr>\n",
       "      <th>...</th>\n",
       "      <th>...</th>\n",
       "      <td>...</td>\n",
       "      <td>...</td>\n",
       "      <td>...</td>\n",
       "      <td>...</td>\n",
       "      <td>...</td>\n",
       "      <td>...</td>\n",
       "      <td>...</td>\n",
       "      <td>...</td>\n",
       "      <td>...</td>\n",
       "      <td>...</td>\n",
       "      <td>...</td>\n",
       "    </tr>\n",
       "    <tr>\n",
       "      <th>18280</th>\n",
       "      <th>United Kingdom</th>\n",
       "      <td>10</td>\n",
       "      <td>10</td>\n",
       "      <td>10</td>\n",
       "      <td>10</td>\n",
       "      <td>10</td>\n",
       "      <td>10</td>\n",
       "      <td>10</td>\n",
       "      <td>10</td>\n",
       "      <td>10</td>\n",
       "      <td>10</td>\n",
       "      <td>10</td>\n",
       "    </tr>\n",
       "    <tr>\n",
       "      <th>18281</th>\n",
       "      <th>United Kingdom</th>\n",
       "      <td>7</td>\n",
       "      <td>7</td>\n",
       "      <td>7</td>\n",
       "      <td>7</td>\n",
       "      <td>7</td>\n",
       "      <td>7</td>\n",
       "      <td>7</td>\n",
       "      <td>7</td>\n",
       "      <td>7</td>\n",
       "      <td>7</td>\n",
       "      <td>7</td>\n",
       "    </tr>\n",
       "    <tr>\n",
       "      <th>18282</th>\n",
       "      <th>United Kingdom</th>\n",
       "      <td>12</td>\n",
       "      <td>12</td>\n",
       "      <td>12</td>\n",
       "      <td>12</td>\n",
       "      <td>12</td>\n",
       "      <td>12</td>\n",
       "      <td>12</td>\n",
       "      <td>12</td>\n",
       "      <td>12</td>\n",
       "      <td>12</td>\n",
       "      <td>12</td>\n",
       "    </tr>\n",
       "    <tr>\n",
       "      <th>18283</th>\n",
       "      <th>United Kingdom</th>\n",
       "      <td>756</td>\n",
       "      <td>756</td>\n",
       "      <td>756</td>\n",
       "      <td>756</td>\n",
       "      <td>756</td>\n",
       "      <td>756</td>\n",
       "      <td>756</td>\n",
       "      <td>756</td>\n",
       "      <td>756</td>\n",
       "      <td>756</td>\n",
       "      <td>756</td>\n",
       "    </tr>\n",
       "    <tr>\n",
       "      <th>18287</th>\n",
       "      <th>United Kingdom</th>\n",
       "      <td>70</td>\n",
       "      <td>70</td>\n",
       "      <td>70</td>\n",
       "      <td>70</td>\n",
       "      <td>70</td>\n",
       "      <td>70</td>\n",
       "      <td>70</td>\n",
       "      <td>70</td>\n",
       "      <td>70</td>\n",
       "      <td>70</td>\n",
       "      <td>70</td>\n",
       "    </tr>\n",
       "  </tbody>\n",
       "</table>\n",
       "<p>4347 rows × 11 columns</p>\n",
       "</div>"
      ],
      "text/plain": [
       "                            invoice_num  invoice_date  year_month  month  day  \\\n",
       "customer_id country                                                             \n",
       "12346       United Kingdom            1             1           1      1    1   \n",
       "12347       Iceland                 182           182         182    182  182   \n",
       "12348       Finland                  31            31          31     31   31   \n",
       "12349       Italy                    73            73          73     73   73   \n",
       "12350       Norway                   17            17          17     17   17   \n",
       "...                                 ...           ...         ...    ...  ...   \n",
       "18280       United Kingdom           10            10          10     10   10   \n",
       "18281       United Kingdom            7             7           7      7    7   \n",
       "18282       United Kingdom           12            12          12     12   12   \n",
       "18283       United Kingdom          756           756         756    756  756   \n",
       "18287       United Kingdom           70            70          70     70   70   \n",
       "\n",
       "                            hour  stock_code  description  quantity  \\\n",
       "customer_id country                                                   \n",
       "12346       United Kingdom     1           1            1         1   \n",
       "12347       Iceland          182         182          182       182   \n",
       "12348       Finland           31          31           31        31   \n",
       "12349       Italy             73          73           73        73   \n",
       "12350       Norway            17          17           17        17   \n",
       "...                          ...         ...          ...       ...   \n",
       "18280       United Kingdom    10          10           10        10   \n",
       "18281       United Kingdom     7           7            7         7   \n",
       "18282       United Kingdom    12          12           12        12   \n",
       "18283       United Kingdom   756         756          756       756   \n",
       "18287       United Kingdom    70          70           70        70   \n",
       "\n",
       "                            unit_price  amount_spend  \n",
       "customer_id country                                   \n",
       "12346       United Kingdom           1             1  \n",
       "12347       Iceland                182           182  \n",
       "12348       Finland                 31            31  \n",
       "12349       Italy                   73            73  \n",
       "12350       Norway                  17            17  \n",
       "...                                ...           ...  \n",
       "18280       United Kingdom          10            10  \n",
       "18281       United Kingdom           7             7  \n",
       "18282       United Kingdom          12            12  \n",
       "18283       United Kingdom         756           756  \n",
       "18287       United Kingdom          70            70  \n",
       "\n",
       "[4347 rows x 11 columns]"
      ]
     },
     "execution_count": 102,
     "metadata": {},
     "output_type": "execute_result"
    }
   ],
   "source": [
    "df_new.groupby(by = [\"customer_id\",\"country\"]).count()"
   ]
  },
  {
   "cell_type": "code",
   "execution_count": 103,
   "id": "3d418478-08ee-4729-946b-eec24809dd46",
   "metadata": {},
   "outputs": [
    {
     "data": {
      "text/plain": [
       "customer_id  country       \n",
       "12346        United Kingdom      1\n",
       "12347        Iceland           182\n",
       "12348        Finland            31\n",
       "12349        Italy              73\n",
       "12350        Norway             17\n",
       "                              ... \n",
       "18280        United Kingdom     10\n",
       "18281        United Kingdom      7\n",
       "18282        United Kingdom     12\n",
       "18283        United Kingdom    756\n",
       "18287        United Kingdom     70\n",
       "Name: invoice_num, Length: 4347, dtype: int64"
      ]
     },
     "execution_count": 103,
     "metadata": {},
     "output_type": "execute_result"
    }
   ],
   "source": [
    " df_new.groupby(by = [\"customer_id\",\"country\"])[\"invoice_num\"].count()"
   ]
  },
  {
   "cell_type": "code",
   "execution_count": 104,
   "id": "031790a4-403b-472a-a286-35c00700db7f",
   "metadata": {},
   "outputs": [
    {
     "data": {
      "text/html": [
       "<div>\n",
       "<style scoped>\n",
       "    .dataframe tbody tr th:only-of-type {\n",
       "        vertical-align: middle;\n",
       "    }\n",
       "\n",
       "    .dataframe tbody tr th {\n",
       "        vertical-align: top;\n",
       "    }\n",
       "\n",
       "    .dataframe thead th {\n",
       "        text-align: right;\n",
       "    }\n",
       "</style>\n",
       "<table border=\"1\" class=\"dataframe\">\n",
       "  <thead>\n",
       "    <tr style=\"text-align: right;\">\n",
       "      <th></th>\n",
       "      <th>customer_id</th>\n",
       "      <th>country</th>\n",
       "      <th>invoice_num</th>\n",
       "    </tr>\n",
       "  </thead>\n",
       "  <tbody>\n",
       "    <tr>\n",
       "      <th>0</th>\n",
       "      <td>12346</td>\n",
       "      <td>United Kingdom</td>\n",
       "      <td>1</td>\n",
       "    </tr>\n",
       "    <tr>\n",
       "      <th>1</th>\n",
       "      <td>12347</td>\n",
       "      <td>Iceland</td>\n",
       "      <td>182</td>\n",
       "    </tr>\n",
       "    <tr>\n",
       "      <th>2</th>\n",
       "      <td>12348</td>\n",
       "      <td>Finland</td>\n",
       "      <td>31</td>\n",
       "    </tr>\n",
       "    <tr>\n",
       "      <th>3</th>\n",
       "      <td>12349</td>\n",
       "      <td>Italy</td>\n",
       "      <td>73</td>\n",
       "    </tr>\n",
       "    <tr>\n",
       "      <th>4</th>\n",
       "      <td>12350</td>\n",
       "      <td>Norway</td>\n",
       "      <td>17</td>\n",
       "    </tr>\n",
       "    <tr>\n",
       "      <th>...</th>\n",
       "      <td>...</td>\n",
       "      <td>...</td>\n",
       "      <td>...</td>\n",
       "    </tr>\n",
       "    <tr>\n",
       "      <th>4342</th>\n",
       "      <td>18280</td>\n",
       "      <td>United Kingdom</td>\n",
       "      <td>10</td>\n",
       "    </tr>\n",
       "    <tr>\n",
       "      <th>4343</th>\n",
       "      <td>18281</td>\n",
       "      <td>United Kingdom</td>\n",
       "      <td>7</td>\n",
       "    </tr>\n",
       "    <tr>\n",
       "      <th>4344</th>\n",
       "      <td>18282</td>\n",
       "      <td>United Kingdom</td>\n",
       "      <td>12</td>\n",
       "    </tr>\n",
       "    <tr>\n",
       "      <th>4345</th>\n",
       "      <td>18283</td>\n",
       "      <td>United Kingdom</td>\n",
       "      <td>756</td>\n",
       "    </tr>\n",
       "    <tr>\n",
       "      <th>4346</th>\n",
       "      <td>18287</td>\n",
       "      <td>United Kingdom</td>\n",
       "      <td>70</td>\n",
       "    </tr>\n",
       "  </tbody>\n",
       "</table>\n",
       "<p>4347 rows × 3 columns</p>\n",
       "</div>"
      ],
      "text/plain": [
       "      customer_id         country  invoice_num\n",
       "0           12346  United Kingdom            1\n",
       "1           12347         Iceland          182\n",
       "2           12348         Finland           31\n",
       "3           12349           Italy           73\n",
       "4           12350          Norway           17\n",
       "...           ...             ...          ...\n",
       "4342        18280  United Kingdom           10\n",
       "4343        18281  United Kingdom            7\n",
       "4344        18282  United Kingdom           12\n",
       "4345        18283  United Kingdom          756\n",
       "4346        18287  United Kingdom           70\n",
       "\n",
       "[4347 rows x 3 columns]"
      ]
     },
     "execution_count": 104,
     "metadata": {},
     "output_type": "execute_result"
    }
   ],
   "source": [
    " df_new.groupby(by = [\"customer_id\",\"country\"], as_index = False)[\"invoice_num\"].count()"
   ]
  },
  {
   "cell_type": "code",
   "execution_count": 105,
   "id": "0b6832b2-38cf-4579-ac5c-53547f25c554",
   "metadata": {},
   "outputs": [
    {
     "data": {
      "text/html": [
       "<div>\n",
       "<style scoped>\n",
       "    .dataframe tbody tr th:only-of-type {\n",
       "        vertical-align: middle;\n",
       "    }\n",
       "\n",
       "    .dataframe tbody tr th {\n",
       "        vertical-align: top;\n",
       "    }\n",
       "\n",
       "    .dataframe thead th {\n",
       "        text-align: right;\n",
       "    }\n",
       "</style>\n",
       "<table border=\"1\" class=\"dataframe\">\n",
       "  <thead>\n",
       "    <tr style=\"text-align: right;\">\n",
       "      <th></th>\n",
       "      <th>customer_id</th>\n",
       "      <th>country</th>\n",
       "      <th>invoice_num</th>\n",
       "    </tr>\n",
       "  </thead>\n",
       "  <tbody>\n",
       "    <tr>\n",
       "      <th>0</th>\n",
       "      <td>12346</td>\n",
       "      <td>United Kingdom</td>\n",
       "      <td>1</td>\n",
       "    </tr>\n",
       "    <tr>\n",
       "      <th>1</th>\n",
       "      <td>12347</td>\n",
       "      <td>Iceland</td>\n",
       "      <td>182</td>\n",
       "    </tr>\n",
       "    <tr>\n",
       "      <th>2</th>\n",
       "      <td>12348</td>\n",
       "      <td>Finland</td>\n",
       "      <td>31</td>\n",
       "    </tr>\n",
       "    <tr>\n",
       "      <th>3</th>\n",
       "      <td>12349</td>\n",
       "      <td>Italy</td>\n",
       "      <td>73</td>\n",
       "    </tr>\n",
       "    <tr>\n",
       "      <th>4</th>\n",
       "      <td>12350</td>\n",
       "      <td>Norway</td>\n",
       "      <td>17</td>\n",
       "    </tr>\n",
       "  </tbody>\n",
       "</table>\n",
       "</div>"
      ],
      "text/plain": [
       "   customer_id         country  invoice_num\n",
       "0        12346  United Kingdom            1\n",
       "1        12347         Iceland          182\n",
       "2        12348         Finland           31\n",
       "3        12349           Italy           73\n",
       "4        12350          Norway           17"
      ]
     },
     "execution_count": 105,
     "metadata": {},
     "output_type": "execute_result"
    }
   ],
   "source": [
    " df_new.groupby(by = [\"customer_id\",\"country\"], as_index = False)[\"invoice_num\"].count().head()"
   ]
  },
  {
   "cell_type": "markdown",
   "id": "a4f1f499-d8d8-4adc-a29a-12275bf98707",
   "metadata": {},
   "source": [
    "# Data Visualization libraries\n"
   ]
  },
  {
   "cell_type": "code",
   "execution_count": 106,
   "id": "24931ea4-ed6d-41b0-b21b-916f0a0adb6d",
   "metadata": {},
   "outputs": [],
   "source": [
    "import matplotlib.pyplot as plt\n",
    "import seaborn as sns"
   ]
  },
  {
   "cell_type": "code",
   "execution_count": 107,
   "id": "f84e8e21-ab63-49bf-af37-a8ac3c801d37",
   "metadata": {},
   "outputs": [
    {
     "data": {
      "text/html": [
       "<div>\n",
       "<style scoped>\n",
       "    .dataframe tbody tr th:only-of-type {\n",
       "        vertical-align: middle;\n",
       "    }\n",
       "\n",
       "    .dataframe tbody tr th {\n",
       "        vertical-align: top;\n",
       "    }\n",
       "\n",
       "    .dataframe thead th {\n",
       "        text-align: right;\n",
       "    }\n",
       "</style>\n",
       "<table border=\"1\" class=\"dataframe\">\n",
       "  <thead>\n",
       "    <tr style=\"text-align: right;\">\n",
       "      <th></th>\n",
       "      <th>customer_id</th>\n",
       "      <th>country</th>\n",
       "      <th>invoice_num</th>\n",
       "    </tr>\n",
       "  </thead>\n",
       "  <tbody>\n",
       "    <tr>\n",
       "      <th>0</th>\n",
       "      <td>12346</td>\n",
       "      <td>United Kingdom</td>\n",
       "      <td>1</td>\n",
       "    </tr>\n",
       "    <tr>\n",
       "      <th>1</th>\n",
       "      <td>12347</td>\n",
       "      <td>Iceland</td>\n",
       "      <td>182</td>\n",
       "    </tr>\n",
       "    <tr>\n",
       "      <th>2</th>\n",
       "      <td>12348</td>\n",
       "      <td>Finland</td>\n",
       "      <td>31</td>\n",
       "    </tr>\n",
       "    <tr>\n",
       "      <th>3</th>\n",
       "      <td>12349</td>\n",
       "      <td>Italy</td>\n",
       "      <td>73</td>\n",
       "    </tr>\n",
       "    <tr>\n",
       "      <th>4</th>\n",
       "      <td>12350</td>\n",
       "      <td>Norway</td>\n",
       "      <td>17</td>\n",
       "    </tr>\n",
       "    <tr>\n",
       "      <th>...</th>\n",
       "      <td>...</td>\n",
       "      <td>...</td>\n",
       "      <td>...</td>\n",
       "    </tr>\n",
       "    <tr>\n",
       "      <th>4342</th>\n",
       "      <td>18280</td>\n",
       "      <td>United Kingdom</td>\n",
       "      <td>10</td>\n",
       "    </tr>\n",
       "    <tr>\n",
       "      <th>4343</th>\n",
       "      <td>18281</td>\n",
       "      <td>United Kingdom</td>\n",
       "      <td>7</td>\n",
       "    </tr>\n",
       "    <tr>\n",
       "      <th>4344</th>\n",
       "      <td>18282</td>\n",
       "      <td>United Kingdom</td>\n",
       "      <td>12</td>\n",
       "    </tr>\n",
       "    <tr>\n",
       "      <th>4345</th>\n",
       "      <td>18283</td>\n",
       "      <td>United Kingdom</td>\n",
       "      <td>756</td>\n",
       "    </tr>\n",
       "    <tr>\n",
       "      <th>4346</th>\n",
       "      <td>18287</td>\n",
       "      <td>United Kingdom</td>\n",
       "      <td>70</td>\n",
       "    </tr>\n",
       "  </tbody>\n",
       "</table>\n",
       "<p>4347 rows × 3 columns</p>\n",
       "</div>"
      ],
      "text/plain": [
       "      customer_id         country  invoice_num\n",
       "0           12346  United Kingdom            1\n",
       "1           12347         Iceland          182\n",
       "2           12348         Finland           31\n",
       "3           12349           Italy           73\n",
       "4           12350          Norway           17\n",
       "...           ...             ...          ...\n",
       "4342        18280  United Kingdom           10\n",
       "4343        18281  United Kingdom            7\n",
       "4344        18282  United Kingdom           12\n",
       "4345        18283  United Kingdom          756\n",
       "4346        18287  United Kingdom           70\n",
       "\n",
       "[4347 rows x 3 columns]"
      ]
     },
     "execution_count": 107,
     "metadata": {},
     "output_type": "execute_result"
    }
   ],
   "source": [
    "df_new.groupby(by = [\"customer_id\", \"country\"], as_index = False)[\"invoice_num\"].count()"
   ]
  },
  {
   "cell_type": "code",
   "execution_count": 108,
   "id": "725e47e0-38ac-43de-b0cd-6adf610c2ab0",
   "metadata": {},
   "outputs": [],
   "source": [
    " order = df_new.groupby(by = [\"customer_id\", \"country\"], as_index = False)[\"invoice_num\"].count()"
   ]
  },
  {
   "cell_type": "code",
   "execution_count": 109,
   "id": "379a73c6-1ac5-4b67-89a2-b13ff68ad929",
   "metadata": {},
   "outputs": [
    {
     "data": {
      "text/html": [
       "<div>\n",
       "<style scoped>\n",
       "    .dataframe tbody tr th:only-of-type {\n",
       "        vertical-align: middle;\n",
       "    }\n",
       "\n",
       "    .dataframe tbody tr th {\n",
       "        vertical-align: top;\n",
       "    }\n",
       "\n",
       "    .dataframe thead th {\n",
       "        text-align: right;\n",
       "    }\n",
       "</style>\n",
       "<table border=\"1\" class=\"dataframe\">\n",
       "  <thead>\n",
       "    <tr style=\"text-align: right;\">\n",
       "      <th></th>\n",
       "      <th>customer_id</th>\n",
       "      <th>country</th>\n",
       "      <th>invoice_num</th>\n",
       "    </tr>\n",
       "  </thead>\n",
       "  <tbody>\n",
       "    <tr>\n",
       "      <th>0</th>\n",
       "      <td>12346</td>\n",
       "      <td>United Kingdom</td>\n",
       "      <td>1</td>\n",
       "    </tr>\n",
       "    <tr>\n",
       "      <th>1</th>\n",
       "      <td>12347</td>\n",
       "      <td>Iceland</td>\n",
       "      <td>182</td>\n",
       "    </tr>\n",
       "    <tr>\n",
       "      <th>2</th>\n",
       "      <td>12348</td>\n",
       "      <td>Finland</td>\n",
       "      <td>31</td>\n",
       "    </tr>\n",
       "    <tr>\n",
       "      <th>3</th>\n",
       "      <td>12349</td>\n",
       "      <td>Italy</td>\n",
       "      <td>73</td>\n",
       "    </tr>\n",
       "    <tr>\n",
       "      <th>4</th>\n",
       "      <td>12350</td>\n",
       "      <td>Norway</td>\n",
       "      <td>17</td>\n",
       "    </tr>\n",
       "    <tr>\n",
       "      <th>...</th>\n",
       "      <td>...</td>\n",
       "      <td>...</td>\n",
       "      <td>...</td>\n",
       "    </tr>\n",
       "    <tr>\n",
       "      <th>4342</th>\n",
       "      <td>18280</td>\n",
       "      <td>United Kingdom</td>\n",
       "      <td>10</td>\n",
       "    </tr>\n",
       "    <tr>\n",
       "      <th>4343</th>\n",
       "      <td>18281</td>\n",
       "      <td>United Kingdom</td>\n",
       "      <td>7</td>\n",
       "    </tr>\n",
       "    <tr>\n",
       "      <th>4344</th>\n",
       "      <td>18282</td>\n",
       "      <td>United Kingdom</td>\n",
       "      <td>12</td>\n",
       "    </tr>\n",
       "    <tr>\n",
       "      <th>4345</th>\n",
       "      <td>18283</td>\n",
       "      <td>United Kingdom</td>\n",
       "      <td>756</td>\n",
       "    </tr>\n",
       "    <tr>\n",
       "      <th>4346</th>\n",
       "      <td>18287</td>\n",
       "      <td>United Kingdom</td>\n",
       "      <td>70</td>\n",
       "    </tr>\n",
       "  </tbody>\n",
       "</table>\n",
       "<p>4347 rows × 3 columns</p>\n",
       "</div>"
      ],
      "text/plain": [
       "      customer_id         country  invoice_num\n",
       "0           12346  United Kingdom            1\n",
       "1           12347         Iceland          182\n",
       "2           12348         Finland           31\n",
       "3           12349           Italy           73\n",
       "4           12350          Norway           17\n",
       "...           ...             ...          ...\n",
       "4342        18280  United Kingdom           10\n",
       "4343        18281  United Kingdom            7\n",
       "4344        18282  United Kingdom           12\n",
       "4345        18283  United Kingdom          756\n",
       "4346        18287  United Kingdom           70\n",
       "\n",
       "[4347 rows x 3 columns]"
      ]
     },
     "execution_count": 109,
     "metadata": {},
     "output_type": "execute_result"
    }
   ],
   "source": [
    "order"
   ]
  },
  {
   "cell_type": "markdown",
   "id": "a9dcd899-bb72-4923-841f-acde9d8411eb",
   "metadata": {},
   "source": [
    "# Check Top 5 most number of orders"
   ]
  },
  {
   "cell_type": "code",
   "execution_count": 110,
   "id": "9956299f-f378-4c17-93ed-f8a762244f62",
   "metadata": {},
   "outputs": [
    {
     "data": {
      "text/html": [
       "<div>\n",
       "<style scoped>\n",
       "    .dataframe tbody tr th:only-of-type {\n",
       "        vertical-align: middle;\n",
       "    }\n",
       "\n",
       "    .dataframe tbody tr th {\n",
       "        vertical-align: top;\n",
       "    }\n",
       "\n",
       "    .dataframe thead th {\n",
       "        text-align: right;\n",
       "    }\n",
       "</style>\n",
       "<table border=\"1\" class=\"dataframe\">\n",
       "  <thead>\n",
       "    <tr style=\"text-align: right;\">\n",
       "      <th></th>\n",
       "      <th>customer_id</th>\n",
       "      <th>country</th>\n",
       "      <th>invoice_num</th>\n",
       "    </tr>\n",
       "  </thead>\n",
       "  <tbody>\n",
       "    <tr>\n",
       "      <th>0</th>\n",
       "      <td>12346</td>\n",
       "      <td>United Kingdom</td>\n",
       "      <td>1</td>\n",
       "    </tr>\n",
       "    <tr>\n",
       "      <th>2799</th>\n",
       "      <td>16148</td>\n",
       "      <td>United Kingdom</td>\n",
       "      <td>1</td>\n",
       "    </tr>\n",
       "    <tr>\n",
       "      <th>1742</th>\n",
       "      <td>14705</td>\n",
       "      <td>United Kingdom</td>\n",
       "      <td>1</td>\n",
       "    </tr>\n",
       "    <tr>\n",
       "      <th>643</th>\n",
       "      <td>13185</td>\n",
       "      <td>United Kingdom</td>\n",
       "      <td>1</td>\n",
       "    </tr>\n",
       "    <tr>\n",
       "      <th>2795</th>\n",
       "      <td>16144</td>\n",
       "      <td>United Kingdom</td>\n",
       "      <td>1</td>\n",
       "    </tr>\n",
       "  </tbody>\n",
       "</table>\n",
       "</div>"
      ],
      "text/plain": [
       "      customer_id         country  invoice_num\n",
       "0           12346  United Kingdom            1\n",
       "2799        16148  United Kingdom            1\n",
       "1742        14705  United Kingdom            1\n",
       "643         13185  United Kingdom            1\n",
       "2795        16144  United Kingdom            1"
      ]
     },
     "execution_count": 110,
     "metadata": {},
     "output_type": "execute_result"
    }
   ],
   "source": [
    "order.sort_values(by = \"invoice_num\" , ascending = True).head()"
   ]
  },
  {
   "cell_type": "code",
   "execution_count": 111,
   "id": "fadd9bac-c8b4-4bbf-9e40-53fdbfe46327",
   "metadata": {},
   "outputs": [
    {
     "data": {
      "text/html": [
       "<div>\n",
       "<style scoped>\n",
       "    .dataframe tbody tr th:only-of-type {\n",
       "        vertical-align: middle;\n",
       "    }\n",
       "\n",
       "    .dataframe tbody tr th {\n",
       "        vertical-align: top;\n",
       "    }\n",
       "\n",
       "    .dataframe thead th {\n",
       "        text-align: right;\n",
       "    }\n",
       "</style>\n",
       "<table border=\"1\" class=\"dataframe\">\n",
       "  <thead>\n",
       "    <tr style=\"text-align: right;\">\n",
       "      <th></th>\n",
       "      <th>customer_id</th>\n",
       "      <th>country</th>\n",
       "      <th>invoice_num</th>\n",
       "    </tr>\n",
       "  </thead>\n",
       "  <tbody>\n",
       "    <tr>\n",
       "      <th>4019</th>\n",
       "      <td>17841</td>\n",
       "      <td>United Kingdom</td>\n",
       "      <td>7847</td>\n",
       "    </tr>\n",
       "    <tr>\n",
       "      <th>1888</th>\n",
       "      <td>14911</td>\n",
       "      <td>EIRE</td>\n",
       "      <td>5677</td>\n",
       "    </tr>\n",
       "    <tr>\n",
       "      <th>1298</th>\n",
       "      <td>14096</td>\n",
       "      <td>United Kingdom</td>\n",
       "      <td>5111</td>\n",
       "    </tr>\n",
       "    <tr>\n",
       "      <th>334</th>\n",
       "      <td>12748</td>\n",
       "      <td>United Kingdom</td>\n",
       "      <td>4596</td>\n",
       "    </tr>\n",
       "    <tr>\n",
       "      <th>1670</th>\n",
       "      <td>14606</td>\n",
       "      <td>United Kingdom</td>\n",
       "      <td>2700</td>\n",
       "    </tr>\n",
       "  </tbody>\n",
       "</table>\n",
       "</div>"
      ],
      "text/plain": [
       "      customer_id         country  invoice_num\n",
       "4019        17841  United Kingdom         7847\n",
       "1888        14911            EIRE         5677\n",
       "1298        14096  United Kingdom         5111\n",
       "334         12748  United Kingdom         4596\n",
       "1670        14606  United Kingdom         2700"
      ]
     },
     "execution_count": 111,
     "metadata": {},
     "output_type": "execute_result"
    }
   ],
   "source": [
    "order.sort_values(by = \"invoice_num\" , ascending = False).head()"
   ]
  },
  {
   "cell_type": "markdown",
   "id": "32831871-116a-4c05-a005-843ed1d3b43f",
   "metadata": {},
   "source": [
    "# Visualizing - Number  of Orders for different Customers"
   ]
  },
  {
   "cell_type": "code",
   "execution_count": 112,
   "id": "0b86faa1-9aca-4255-9e7e-4e668069b4f7",
   "metadata": {},
   "outputs": [
    {
     "data": {
      "image/png": "[encoded data removed]",
      "text/plain": [
       "<Figure size 1500x600 with 1 Axes>"
      ]
     },
     "metadata": {},
     "output_type": "display_data"
    }
   ],
   "source": [
    "\n",
    "\n",
    "\n",
    "order = df_new.groupby(by = [\"customer_id\", \"country\"], as_index = False)[\"invoice_num\"].count()\n",
    "plt.subplots(figsize = (15,6))\n",
    "\n",
    "plt.plot(order.customer_id, order.invoice_num)\n",
    "\n",
    "plt.xlabel(\"Customer Id\")\n",
    "plt.ylabel(\"Number of order\")\n",
    "plt.title(\"Number of Order for differnt Customer\")\n",
    "\n",
    "plt.show()"
   ]
  },
  {
   "cell_type": "markdown",
   "id": "31d91381-a351-4f5f-bd0d-4d345ae37434",
   "metadata": {},
   "source": [
    "# How much money spend by each customers?"
   ]
  },
  {
   "cell_type": "code",
   "execution_count": 113,
   "id": "d96e3d1c-731a-4635-b386-5bc53bf655ea",
   "metadata": {},
   "outputs": [
    {
     "data": {
      "text/plain": [
       "customer_id  country       \n",
       "12346        United Kingdom    77183.60\n",
       "12347        Iceland            4310.00\n",
       "12348        Finland            1797.24\n",
       "12349        Italy              1757.55\n",
       "12350        Norway              334.40\n",
       "                                 ...   \n",
       "18280        United Kingdom      180.60\n",
       "18281        United Kingdom       80.82\n",
       "18282        United Kingdom      178.05\n",
       "18283        United Kingdom     2094.88\n",
       "18287        United Kingdom     1837.28\n",
       "Name: amount_spend, Length: 4347, dtype: float64"
      ]
     },
     "execution_count": 113,
     "metadata": {},
     "output_type": "execute_result"
    }
   ],
   "source": [
    "df_new.groupby(by = [\"customer_id\",\"country\"])[\"amount_spend\"].sum()"
   ]
  },
  {
   "cell_type": "code",
   "execution_count": 114,
   "id": "a8276036-8197-4d50-9fc0-855d6c944401",
   "metadata": {},
   "outputs": [],
   "source": [
    "money_spend = df_new.groupby(by = [\"customer_id\",\"country\"], as_index = False)[\"amount_spend\"].sum()"
   ]
  },
  {
   "cell_type": "code",
   "execution_count": 115,
   "id": "78d55d8d-7cba-49d5-b46a-9b04aedfb086",
   "metadata": {},
   "outputs": [
    {
     "data": {
      "text/html": [
       "<div>\n",
       "<style scoped>\n",
       "    .dataframe tbody tr th:only-of-type {\n",
       "        vertical-align: middle;\n",
       "    }\n",
       "\n",
       "    .dataframe tbody tr th {\n",
       "        vertical-align: top;\n",
       "    }\n",
       "\n",
       "    .dataframe thead th {\n",
       "        text-align: right;\n",
       "    }\n",
       "</style>\n",
       "<table border=\"1\" class=\"dataframe\">\n",
       "  <thead>\n",
       "    <tr style=\"text-align: right;\">\n",
       "      <th></th>\n",
       "      <th>customer_id</th>\n",
       "      <th>country</th>\n",
       "      <th>amount_spend</th>\n",
       "    </tr>\n",
       "  </thead>\n",
       "  <tbody>\n",
       "    <tr>\n",
       "      <th>0</th>\n",
       "      <td>12346</td>\n",
       "      <td>United Kingdom</td>\n",
       "      <td>77183.60</td>\n",
       "    </tr>\n",
       "    <tr>\n",
       "      <th>1</th>\n",
       "      <td>12347</td>\n",
       "      <td>Iceland</td>\n",
       "      <td>4310.00</td>\n",
       "    </tr>\n",
       "    <tr>\n",
       "      <th>2</th>\n",
       "      <td>12348</td>\n",
       "      <td>Finland</td>\n",
       "      <td>1797.24</td>\n",
       "    </tr>\n",
       "    <tr>\n",
       "      <th>3</th>\n",
       "      <td>12349</td>\n",
       "      <td>Italy</td>\n",
       "      <td>1757.55</td>\n",
       "    </tr>\n",
       "    <tr>\n",
       "      <th>4</th>\n",
       "      <td>12350</td>\n",
       "      <td>Norway</td>\n",
       "      <td>334.40</td>\n",
       "    </tr>\n",
       "    <tr>\n",
       "      <th>...</th>\n",
       "      <td>...</td>\n",
       "      <td>...</td>\n",
       "      <td>...</td>\n",
       "    </tr>\n",
       "    <tr>\n",
       "      <th>4342</th>\n",
       "      <td>18280</td>\n",
       "      <td>United Kingdom</td>\n",
       "      <td>180.60</td>\n",
       "    </tr>\n",
       "    <tr>\n",
       "      <th>4343</th>\n",
       "      <td>18281</td>\n",
       "      <td>United Kingdom</td>\n",
       "      <td>80.82</td>\n",
       "    </tr>\n",
       "    <tr>\n",
       "      <th>4344</th>\n",
       "      <td>18282</td>\n",
       "      <td>United Kingdom</td>\n",
       "      <td>178.05</td>\n",
       "    </tr>\n",
       "    <tr>\n",
       "      <th>4345</th>\n",
       "      <td>18283</td>\n",
       "      <td>United Kingdom</td>\n",
       "      <td>2094.88</td>\n",
       "    </tr>\n",
       "    <tr>\n",
       "      <th>4346</th>\n",
       "      <td>18287</td>\n",
       "      <td>United Kingdom</td>\n",
       "      <td>1837.28</td>\n",
       "    </tr>\n",
       "  </tbody>\n",
       "</table>\n",
       "<p>4347 rows × 3 columns</p>\n",
       "</div>"
      ],
      "text/plain": [
       "      customer_id         country  amount_spend\n",
       "0           12346  United Kingdom      77183.60\n",
       "1           12347         Iceland       4310.00\n",
       "2           12348         Finland       1797.24\n",
       "3           12349           Italy       1757.55\n",
       "4           12350          Norway        334.40\n",
       "...           ...             ...           ...\n",
       "4342        18280  United Kingdom        180.60\n",
       "4343        18281  United Kingdom         80.82\n",
       "4344        18282  United Kingdom        178.05\n",
       "4345        18283  United Kingdom       2094.88\n",
       "4346        18287  United Kingdom       1837.28\n",
       "\n",
       "[4347 rows x 3 columns]"
      ]
     },
     "execution_count": 115,
     "metadata": {},
     "output_type": "execute_result"
    }
   ],
   "source": [
    "money_spend"
   ]
  },
  {
   "cell_type": "markdown",
   "id": "277d697e-3e5f-4134-9b2c-22c81e7582f4",
   "metadata": {},
   "source": [
    "# Top Five customers who spend highest money"
   ]
  },
  {
   "cell_type": "code",
   "execution_count": 116,
   "id": "ed558cb6-b90d-4297-b454-ed520c7a748c",
   "metadata": {},
   "outputs": [
    {
     "data": {
      "text/html": [
       "<div>\n",
       "<style scoped>\n",
       "    .dataframe tbody tr th:only-of-type {\n",
       "        vertical-align: middle;\n",
       "    }\n",
       "\n",
       "    .dataframe tbody tr th {\n",
       "        vertical-align: top;\n",
       "    }\n",
       "\n",
       "    .dataframe thead th {\n",
       "        text-align: right;\n",
       "    }\n",
       "</style>\n",
       "<table border=\"1\" class=\"dataframe\">\n",
       "  <thead>\n",
       "    <tr style=\"text-align: right;\">\n",
       "      <th></th>\n",
       "      <th>customer_id</th>\n",
       "      <th>country</th>\n",
       "      <th>amount_spend</th>\n",
       "    </tr>\n",
       "  </thead>\n",
       "  <tbody>\n",
       "    <tr>\n",
       "      <th>1698</th>\n",
       "      <td>14646</td>\n",
       "      <td>Netherlands</td>\n",
       "      <td>280206.02</td>\n",
       "    </tr>\n",
       "    <tr>\n",
       "      <th>4210</th>\n",
       "      <td>18102</td>\n",
       "      <td>United Kingdom</td>\n",
       "      <td>259657.30</td>\n",
       "    </tr>\n",
       "    <tr>\n",
       "      <th>3737</th>\n",
       "      <td>17450</td>\n",
       "      <td>United Kingdom</td>\n",
       "      <td>194550.79</td>\n",
       "    </tr>\n",
       "    <tr>\n",
       "      <th>3017</th>\n",
       "      <td>16446</td>\n",
       "      <td>United Kingdom</td>\n",
       "      <td>168472.50</td>\n",
       "    </tr>\n",
       "    <tr>\n",
       "      <th>1888</th>\n",
       "      <td>14911</td>\n",
       "      <td>EIRE</td>\n",
       "      <td>143825.06</td>\n",
       "    </tr>\n",
       "  </tbody>\n",
       "</table>\n",
       "</div>"
      ],
      "text/plain": [
       "      customer_id         country  amount_spend\n",
       "1698        14646     Netherlands     280206.02\n",
       "4210        18102  United Kingdom     259657.30\n",
       "3737        17450  United Kingdom     194550.79\n",
       "3017        16446  United Kingdom     168472.50\n",
       "1888        14911            EIRE     143825.06"
      ]
     },
     "execution_count": 116,
     "metadata": {},
     "output_type": "execute_result"
    }
   ],
   "source": [
    "money_spend.sort_values(by = \"amount_spend\", ascending = False).head()"
   ]
  },
  {
   "cell_type": "markdown",
   "id": "d0c4ec42-760e-4a9b-9a56-d0d49ce63f5f",
   "metadata": {},
   "source": [
    "# Visualizing - Money spend for different customers"
   ]
  },
  {
   "cell_type": "code",
   "execution_count": 117,
   "id": "ebef9729-4ec6-4d16-911e-56dc562c9522",
   "metadata": {},
   "outputs": [
    {
     "data": {
      "image/png": "[encoded data removed]",
      "text/plain": [
       "<Figure size 1500x600 with 1 Axes>"
      ]
     },
     "metadata": {},
     "output_type": "display_data"
    }
   ],
   "source": [
    "money_spend = df_new.groupby(by = [\"customer_id\",\"country\"], as_index = False)[\"amount_spend\"].sum()\n",
    "plt.subplots(figsize = (15,6))\n",
    "\n",
    "plt.plot(money_spend.customer_id,money_spend.amount_spend)\n",
    "\n",
    "plt.xlabel(\"Customer Id\")\n",
    "plt.ylabel(\"Money spend (Doller)\")\n",
    "plt.title(\"Money spend for different Customers\")\n",
    "\n",
    "plt.show()"
   ]
  },
  {
   "cell_type": "code",
   "execution_count": 118,
   "id": "524cfdf5-64b7-48a4-aafa-05d4a5552d5e",
   "metadata": {},
   "outputs": [
    {
     "data": {
      "text/html": [
       "<div>\n",
       "<style scoped>\n",
       "    .dataframe tbody tr th:only-of-type {\n",
       "        vertical-align: middle;\n",
       "    }\n",
       "\n",
       "    .dataframe tbody tr th {\n",
       "        vertical-align: top;\n",
       "    }\n",
       "\n",
       "    .dataframe thead th {\n",
       "        text-align: right;\n",
       "    }\n",
       "</style>\n",
       "<table border=\"1\" class=\"dataframe\">\n",
       "  <thead>\n",
       "    <tr style=\"text-align: right;\">\n",
       "      <th></th>\n",
       "      <th>invoice_num</th>\n",
       "      <th>invoice_date</th>\n",
       "      <th>year_month</th>\n",
       "      <th>month</th>\n",
       "      <th>day</th>\n",
       "      <th>hour</th>\n",
       "      <th>stock_code</th>\n",
       "      <th>description</th>\n",
       "      <th>quantity</th>\n",
       "      <th>unit_price</th>\n",
       "      <th>amount_spend</th>\n",
       "      <th>customer_id</th>\n",
       "      <th>country</th>\n",
       "    </tr>\n",
       "  </thead>\n",
       "  <tbody>\n",
       "    <tr>\n",
       "      <th>0</th>\n",
       "      <td>536365</td>\n",
       "      <td>2010-12-01 08:26:00</td>\n",
       "      <td>201012</td>\n",
       "      <td>12</td>\n",
       "      <td>3</td>\n",
       "      <td>8</td>\n",
       "      <td>85123A</td>\n",
       "      <td>white hanging heart t-light holder</td>\n",
       "      <td>6</td>\n",
       "      <td>2.55</td>\n",
       "      <td>15.30</td>\n",
       "      <td>17850</td>\n",
       "      <td>United Kingdom</td>\n",
       "    </tr>\n",
       "    <tr>\n",
       "      <th>1</th>\n",
       "      <td>536365</td>\n",
       "      <td>2010-12-01 08:26:00</td>\n",
       "      <td>201012</td>\n",
       "      <td>12</td>\n",
       "      <td>3</td>\n",
       "      <td>8</td>\n",
       "      <td>71053</td>\n",
       "      <td>white metal lantern</td>\n",
       "      <td>6</td>\n",
       "      <td>3.39</td>\n",
       "      <td>20.34</td>\n",
       "      <td>17850</td>\n",
       "      <td>United Kingdom</td>\n",
       "    </tr>\n",
       "    <tr>\n",
       "      <th>2</th>\n",
       "      <td>536365</td>\n",
       "      <td>2010-12-01 08:26:00</td>\n",
       "      <td>201012</td>\n",
       "      <td>12</td>\n",
       "      <td>3</td>\n",
       "      <td>8</td>\n",
       "      <td>84406B</td>\n",
       "      <td>cream cupid hearts coat hanger</td>\n",
       "      <td>8</td>\n",
       "      <td>2.75</td>\n",
       "      <td>22.00</td>\n",
       "      <td>17850</td>\n",
       "      <td>United Kingdom</td>\n",
       "    </tr>\n",
       "  </tbody>\n",
       "</table>\n",
       "</div>"
      ],
      "text/plain": [
       "  invoice_num        invoice_date  year_month  month  day  hour stock_code  \\\n",
       "0      536365 2010-12-01 08:26:00      201012     12    3     8     85123A   \n",
       "1      536365 2010-12-01 08:26:00      201012     12    3     8      71053   \n",
       "2      536365 2010-12-01 08:26:00      201012     12    3     8     84406B   \n",
       "\n",
       "                          description  quantity  unit_price  amount_spend  \\\n",
       "0  white hanging heart t-light holder         6        2.55         15.30   \n",
       "1                 white metal lantern         6        3.39         20.34   \n",
       "2      cream cupid hearts coat hanger         8        2.75         22.00   \n",
       "\n",
       "   customer_id         country  \n",
       "0        17850  United Kingdom  \n",
       "1        17850  United Kingdom  \n",
       "2        17850  United Kingdom  "
      ]
     },
     "execution_count": 118,
     "metadata": {},
     "output_type": "execute_result"
    }
   ],
   "source": [
    "df_new.head(3)"
   ]
  },
  {
   "cell_type": "markdown",
   "id": "b06565eb-0a5a-4b8a-96a3-cb2b9b386692",
   "metadata": {},
   "source": [
    "# Number of order for different methods"
   ]
  },
  {
   "cell_type": "code",
   "execution_count": 119,
   "id": "a96261ca-aacd-4b0e-ab82-5ac4770b999b",
   "metadata": {},
   "outputs": [],
   "source": [
    "color = sns.color_palette()"
   ]
  },
  {
   "cell_type": "markdown",
   "id": "ba492bba-2981-4bb5-b95b-8ca70723778e",
   "metadata": {},
   "source": [
    "# Intial Data"
   ]
  },
  {
   "cell_type": "code",
   "execution_count": 120,
   "id": "10d25a6a-ccb9-4284-81e5-1c449092fff9",
   "metadata": {},
   "outputs": [
    {
     "data": {
      "text/html": [
       "<div>\n",
       "<style scoped>\n",
       "    .dataframe tbody tr th:only-of-type {\n",
       "        vertical-align: middle;\n",
       "    }\n",
       "\n",
       "    .dataframe tbody tr th {\n",
       "        vertical-align: top;\n",
       "    }\n",
       "\n",
       "    .dataframe thead th {\n",
       "        text-align: right;\n",
       "    }\n",
       "</style>\n",
       "<table border=\"1\" class=\"dataframe\">\n",
       "  <thead>\n",
       "    <tr style=\"text-align: right;\">\n",
       "      <th></th>\n",
       "      <th>invoice_num</th>\n",
       "      <th>invoice_date</th>\n",
       "      <th>year_month</th>\n",
       "      <th>month</th>\n",
       "      <th>day</th>\n",
       "      <th>hour</th>\n",
       "      <th>stock_code</th>\n",
       "      <th>description</th>\n",
       "      <th>quantity</th>\n",
       "      <th>unit_price</th>\n",
       "      <th>amount_spend</th>\n",
       "      <th>customer_id</th>\n",
       "      <th>country</th>\n",
       "    </tr>\n",
       "  </thead>\n",
       "  <tbody>\n",
       "    <tr>\n",
       "      <th>0</th>\n",
       "      <td>536365</td>\n",
       "      <td>2010-12-01 08:26:00</td>\n",
       "      <td>201012</td>\n",
       "      <td>12</td>\n",
       "      <td>3</td>\n",
       "      <td>8</td>\n",
       "      <td>85123A</td>\n",
       "      <td>white hanging heart t-light holder</td>\n",
       "      <td>6</td>\n",
       "      <td>2.55</td>\n",
       "      <td>15.30</td>\n",
       "      <td>17850</td>\n",
       "      <td>United Kingdom</td>\n",
       "    </tr>\n",
       "    <tr>\n",
       "      <th>1</th>\n",
       "      <td>536365</td>\n",
       "      <td>2010-12-01 08:26:00</td>\n",
       "      <td>201012</td>\n",
       "      <td>12</td>\n",
       "      <td>3</td>\n",
       "      <td>8</td>\n",
       "      <td>71053</td>\n",
       "      <td>white metal lantern</td>\n",
       "      <td>6</td>\n",
       "      <td>3.39</td>\n",
       "      <td>20.34</td>\n",
       "      <td>17850</td>\n",
       "      <td>United Kingdom</td>\n",
       "    </tr>\n",
       "    <tr>\n",
       "      <th>2</th>\n",
       "      <td>536365</td>\n",
       "      <td>2010-12-01 08:26:00</td>\n",
       "      <td>201012</td>\n",
       "      <td>12</td>\n",
       "      <td>3</td>\n",
       "      <td>8</td>\n",
       "      <td>84406B</td>\n",
       "      <td>cream cupid hearts coat hanger</td>\n",
       "      <td>8</td>\n",
       "      <td>2.75</td>\n",
       "      <td>22.00</td>\n",
       "      <td>17850</td>\n",
       "      <td>United Kingdom</td>\n",
       "    </tr>\n",
       "  </tbody>\n",
       "</table>\n",
       "</div>"
      ],
      "text/plain": [
       "  invoice_num        invoice_date  year_month  month  day  hour stock_code  \\\n",
       "0      536365 2010-12-01 08:26:00      201012     12    3     8     85123A   \n",
       "1      536365 2010-12-01 08:26:00      201012     12    3     8      71053   \n",
       "2      536365 2010-12-01 08:26:00      201012     12    3     8     84406B   \n",
       "\n",
       "                          description  quantity  unit_price  amount_spend  \\\n",
       "0  white hanging heart t-light holder         6        2.55         15.30   \n",
       "1                 white metal lantern         6        3.39         20.34   \n",
       "2      cream cupid hearts coat hanger         8        2.75         22.00   \n",
       "\n",
       "   customer_id         country  \n",
       "0        17850  United Kingdom  \n",
       "1        17850  United Kingdom  \n",
       "2        17850  United Kingdom  "
      ]
     },
     "execution_count": 120,
     "metadata": {},
     "output_type": "execute_result"
    }
   ],
   "source": [
    "df_new.head(3)"
   ]
  },
  {
   "cell_type": "code",
   "execution_count": 121,
   "id": "12b0cf23-0834-4869-ac0b-afd9edcf86a8",
   "metadata": {},
   "outputs": [
    {
     "data": {
      "text/plain": [
       "<pandas.core.groupby.generic.DataFrameGroupBy object at 0x000001AAA50F51F0>"
      ]
     },
     "execution_count": 121,
     "metadata": {},
     "output_type": "execute_result"
    }
   ],
   "source": [
    "df_new.groupby(\"invoice_num\")"
   ]
  },
  {
   "cell_type": "code",
   "execution_count": 122,
   "id": "11d85c6f-e63f-4141-bebe-4f6c214648fb",
   "metadata": {},
   "outputs": [
    {
     "data": {
      "text/plain": [
       "<pandas.core.groupby.generic.SeriesGroupBy object at 0x000001AAA57DD4F0>"
      ]
     },
     "execution_count": 122,
     "metadata": {},
     "output_type": "execute_result"
    }
   ],
   "source": [
    "df_new.groupby(\"invoice_num\")[\"year_month\"]"
   ]
  },
  {
   "cell_type": "code",
   "execution_count": 123,
   "id": "b5588256-00f9-40b1-8299-208347535a1f",
   "metadata": {},
   "outputs": [
    {
     "data": {
      "text/plain": [
       "invoice_num\n",
       "536365    [201012]\n",
       "536366    [201012]\n",
       "536367    [201012]\n",
       "536368    [201012]\n",
       "536369    [201012]\n",
       "            ...   \n",
       "581583    [201112]\n",
       "581584    [201112]\n",
       "581585    [201112]\n",
       "581586    [201112]\n",
       "581587    [201112]\n",
       "Name: year_month, Length: 18536, dtype: object"
      ]
     },
     "execution_count": 123,
     "metadata": {},
     "output_type": "execute_result"
    }
   ],
   "source": [
    "df_new.groupby(\"invoice_num\")[\"year_month\"].unique()"
   ]
  },
  {
   "cell_type": "code",
   "execution_count": 124,
   "id": "1b20b7c2-9b40-4921-b930-1b59fc4362cb",
   "metadata": {},
   "outputs": [
    {
     "data": {
      "text/plain": [
       "year_month\n",
       "[201111]    2658\n",
       "[201110]    1929\n",
       "[201109]    1756\n",
       "[201105]    1555\n",
       "[201012]    1400\n",
       "[201106]    1393\n",
       "[201107]    1331\n",
       "[201103]    1321\n",
       "[201108]    1281\n",
       "[201104]    1149\n",
       "[201102]     998\n",
       "[201101]     987\n",
       "[201112]     778\n",
       "Name: count, dtype: int64"
      ]
     },
     "execution_count": 124,
     "metadata": {},
     "output_type": "execute_result"
    }
   ],
   "source": [
    "df_new.groupby(\"invoice_num\")[\"year_month\"].unique().value_counts()"
   ]
  },
  {
   "cell_type": "code",
   "execution_count": 125,
   "id": "7dcecc81-242a-4805-99b2-633b7bfb59c1",
   "metadata": {},
   "outputs": [
    {
     "data": {
      "text/plain": [
       "year_month\n",
       "[201012]    1400\n",
       "[201101]     987\n",
       "[201102]     998\n",
       "[201103]    1321\n",
       "[201104]    1149\n",
       "[201105]    1555\n",
       "[201106]    1393\n",
       "[201107]    1331\n",
       "[201108]    1281\n",
       "[201109]    1756\n",
       "[201110]    1929\n",
       "[201111]    2658\n",
       "[201112]     778\n",
       "Name: count, dtype: int64"
      ]
     },
     "execution_count": 125,
     "metadata": {},
     "output_type": "execute_result"
    }
   ],
   "source": [
    "df_new.groupby(\"invoice_num\")[\"year_month\"].unique().value_counts().sort_index()"
   ]
  },
  {
   "cell_type": "code",
   "execution_count": 126,
   "id": "a4ee3ac9-7e74-409a-b432-c8ab338d53e7",
   "metadata": {},
   "outputs": [
    {
     "data": {
      "image/png": "[encoded data removed]",
      "text/plain": [
       "<Figure size 1000x600 with 1 Axes>"
      ]
     },
     "metadata": {},
     "output_type": "display_data"
    }
   ],
   "source": [
    "ax=df_new.groupby(\"invoice_num\")[\"year_month\"].unique().value_counts().sort_index().plot(kind =\"bar\", color = \"b\",figsize =(10, 6))\n",
    "\n",
    "ax.set_xlabel(\"Month and Year\", fontsize = 15)\n",
    "ax.set_ylabel(\"Number of Orders\", fontsize = 15)\n",
    "ax.set_title(\"Number of order for different Months (1st Dec 2010 - 9th Dec 2011)\", fontsize=15)\n",
    "\n",
    "t = (\"Dec_10\",\"Jan_11\", \"Feb_11\", \"Mar_2011\", \"Apr_11\", \"May_11\", \"Jun_11\", \"July_11\", \"Aug_11\", \"Sep_11\", \"Oct_11\", \"Nov_11\",\"Dec_11\")    \n",
    "ax.set_xticklabels(t, rotation=45)\n",
    "\n",
    "\n",
    "plt.show()"
   ]
  },
  {
   "cell_type": "markdown",
   "id": "e3f55e80-f12d-4fc5-a005-28e19179d072",
   "metadata": {},
   "source": [
    " # How many order (per day)?"
   ]
  },
  {
   "cell_type": "code",
   "execution_count": 127,
   "id": "374e4fee-5b53-4a93-b200-8133cce8dd04",
   "metadata": {},
   "outputs": [
    {
     "data": {
      "text/plain": [
       "<pandas.core.groupby.generic.DataFrameGroupBy object at 0x000001AAA57DE300>"
      ]
     },
     "execution_count": 127,
     "metadata": {},
     "output_type": "execute_result"
    }
   ],
   "source": [
    "df_new.groupby(\"invoice_num\")"
   ]
  },
  {
   "cell_type": "code",
   "execution_count": 128,
   "id": "56d0aa37-fcf8-41b5-9a7a-7ca6fc1cfe4d",
   "metadata": {},
   "outputs": [
    {
     "data": {
      "text/plain": [
       "<pandas.core.groupby.generic.SeriesGroupBy object at 0x000001AAA57BB140>"
      ]
     },
     "execution_count": 128,
     "metadata": {},
     "output_type": "execute_result"
    }
   ],
   "source": [
    "df_new.groupby(\"invoice_num\")[\"day\"]"
   ]
  },
  {
   "cell_type": "code",
   "execution_count": 129,
   "id": "7dae8f4e-06fc-4258-a1dc-e89962d269d0",
   "metadata": {},
   "outputs": [
    {
     "data": {
      "text/plain": [
       "invoice_num\n",
       "536365    [3]\n",
       "536366    [3]\n",
       "536367    [3]\n",
       "536368    [3]\n",
       "536369    [3]\n",
       "         ... \n",
       "581583    [5]\n",
       "581584    [5]\n",
       "581585    [5]\n",
       "581586    [5]\n",
       "581587    [5]\n",
       "Name: day, Length: 18536, dtype: object"
      ]
     },
     "execution_count": 129,
     "metadata": {},
     "output_type": "execute_result"
    }
   ],
   "source": [
    "df_new.groupby(\"invoice_num\")[\"day\"].unique()"
   ]
  },
  {
   "cell_type": "code",
   "execution_count": 130,
   "id": "6b52e021-ce43-41b5-806c-c905b0787477",
   "metadata": {},
   "outputs": [
    {
     "data": {
      "text/plain": [
       "day\n",
       "[4]    4033\n",
       "[3]    3455\n",
       "[2]    3185\n",
       "[1]    2863\n",
       "[5]    2831\n",
       "[7]    2169\n",
       "Name: count, dtype: int64"
      ]
     },
     "execution_count": 130,
     "metadata": {},
     "output_type": "execute_result"
    }
   ],
   "source": [
    "df_new.groupby(\"invoice_num\")[\"day\"].unique().value_counts()"
   ]
  },
  {
   "cell_type": "code",
   "execution_count": 131,
   "id": "34f96c54-81b4-4206-ad4c-85fb1024aa18",
   "metadata": {},
   "outputs": [
    {
     "data": {
      "text/plain": [
       "day\n",
       "[1]    2863\n",
       "[2]    3185\n",
       "[3]    3455\n",
       "[4]    4033\n",
       "[5]    2831\n",
       "[7]    2169\n",
       "Name: count, dtype: int64"
      ]
     },
     "execution_count": 131,
     "metadata": {},
     "output_type": "execute_result"
    }
   ],
   "source": [
    "df_new.groupby(\"invoice_num\")[\"day\"].unique().value_counts().sort_index()"
   ]
  },
  {
   "cell_type": "markdown",
   "id": "199f68f7-6306-495c-9359-3473c7bd8c03",
   "metadata": {},
   "source": [
    "# Days wise sales count/business"
   ]
  },
  {
   "cell_type": "code",
   "execution_count": 133,
   "id": "d83f741c-e0e8-4ad1-a4e6-f0acae5800fc",
   "metadata": {},
   "outputs": [
    {
     "data": {
      "text/html": [
       "<div>\n",
       "<style scoped>\n",
       "    .dataframe tbody tr th:only-of-type {\n",
       "        vertical-align: middle;\n",
       "    }\n",
       "\n",
       "    .dataframe tbody tr th {\n",
       "        vertical-align: top;\n",
       "    }\n",
       "\n",
       "    .dataframe thead th {\n",
       "        text-align: right;\n",
       "    }\n",
       "</style>\n",
       "<table border=\"1\" class=\"dataframe\">\n",
       "  <thead>\n",
       "    <tr style=\"text-align: right;\">\n",
       "      <th></th>\n",
       "      <th>invoice_num</th>\n",
       "      <th>invoice_date</th>\n",
       "      <th>year_month</th>\n",
       "      <th>month</th>\n",
       "      <th>day</th>\n",
       "      <th>hour</th>\n",
       "      <th>stock_code</th>\n",
       "      <th>description</th>\n",
       "      <th>quantity</th>\n",
       "      <th>unit_price</th>\n",
       "      <th>amount_spend</th>\n",
       "      <th>customer_id</th>\n",
       "      <th>country</th>\n",
       "    </tr>\n",
       "  </thead>\n",
       "  <tbody>\n",
       "    <tr>\n",
       "      <th>0</th>\n",
       "      <td>536365</td>\n",
       "      <td>2010-12-01 08:26:00</td>\n",
       "      <td>201012</td>\n",
       "      <td>12</td>\n",
       "      <td>3</td>\n",
       "      <td>8</td>\n",
       "      <td>85123A</td>\n",
       "      <td>white hanging heart t-light holder</td>\n",
       "      <td>6</td>\n",
       "      <td>2.55</td>\n",
       "      <td>15.30</td>\n",
       "      <td>17850</td>\n",
       "      <td>United Kingdom</td>\n",
       "    </tr>\n",
       "    <tr>\n",
       "      <th>1</th>\n",
       "      <td>536365</td>\n",
       "      <td>2010-12-01 08:26:00</td>\n",
       "      <td>201012</td>\n",
       "      <td>12</td>\n",
       "      <td>3</td>\n",
       "      <td>8</td>\n",
       "      <td>71053</td>\n",
       "      <td>white metal lantern</td>\n",
       "      <td>6</td>\n",
       "      <td>3.39</td>\n",
       "      <td>20.34</td>\n",
       "      <td>17850</td>\n",
       "      <td>United Kingdom</td>\n",
       "    </tr>\n",
       "    <tr>\n",
       "      <th>2</th>\n",
       "      <td>536365</td>\n",
       "      <td>2010-12-01 08:26:00</td>\n",
       "      <td>201012</td>\n",
       "      <td>12</td>\n",
       "      <td>3</td>\n",
       "      <td>8</td>\n",
       "      <td>84406B</td>\n",
       "      <td>cream cupid hearts coat hanger</td>\n",
       "      <td>8</td>\n",
       "      <td>2.75</td>\n",
       "      <td>22.00</td>\n",
       "      <td>17850</td>\n",
       "      <td>United Kingdom</td>\n",
       "    </tr>\n",
       "  </tbody>\n",
       "</table>\n",
       "</div>"
      ],
      "text/plain": [
       "  invoice_num        invoice_date  year_month  month  day  hour stock_code  \\\n",
       "0      536365 2010-12-01 08:26:00      201012     12    3     8     85123A   \n",
       "1      536365 2010-12-01 08:26:00      201012     12    3     8      71053   \n",
       "2      536365 2010-12-01 08:26:00      201012     12    3     8     84406B   \n",
       "\n",
       "                          description  quantity  unit_price  amount_spend  \\\n",
       "0  white hanging heart t-light holder         6        2.55         15.30   \n",
       "1                 white metal lantern         6        3.39         20.34   \n",
       "2      cream cupid hearts coat hanger         8        2.75         22.00   \n",
       "\n",
       "   customer_id         country  \n",
       "0        17850  United Kingdom  \n",
       "1        17850  United Kingdom  \n",
       "2        17850  United Kingdom  "
      ]
     },
     "execution_count": 133,
     "metadata": {},
     "output_type": "execute_result"
    }
   ],
   "source": [
    "df_new.head(3)"
   ]
  },
  {
   "cell_type": "code",
   "execution_count": 134,
   "id": "f5efb8b1-6ad7-49f3-bce0-34be6ace684b",
   "metadata": {},
   "outputs": [
    {
     "data": {
      "text/plain": [
       "day\n",
       "[1]    2863\n",
       "[2]    3185\n",
       "[3]    3455\n",
       "[4]    4033\n",
       "[5]    2831\n",
       "[7]    2169\n",
       "Name: count, dtype: int64"
      ]
     },
     "execution_count": 134,
     "metadata": {},
     "output_type": "execute_result"
    }
   ],
   "source": [
    "df_new.groupby(\"invoice_num\")[\"day\"].unique().value_counts().sort_index()\n"
   ]
  },
  {
   "cell_type": "markdown",
   "id": "144a407e-d9ac-4f85-b5f0-db0d4b276eff",
   "metadata": {},
   "source": [
    "# Lets visualization Day wise sales count/business"
   ]
  },
  {
   "cell_type": "code",
   "execution_count": 139,
   "id": "1c12e20e-d4c8-480c-967d-f7212771f261",
   "metadata": {},
   "outputs": [
    {
     "data": {
      "image/png": "[encoded data removed]",
      "text/plain": [
       "<Figure size 1500x600 with 1 Axes>"
      ]
     },
     "metadata": {},
     "output_type": "display_data"
    }
   ],
   "source": [
    "ax = df_new.groupby(\"invoice_num\")[\"day\"].unique().value_counts().sort_index().plot(kind = \"bar\",color=color[0],figsize=(15,6))\n",
    "ax.set_xlabel(\"Day\",fontsize = 15)\n",
    "ax.set_ylabel(\"Number of orders\", fontsize = 15)\n",
    "ax.set_title(\"Number of orders for different Days\", fontsize = 15)\n",
    "d = (\"mon\",\"tue\",\"wed\",\"thur\",\"fri\",\"sun\")\n",
    "ax.set_xticklabels(d, rotation = \"horizontal\", fontsize = 15)\n",
    "\n",
    "plt.show()"
   ]
  },
  {
   "cell_type": "code",
   "execution_count": 140,
   "id": "68ea0136-2dfc-4cb8-b38e-f4fd5f62f6e1",
   "metadata": {},
   "outputs": [
    {
     "data": {
      "text/plain": [
       "count    397924.000000\n",
       "mean          3.116174\n",
       "std          22.096788\n",
       "min           0.000000\n",
       "25%           1.250000\n",
       "50%           1.950000\n",
       "75%           3.750000\n",
       "max        8142.750000\n",
       "Name: unit_price, dtype: float64"
      ]
     },
     "execution_count": 140,
     "metadata": {},
     "output_type": "execute_result"
    }
   ],
   "source": [
    "df_new.unit_price.describe()"
   ]
  },
  {
   "cell_type": "markdown",
   "id": "b5fc310c-830b-4bbd-a70f-9b8790245685",
   "metadata": {},
   "source": [
    " # Min value for product is zero, so these are some free prodects"
   ]
  },
  {
   "cell_type": "code",
   "execution_count": 142,
   "id": "a38148f3-b61b-46cb-9311-e1e00c06d0b0",
   "metadata": {},
   "outputs": [
    {
     "data": {
      "image/png": "[encoded data removed]",
      "text/plain": [
       "<Figure size 1200x600 with 1 Axes>"
      ]
     },
     "metadata": {},
     "output_type": "display_data"
    }
   ],
   "source": [
    "# check the distribution of unit price\n",
    "plt.subplots(figsize = (12,6))\n",
    "\n",
    "sns.boxplot(df_new.unit_price)\n",
    "plt.show()\n"
   ]
  },
  {
   "cell_type": "markdown",
   "id": "fac36f69-527c-4176-892a-1d1e06f0f698",
   "metadata": {},
   "source": [
    "# Filter only free prodect(cost = 0)"
   ]
  },
  {
   "cell_type": "code",
   "execution_count": 144,
   "id": "edad43a0-b963-45d9-84c1-469da92a8a0e",
   "metadata": {},
   "outputs": [],
   "source": [
    "df_free = df_new[df_new.unit_price == 0]"
   ]
  },
  {
   "cell_type": "code",
   "execution_count": 145,
   "id": "b01faa7e-2757-47d4-abfe-0797b724e0b9",
   "metadata": {},
   "outputs": [
    {
     "data": {
      "text/plain": [
       "40"
      ]
     },
     "execution_count": 145,
     "metadata": {},
     "output_type": "execute_result"
    }
   ],
   "source": [
    "len(df_free)"
   ]
  },
  {
   "cell_type": "code",
   "execution_count": 148,
   "id": "5fb06455-2d6e-44d5-8ff0-5b61aa30a7fc",
   "metadata": {},
   "outputs": [
    {
     "data": {
      "text/plain": [
       "9302      201012\n",
       "33576     201012\n",
       "40089     201012\n",
       "47068     201101\n",
       "47070     201101\n",
       "56674     201101\n",
       "86789     201102\n",
       "130188    201103\n",
       "139453    201103\n",
       "145208    201104\n",
       "157042    201104\n",
       "187613    201105\n",
       "198383    201105\n",
       "279324    201107\n",
       "282912    201107\n",
       "285657    201108\n",
       "298054    201108\n",
       "314745    201108\n",
       "314746    201108\n",
       "314747    201108\n",
       "314748    201108\n",
       "358655    201109\n",
       "361825    201109\n",
       "379913    201110\n",
       "395529    201110\n",
       "420404    201110\n",
       "436428    201111\n",
       "436597    201111\n",
       "436961    201111\n",
       "439361    201111\n",
       "446125    201111\n",
       "446793    201111\n",
       "446794    201111\n",
       "454463    201111\n",
       "454464    201111\n",
       "479079    201111\n",
       "479546    201111\n",
       "480649    201111\n",
       "485985    201111\n",
       "502122    201111\n",
       "Name: year_month, dtype: int64"
      ]
     },
     "execution_count": 148,
     "metadata": {},
     "output_type": "execute_result"
    }
   ],
   "source": [
    "df_free.year_month"
   ]
  },
  {
   "cell_type": "code",
   "execution_count": 150,
   "id": "0394d022-0dd3-4b7d-b85c-211c41e9ad53",
   "metadata": {},
   "outputs": [
    {
     "data": {
      "text/plain": [
       "year_month\n",
       "201111    14\n",
       "201108     6\n",
       "201012     3\n",
       "201101     3\n",
       "201110     3\n",
       "201103     2\n",
       "201104     2\n",
       "201105     2\n",
       "201107     2\n",
       "201109     2\n",
       "201102     1\n",
       "Name: count, dtype: int64"
      ]
     },
     "execution_count": 150,
     "metadata": {},
     "output_type": "execute_result"
    }
   ],
   "source": [
    "df_free.year_month.value_counts()"
   ]
  },
  {
   "cell_type": "code",
   "execution_count": 151,
   "id": "9cb04616-c037-4363-a708-ff0dda1f34b3",
   "metadata": {},
   "outputs": [
    {
     "data": {
      "text/plain": [
       "year_month\n",
       "201012     3\n",
       "201101     3\n",
       "201102     1\n",
       "201103     2\n",
       "201104     2\n",
       "201105     2\n",
       "201107     2\n",
       "201108     6\n",
       "201109     2\n",
       "201110     3\n",
       "201111    14\n",
       "Name: count, dtype: int64"
      ]
     },
     "execution_count": 151,
     "metadata": {},
     "output_type": "execute_result"
    }
   ],
   "source": [
    "df_free.year_month.value_counts().sort_index()"
   ]
  },
  {
   "cell_type": "code",
   "execution_count": 154,
   "id": "e68ef450-c56c-4b4a-8ee0-ccaa5e892167",
   "metadata": {},
   "outputs": [
    {
     "data": {
      "image/png": "[encoded data removed]",
      "text/plain": [
       "<Figure size 1200x600 with 1 Axes>"
      ]
     },
     "metadata": {},
     "output_type": "display_data"
    }
   ],
   "source": [
    "ax=df_free.year_month.value_counts().sort_index().plot(kind = \"bar\",figsize = (12,6),color=color[0])\n",
    "ax.set_xlabel(\"month\",fontsize = 15)\n",
    "ax.set_ylabel(\"Frequency\", fontsize = 15)\n",
    "ax.set_title(\"Frequency for different months (Dec 2010-Dec 2011)\",fontsize =15)\n",
    "a = (\"Dec_10\",\"Jan_11\",\"Feb_11\",\"Mar_11\",\"Apr_11\",\"May_11\",\"July_11\",\"Aug_11\",\"Sep_11\",\"Oct_11\",\"Nov_11\")\n",
    "  \n",
    "ax.set_xticklabels(a, rotation = \"horizontal\", fontsize = 13)\n",
    "plt.show()"
   ]
  },
  {
   "cell_type": "markdown",
   "id": "ee3c0d9f-0969-45a7-b2b4-c0cc61adefbe",
   "metadata": {},
   "source": [
    "# How many orders for each country?"
   ]
  },
  {
   "cell_type": "code",
   "execution_count": 155,
   "id": "de9b42e8-04db-4b7d-a875-73098442c944",
   "metadata": {},
   "outputs": [
    {
     "data": {
      "text/html": [
       "<div>\n",
       "<style scoped>\n",
       "    .dataframe tbody tr th:only-of-type {\n",
       "        vertical-align: middle;\n",
       "    }\n",
       "\n",
       "    .dataframe tbody tr th {\n",
       "        vertical-align: top;\n",
       "    }\n",
       "\n",
       "    .dataframe thead th {\n",
       "        text-align: right;\n",
       "    }\n",
       "</style>\n",
       "<table border=\"1\" class=\"dataframe\">\n",
       "  <thead>\n",
       "    <tr style=\"text-align: right;\">\n",
       "      <th></th>\n",
       "      <th>invoice_num</th>\n",
       "      <th>invoice_date</th>\n",
       "      <th>year_month</th>\n",
       "      <th>month</th>\n",
       "      <th>day</th>\n",
       "      <th>hour</th>\n",
       "      <th>stock_code</th>\n",
       "      <th>description</th>\n",
       "      <th>quantity</th>\n",
       "      <th>unit_price</th>\n",
       "      <th>amount_spend</th>\n",
       "      <th>customer_id</th>\n",
       "      <th>country</th>\n",
       "    </tr>\n",
       "  </thead>\n",
       "  <tbody>\n",
       "    <tr>\n",
       "      <th>0</th>\n",
       "      <td>536365</td>\n",
       "      <td>2010-12-01 08:26:00</td>\n",
       "      <td>201012</td>\n",
       "      <td>12</td>\n",
       "      <td>3</td>\n",
       "      <td>8</td>\n",
       "      <td>85123A</td>\n",
       "      <td>white hanging heart t-light holder</td>\n",
       "      <td>6</td>\n",
       "      <td>2.55</td>\n",
       "      <td>15.30</td>\n",
       "      <td>17850</td>\n",
       "      <td>United Kingdom</td>\n",
       "    </tr>\n",
       "    <tr>\n",
       "      <th>1</th>\n",
       "      <td>536365</td>\n",
       "      <td>2010-12-01 08:26:00</td>\n",
       "      <td>201012</td>\n",
       "      <td>12</td>\n",
       "      <td>3</td>\n",
       "      <td>8</td>\n",
       "      <td>71053</td>\n",
       "      <td>white metal lantern</td>\n",
       "      <td>6</td>\n",
       "      <td>3.39</td>\n",
       "      <td>20.34</td>\n",
       "      <td>17850</td>\n",
       "      <td>United Kingdom</td>\n",
       "    </tr>\n",
       "    <tr>\n",
       "      <th>2</th>\n",
       "      <td>536365</td>\n",
       "      <td>2010-12-01 08:26:00</td>\n",
       "      <td>201012</td>\n",
       "      <td>12</td>\n",
       "      <td>3</td>\n",
       "      <td>8</td>\n",
       "      <td>84406B</td>\n",
       "      <td>cream cupid hearts coat hanger</td>\n",
       "      <td>8</td>\n",
       "      <td>2.75</td>\n",
       "      <td>22.00</td>\n",
       "      <td>17850</td>\n",
       "      <td>United Kingdom</td>\n",
       "    </tr>\n",
       "    <tr>\n",
       "      <th>3</th>\n",
       "      <td>536365</td>\n",
       "      <td>2010-12-01 08:26:00</td>\n",
       "      <td>201012</td>\n",
       "      <td>12</td>\n",
       "      <td>3</td>\n",
       "      <td>8</td>\n",
       "      <td>84029G</td>\n",
       "      <td>knitted union flag hot water bottle</td>\n",
       "      <td>6</td>\n",
       "      <td>3.39</td>\n",
       "      <td>20.34</td>\n",
       "      <td>17850</td>\n",
       "      <td>United Kingdom</td>\n",
       "    </tr>\n",
       "    <tr>\n",
       "      <th>4</th>\n",
       "      <td>536365</td>\n",
       "      <td>2010-12-01 08:26:00</td>\n",
       "      <td>201012</td>\n",
       "      <td>12</td>\n",
       "      <td>3</td>\n",
       "      <td>8</td>\n",
       "      <td>84029E</td>\n",
       "      <td>red woolly hottie white heart.</td>\n",
       "      <td>6</td>\n",
       "      <td>3.39</td>\n",
       "      <td>20.34</td>\n",
       "      <td>17850</td>\n",
       "      <td>United Kingdom</td>\n",
       "    </tr>\n",
       "    <tr>\n",
       "      <th>...</th>\n",
       "      <td>...</td>\n",
       "      <td>...</td>\n",
       "      <td>...</td>\n",
       "      <td>...</td>\n",
       "      <td>...</td>\n",
       "      <td>...</td>\n",
       "      <td>...</td>\n",
       "      <td>...</td>\n",
       "      <td>...</td>\n",
       "      <td>...</td>\n",
       "      <td>...</td>\n",
       "      <td>...</td>\n",
       "      <td>...</td>\n",
       "    </tr>\n",
       "    <tr>\n",
       "      <th>541904</th>\n",
       "      <td>581587</td>\n",
       "      <td>2011-12-09 12:50:00</td>\n",
       "      <td>201112</td>\n",
       "      <td>12</td>\n",
       "      <td>5</td>\n",
       "      <td>12</td>\n",
       "      <td>22613</td>\n",
       "      <td>pack of 20 spaceboy napkins</td>\n",
       "      <td>12</td>\n",
       "      <td>0.85</td>\n",
       "      <td>10.20</td>\n",
       "      <td>12680</td>\n",
       "      <td>France</td>\n",
       "    </tr>\n",
       "    <tr>\n",
       "      <th>541905</th>\n",
       "      <td>581587</td>\n",
       "      <td>2011-12-09 12:50:00</td>\n",
       "      <td>201112</td>\n",
       "      <td>12</td>\n",
       "      <td>5</td>\n",
       "      <td>12</td>\n",
       "      <td>22899</td>\n",
       "      <td>children's apron dolly girl</td>\n",
       "      <td>6</td>\n",
       "      <td>2.10</td>\n",
       "      <td>12.60</td>\n",
       "      <td>12680</td>\n",
       "      <td>France</td>\n",
       "    </tr>\n",
       "    <tr>\n",
       "      <th>541906</th>\n",
       "      <td>581587</td>\n",
       "      <td>2011-12-09 12:50:00</td>\n",
       "      <td>201112</td>\n",
       "      <td>12</td>\n",
       "      <td>5</td>\n",
       "      <td>12</td>\n",
       "      <td>23254</td>\n",
       "      <td>childrens cutlery dolly girl</td>\n",
       "      <td>4</td>\n",
       "      <td>4.15</td>\n",
       "      <td>16.60</td>\n",
       "      <td>12680</td>\n",
       "      <td>France</td>\n",
       "    </tr>\n",
       "    <tr>\n",
       "      <th>541907</th>\n",
       "      <td>581587</td>\n",
       "      <td>2011-12-09 12:50:00</td>\n",
       "      <td>201112</td>\n",
       "      <td>12</td>\n",
       "      <td>5</td>\n",
       "      <td>12</td>\n",
       "      <td>23255</td>\n",
       "      <td>childrens cutlery circus parade</td>\n",
       "      <td>4</td>\n",
       "      <td>4.15</td>\n",
       "      <td>16.60</td>\n",
       "      <td>12680</td>\n",
       "      <td>France</td>\n",
       "    </tr>\n",
       "    <tr>\n",
       "      <th>541908</th>\n",
       "      <td>581587</td>\n",
       "      <td>2011-12-09 12:50:00</td>\n",
       "      <td>201112</td>\n",
       "      <td>12</td>\n",
       "      <td>5</td>\n",
       "      <td>12</td>\n",
       "      <td>22138</td>\n",
       "      <td>baking set 9 piece retrospot</td>\n",
       "      <td>3</td>\n",
       "      <td>4.95</td>\n",
       "      <td>14.85</td>\n",
       "      <td>12680</td>\n",
       "      <td>France</td>\n",
       "    </tr>\n",
       "  </tbody>\n",
       "</table>\n",
       "<p>397924 rows × 13 columns</p>\n",
       "</div>"
      ],
      "text/plain": [
       "       invoice_num        invoice_date  year_month  month  day  hour  \\\n",
       "0           536365 2010-12-01 08:26:00      201012     12    3     8   \n",
       "1           536365 2010-12-01 08:26:00      201012     12    3     8   \n",
       "2           536365 2010-12-01 08:26:00      201012     12    3     8   \n",
       "3           536365 2010-12-01 08:26:00      201012     12    3     8   \n",
       "4           536365 2010-12-01 08:26:00      201012     12    3     8   \n",
       "...            ...                 ...         ...    ...  ...   ...   \n",
       "541904      581587 2011-12-09 12:50:00      201112     12    5    12   \n",
       "541905      581587 2011-12-09 12:50:00      201112     12    5    12   \n",
       "541906      581587 2011-12-09 12:50:00      201112     12    5    12   \n",
       "541907      581587 2011-12-09 12:50:00      201112     12    5    12   \n",
       "541908      581587 2011-12-09 12:50:00      201112     12    5    12   \n",
       "\n",
       "       stock_code                          description  quantity  unit_price  \\\n",
       "0          85123A   white hanging heart t-light holder         6        2.55   \n",
       "1           71053                  white metal lantern         6        3.39   \n",
       "2          84406B       cream cupid hearts coat hanger         8        2.75   \n",
       "3          84029G  knitted union flag hot water bottle         6        3.39   \n",
       "4          84029E       red woolly hottie white heart.         6        3.39   \n",
       "...           ...                                  ...       ...         ...   \n",
       "541904      22613          pack of 20 spaceboy napkins        12        0.85   \n",
       "541905      22899         children's apron dolly girl          6        2.10   \n",
       "541906      23254        childrens cutlery dolly girl          4        4.15   \n",
       "541907      23255      childrens cutlery circus parade         4        4.15   \n",
       "541908      22138        baking set 9 piece retrospot          3        4.95   \n",
       "\n",
       "        amount_spend  customer_id         country  \n",
       "0              15.30        17850  United Kingdom  \n",
       "1              20.34        17850  United Kingdom  \n",
       "2              22.00        17850  United Kingdom  \n",
       "3              20.34        17850  United Kingdom  \n",
       "4              20.34        17850  United Kingdom  \n",
       "...              ...          ...             ...  \n",
       "541904         10.20        12680          France  \n",
       "541905         12.60        12680          France  \n",
       "541906         16.60        12680          France  \n",
       "541907         16.60        12680          France  \n",
       "541908         14.85        12680          France  \n",
       "\n",
       "[397924 rows x 13 columns]"
      ]
     },
     "execution_count": 155,
     "metadata": {},
     "output_type": "execute_result"
    }
   ],
   "source": [
    "df_new"
   ]
  },
  {
   "cell_type": "code",
   "execution_count": 157,
   "id": "23d666ae-68f4-49cb-a4e7-d42d1192fdef",
   "metadata": {},
   "outputs": [
    {
     "data": {
      "text/plain": [
       "<pandas.core.groupby.generic.DataFrameGroupBy object at 0x000001AAA6E929F0>"
      ]
     },
     "execution_count": 157,
     "metadata": {},
     "output_type": "execute_result"
    }
   ],
   "source": [
    "df_new.groupby(\"country\")"
   ]
  },
  {
   "cell_type": "code",
   "execution_count": 158,
   "id": "fbcc71b3-be16-4314-b3c9-9d0965a96b7d",
   "metadata": {},
   "outputs": [
    {
     "data": {
      "text/plain": [
       "<pandas.core.groupby.generic.SeriesGroupBy object at 0x000001AAA51A7E00>"
      ]
     },
     "execution_count": 158,
     "metadata": {},
     "output_type": "execute_result"
    }
   ],
   "source": [
    "df_new.groupby(\"country\")[\"invoice_num\"]"
   ]
  },
  {
   "cell_type": "code",
   "execution_count": 161,
   "id": "f4f5c158-8e9c-4c44-b2c4-1a60a6c30d63",
   "metadata": {},
   "outputs": [
    {
     "data": {
      "text/plain": [
       "country\n",
       "Australia                 1185\n",
       "Austria                    398\n",
       "Bahrain                     17\n",
       "Belgium                   2031\n",
       "Brazil                      32\n",
       "Canada                     151\n",
       "Channel Islands            748\n",
       "Cyprus                     614\n",
       "Czech Republic              25\n",
       "Denmark                    380\n",
       "EIRE                      7238\n",
       "European Community          60\n",
       "Finland                    685\n",
       "France                    8342\n",
       "Germany                   9042\n",
       "Greece                     145\n",
       "Iceland                    182\n",
       "Israel                     248\n",
       "Italy                      758\n",
       "Japan                      321\n",
       "Lebanon                     45\n",
       "Lithuania                   35\n",
       "Malta                      112\n",
       "Netherlands               2363\n",
       "Norway                    1072\n",
       "Poland                     330\n",
       "Portugal                  1462\n",
       "RSA                         58\n",
       "Saudi Arabia                 9\n",
       "Singapore                  222\n",
       "Spain                     2485\n",
       "Sweden                     451\n",
       "Switzerland               1842\n",
       "USA                        179\n",
       "United Arab Emirates        68\n",
       "United Kingdom          354345\n",
       "Unspecified                244\n",
       "Name: invoice_num, dtype: int64"
      ]
     },
     "execution_count": 161,
     "metadata": {},
     "output_type": "execute_result"
    }
   ],
   "source": [
    "df_new.groupby(\"country\")[\"invoice_num\"].count()"
   ]
  },
  {
   "cell_type": "markdown",
   "id": "ab617634-3cbf-4013-8ef1-7ebeb827ef58",
   "metadata": {},
   "source": [
    "# How many order for each country?"
   ]
  },
  {
   "cell_type": "code",
   "execution_count": 162,
   "id": "1d6a40b2-5e90-4812-9188-554f1e0d1650",
   "metadata": {},
   "outputs": [
    {
     "data": {
      "image/png": "[encoded data removed]",
      "text/plain": [
       "<Figure size 1500x800 with 1 Axes>"
      ]
     },
     "metadata": {},
     "output_type": "display_data"
    }
   ],
   "source": [
    "group_country_order = df_new.groupby(\"country\")[\"invoice_num\"].count().sort_values()\n",
    "# del group_country_order[\"United kingdom\"]\n",
    "\n",
    "#plot number of unique customers in each country (with UK)\n",
    "plt.subplots(figsize = (15, 8))\n",
    "group_country_order.plot(kind = \"barh\", fontsize = 12)\n",
    "plt.xlabel(\"Number of order\", fontsize = 12)\n",
    "\n",
    "plt.ylabel(\"Country\",fontsize = 12)\n",
    "plt.title(\"Number of orders for different Countrys\", fontsize = 12)\n",
    "plt.show()"
   ]
  },
  {
   "cell_type": "code",
   "execution_count": 164,
   "id": "11fd6c4f-53d4-4b43-8c13-2204f76164c1",
   "metadata": {},
   "outputs": [
    {
     "data": {
      "image/png": "[encoded data removed]",
      "text/plain": [
       "<Figure size 1500x800 with 1 Axes>"
      ]
     },
     "metadata": {},
     "output_type": "display_data"
    }
   ],
   "source": [
    "group_country_order = df_new.groupby(\"country\")[\"invoice_num\"].count().sort_values()\n",
    "del group_country_order[\"United Kingdom\"]\n",
    "\n",
    "#plot number of unique customers in each country (with UK)\n",
    "plt.subplots(figsize = (15, 8))\n",
    "group_country_order.plot(kind = \"barh\", fontsize = 12)\n",
    "plt.xlabel(\"Number of order\", fontsize = 12)\n",
    "\n",
    "plt.ylabel(\"Country\",fontsize = 12)\n",
    "plt.title(\"Number of orders for different Countrys\", fontsize = 12)\n",
    "plt.show() "
   ]
  },
  {
   "cell_type": "markdown",
   "id": "977a3c21-3a8c-4c23-9a56-92293c5df110",
   "metadata": {},
   "source": [
    "# How much money spend by each country?"
   ]
  },
  {
   "cell_type": "code",
   "execution_count": 166,
   "id": "43ec1ff8-0ee5-4c31-9bff-b09c8ea87469",
   "metadata": {},
   "outputs": [
    {
     "data": {
      "text/html": [
       "<div>\n",
       "<style scoped>\n",
       "    .dataframe tbody tr th:only-of-type {\n",
       "        vertical-align: middle;\n",
       "    }\n",
       "\n",
       "    .dataframe tbody tr th {\n",
       "        vertical-align: top;\n",
       "    }\n",
       "\n",
       "    .dataframe thead th {\n",
       "        text-align: right;\n",
       "    }\n",
       "</style>\n",
       "<table border=\"1\" class=\"dataframe\">\n",
       "  <thead>\n",
       "    <tr style=\"text-align: right;\">\n",
       "      <th></th>\n",
       "      <th>invoice_num</th>\n",
       "      <th>invoice_date</th>\n",
       "      <th>year_month</th>\n",
       "      <th>month</th>\n",
       "      <th>day</th>\n",
       "      <th>hour</th>\n",
       "      <th>stock_code</th>\n",
       "      <th>description</th>\n",
       "      <th>quantity</th>\n",
       "      <th>unit_price</th>\n",
       "      <th>amount_spend</th>\n",
       "      <th>customer_id</th>\n",
       "      <th>country</th>\n",
       "    </tr>\n",
       "  </thead>\n",
       "  <tbody>\n",
       "    <tr>\n",
       "      <th>0</th>\n",
       "      <td>536365</td>\n",
       "      <td>2010-12-01 08:26:00</td>\n",
       "      <td>201012</td>\n",
       "      <td>12</td>\n",
       "      <td>3</td>\n",
       "      <td>8</td>\n",
       "      <td>85123A</td>\n",
       "      <td>white hanging heart t-light holder</td>\n",
       "      <td>6</td>\n",
       "      <td>2.55</td>\n",
       "      <td>15.30</td>\n",
       "      <td>17850</td>\n",
       "      <td>United Kingdom</td>\n",
       "    </tr>\n",
       "    <tr>\n",
       "      <th>1</th>\n",
       "      <td>536365</td>\n",
       "      <td>2010-12-01 08:26:00</td>\n",
       "      <td>201012</td>\n",
       "      <td>12</td>\n",
       "      <td>3</td>\n",
       "      <td>8</td>\n",
       "      <td>71053</td>\n",
       "      <td>white metal lantern</td>\n",
       "      <td>6</td>\n",
       "      <td>3.39</td>\n",
       "      <td>20.34</td>\n",
       "      <td>17850</td>\n",
       "      <td>United Kingdom</td>\n",
       "    </tr>\n",
       "    <tr>\n",
       "      <th>2</th>\n",
       "      <td>536365</td>\n",
       "      <td>2010-12-01 08:26:00</td>\n",
       "      <td>201012</td>\n",
       "      <td>12</td>\n",
       "      <td>3</td>\n",
       "      <td>8</td>\n",
       "      <td>84406B</td>\n",
       "      <td>cream cupid hearts coat hanger</td>\n",
       "      <td>8</td>\n",
       "      <td>2.75</td>\n",
       "      <td>22.00</td>\n",
       "      <td>17850</td>\n",
       "      <td>United Kingdom</td>\n",
       "    </tr>\n",
       "    <tr>\n",
       "      <th>3</th>\n",
       "      <td>536365</td>\n",
       "      <td>2010-12-01 08:26:00</td>\n",
       "      <td>201012</td>\n",
       "      <td>12</td>\n",
       "      <td>3</td>\n",
       "      <td>8</td>\n",
       "      <td>84029G</td>\n",
       "      <td>knitted union flag hot water bottle</td>\n",
       "      <td>6</td>\n",
       "      <td>3.39</td>\n",
       "      <td>20.34</td>\n",
       "      <td>17850</td>\n",
       "      <td>United Kingdom</td>\n",
       "    </tr>\n",
       "    <tr>\n",
       "      <th>4</th>\n",
       "      <td>536365</td>\n",
       "      <td>2010-12-01 08:26:00</td>\n",
       "      <td>201012</td>\n",
       "      <td>12</td>\n",
       "      <td>3</td>\n",
       "      <td>8</td>\n",
       "      <td>84029E</td>\n",
       "      <td>red woolly hottie white heart.</td>\n",
       "      <td>6</td>\n",
       "      <td>3.39</td>\n",
       "      <td>20.34</td>\n",
       "      <td>17850</td>\n",
       "      <td>United Kingdom</td>\n",
       "    </tr>\n",
       "    <tr>\n",
       "      <th>...</th>\n",
       "      <td>...</td>\n",
       "      <td>...</td>\n",
       "      <td>...</td>\n",
       "      <td>...</td>\n",
       "      <td>...</td>\n",
       "      <td>...</td>\n",
       "      <td>...</td>\n",
       "      <td>...</td>\n",
       "      <td>...</td>\n",
       "      <td>...</td>\n",
       "      <td>...</td>\n",
       "      <td>...</td>\n",
       "      <td>...</td>\n",
       "    </tr>\n",
       "    <tr>\n",
       "      <th>541904</th>\n",
       "      <td>581587</td>\n",
       "      <td>2011-12-09 12:50:00</td>\n",
       "      <td>201112</td>\n",
       "      <td>12</td>\n",
       "      <td>5</td>\n",
       "      <td>12</td>\n",
       "      <td>22613</td>\n",
       "      <td>pack of 20 spaceboy napkins</td>\n",
       "      <td>12</td>\n",
       "      <td>0.85</td>\n",
       "      <td>10.20</td>\n",
       "      <td>12680</td>\n",
       "      <td>France</td>\n",
       "    </tr>\n",
       "    <tr>\n",
       "      <th>541905</th>\n",
       "      <td>581587</td>\n",
       "      <td>2011-12-09 12:50:00</td>\n",
       "      <td>201112</td>\n",
       "      <td>12</td>\n",
       "      <td>5</td>\n",
       "      <td>12</td>\n",
       "      <td>22899</td>\n",
       "      <td>children's apron dolly girl</td>\n",
       "      <td>6</td>\n",
       "      <td>2.10</td>\n",
       "      <td>12.60</td>\n",
       "      <td>12680</td>\n",
       "      <td>France</td>\n",
       "    </tr>\n",
       "    <tr>\n",
       "      <th>541906</th>\n",
       "      <td>581587</td>\n",
       "      <td>2011-12-09 12:50:00</td>\n",
       "      <td>201112</td>\n",
       "      <td>12</td>\n",
       "      <td>5</td>\n",
       "      <td>12</td>\n",
       "      <td>23254</td>\n",
       "      <td>childrens cutlery dolly girl</td>\n",
       "      <td>4</td>\n",
       "      <td>4.15</td>\n",
       "      <td>16.60</td>\n",
       "      <td>12680</td>\n",
       "      <td>France</td>\n",
       "    </tr>\n",
       "    <tr>\n",
       "      <th>541907</th>\n",
       "      <td>581587</td>\n",
       "      <td>2011-12-09 12:50:00</td>\n",
       "      <td>201112</td>\n",
       "      <td>12</td>\n",
       "      <td>5</td>\n",
       "      <td>12</td>\n",
       "      <td>23255</td>\n",
       "      <td>childrens cutlery circus parade</td>\n",
       "      <td>4</td>\n",
       "      <td>4.15</td>\n",
       "      <td>16.60</td>\n",
       "      <td>12680</td>\n",
       "      <td>France</td>\n",
       "    </tr>\n",
       "    <tr>\n",
       "      <th>541908</th>\n",
       "      <td>581587</td>\n",
       "      <td>2011-12-09 12:50:00</td>\n",
       "      <td>201112</td>\n",
       "      <td>12</td>\n",
       "      <td>5</td>\n",
       "      <td>12</td>\n",
       "      <td>22138</td>\n",
       "      <td>baking set 9 piece retrospot</td>\n",
       "      <td>3</td>\n",
       "      <td>4.95</td>\n",
       "      <td>14.85</td>\n",
       "      <td>12680</td>\n",
       "      <td>France</td>\n",
       "    </tr>\n",
       "  </tbody>\n",
       "</table>\n",
       "<p>397924 rows × 13 columns</p>\n",
       "</div>"
      ],
      "text/plain": [
       "       invoice_num        invoice_date  year_month  month  day  hour  \\\n",
       "0           536365 2010-12-01 08:26:00      201012     12    3     8   \n",
       "1           536365 2010-12-01 08:26:00      201012     12    3     8   \n",
       "2           536365 2010-12-01 08:26:00      201012     12    3     8   \n",
       "3           536365 2010-12-01 08:26:00      201012     12    3     8   \n",
       "4           536365 2010-12-01 08:26:00      201012     12    3     8   \n",
       "...            ...                 ...         ...    ...  ...   ...   \n",
       "541904      581587 2011-12-09 12:50:00      201112     12    5    12   \n",
       "541905      581587 2011-12-09 12:50:00      201112     12    5    12   \n",
       "541906      581587 2011-12-09 12:50:00      201112     12    5    12   \n",
       "541907      581587 2011-12-09 12:50:00      201112     12    5    12   \n",
       "541908      581587 2011-12-09 12:50:00      201112     12    5    12   \n",
       "\n",
       "       stock_code                          description  quantity  unit_price  \\\n",
       "0          85123A   white hanging heart t-light holder         6        2.55   \n",
       "1           71053                  white metal lantern         6        3.39   \n",
       "2          84406B       cream cupid hearts coat hanger         8        2.75   \n",
       "3          84029G  knitted union flag hot water bottle         6        3.39   \n",
       "4          84029E       red woolly hottie white heart.         6        3.39   \n",
       "...           ...                                  ...       ...         ...   \n",
       "541904      22613          pack of 20 spaceboy napkins        12        0.85   \n",
       "541905      22899         children's apron dolly girl          6        2.10   \n",
       "541906      23254        childrens cutlery dolly girl          4        4.15   \n",
       "541907      23255      childrens cutlery circus parade         4        4.15   \n",
       "541908      22138        baking set 9 piece retrospot          3        4.95   \n",
       "\n",
       "        amount_spend  customer_id         country  \n",
       "0              15.30        17850  United Kingdom  \n",
       "1              20.34        17850  United Kingdom  \n",
       "2              22.00        17850  United Kingdom  \n",
       "3              20.34        17850  United Kingdom  \n",
       "4              20.34        17850  United Kingdom  \n",
       "...              ...          ...             ...  \n",
       "541904         10.20        12680          France  \n",
       "541905         12.60        12680          France  \n",
       "541906         16.60        12680          France  \n",
       "541907         16.60        12680          France  \n",
       "541908         14.85        12680          France  \n",
       "\n",
       "[397924 rows x 13 columns]"
      ]
     },
     "execution_count": 166,
     "metadata": {},
     "output_type": "execute_result"
    }
   ],
   "source": [
    "df_new"
   ]
  },
  {
   "cell_type": "code",
   "execution_count": 168,
   "id": "e86c4172-718a-4113-8fd0-3b0930b4ae09",
   "metadata": {},
   "outputs": [
    {
     "data": {
      "text/plain": [
       "<pandas.core.groupby.generic.DataFrameGroupBy object at 0x000001AAA56BF2C0>"
      ]
     },
     "execution_count": 168,
     "metadata": {},
     "output_type": "execute_result"
    }
   ],
   "source": [
    " df_new.groupby(\"country\")"
   ]
  },
  {
   "cell_type": "code",
   "execution_count": 169,
   "id": "c62f9b41-adea-43f2-8092-875d4ac49906",
   "metadata": {},
   "outputs": [
    {
     "data": {
      "text/plain": [
       "<pandas.core.groupby.generic.SeriesGroupBy object at 0x000001AAA56BF500>"
      ]
     },
     "execution_count": 169,
     "metadata": {},
     "output_type": "execute_result"
    }
   ],
   "source": [
    " df_new.groupby(\"country\")[\"amount_spend\"]"
   ]
  },
  {
   "cell_type": "code",
   "execution_count": 170,
   "id": "dacd6b37-596e-40a4-b142-228052a0c145",
   "metadata": {},
   "outputs": [
    {
     "data": {
      "text/plain": [
       "country\n",
       "Australia                138521.310\n",
       "Austria                   10198.680\n",
       "Bahrain                     548.400\n",
       "Belgium                   41196.340\n",
       "Brazil                     1143.600\n",
       "Canada                     3666.380\n",
       "Channel Islands           20450.440\n",
       "Cyprus                    13590.380\n",
       "Czech Republic              826.740\n",
       "Denmark                   18955.340\n",
       "EIRE                     265545.900\n",
       "European Community         1300.250\n",
       "Finland                   22546.080\n",
       "France                   209024.050\n",
       "Germany                  228867.140\n",
       "Greece                     4760.520\n",
       "Iceland                    4310.000\n",
       "Israel                     7221.690\n",
       "Italy                     17483.240\n",
       "Japan                     37416.370\n",
       "Lebanon                    1693.880\n",
       "Lithuania                  1661.060\n",
       "Malta                      2725.590\n",
       "Netherlands              285446.340\n",
       "Norway                    36165.440\n",
       "Poland                     7334.650\n",
       "Portugal                  33439.890\n",
       "RSA                        1002.310\n",
       "Saudi Arabia                145.920\n",
       "Singapore                 21279.290\n",
       "Spain                     61577.110\n",
       "Sweden                    38378.330\n",
       "Switzerland               56443.950\n",
       "USA                        3580.390\n",
       "United Arab Emirates       1902.280\n",
       "United Kingdom          7308391.554\n",
       "Unspecified                2667.070\n",
       "Name: amount_spend, dtype: float64"
      ]
     },
     "execution_count": 170,
     "metadata": {},
     "output_type": "execute_result"
    }
   ],
   "source": [
    " df_new.groupby(\"country\")[\"amount_spend\"].sum()"
   ]
  },
  {
   "cell_type": "code",
   "execution_count": 172,
   "id": "a8bba061-636f-4c76-a012-76d23fc7983c",
   "metadata": {},
   "outputs": [
    {
     "data": {
      "text/plain": [
       "country\n",
       "Saudi Arabia                145.920\n",
       "Bahrain                     548.400\n",
       "Czech Republic              826.740\n",
       "RSA                        1002.310\n",
       "Brazil                     1143.600\n",
       "European Community         1300.250\n",
       "Lithuania                  1661.060\n",
       "Lebanon                    1693.880\n",
       "United Arab Emirates       1902.280\n",
       "Unspecified                2667.070\n",
       "Malta                      2725.590\n",
       "USA                        3580.390\n",
       "Canada                     3666.380\n",
       "Iceland                    4310.000\n",
       "Greece                     4760.520\n",
       "Israel                     7221.690\n",
       "Poland                     7334.650\n",
       "Austria                   10198.680\n",
       "Cyprus                    13590.380\n",
       "Italy                     17483.240\n",
       "Denmark                   18955.340\n",
       "Channel Islands           20450.440\n",
       "Singapore                 21279.290\n",
       "Finland                   22546.080\n",
       "Portugal                  33439.890\n",
       "Norway                    36165.440\n",
       "Japan                     37416.370\n",
       "Sweden                    38378.330\n",
       "Belgium                   41196.340\n",
       "Switzerland               56443.950\n",
       "Spain                     61577.110\n",
       "Australia                138521.310\n",
       "France                   209024.050\n",
       "Germany                  228867.140\n",
       "EIRE                     265545.900\n",
       "Netherlands              285446.340\n",
       "United Kingdom          7308391.554\n",
       "Name: amount_spend, dtype: float64"
      ]
     },
     "execution_count": 172,
     "metadata": {},
     "output_type": "execute_result"
    }
   ],
   "source": [
    " df_new.groupby(\"country\")[\"amount_spend\"].sum().sort_values()"
   ]
  },
  {
   "cell_type": "code",
   "execution_count": 173,
   "id": "13b7515a-232a-4136-a240-10a09f56ebab",
   "metadata": {},
   "outputs": [
    {
     "data": {
      "image/png": "[encoded data removed]",
      "text/plain": [
       "<Figure size 1500x800 with 1 Axes>"
      ]
     },
     "metadata": {},
     "output_type": "display_data"
    }
   ],
   "source": [
    "group_country_amount_spent = df_new.groupby(\"country\")[\"amount_spend\"].count().sort_values()\n",
    "# del group_country_order[\"United kingdom\"]\n",
    "\n",
    "#plot number of unique customers in each country (with UK)\n",
    "plt.subplots(figsize = (15, 8))\n",
    "group_country_amount_spent.plot(kind = \"barh\", fontsize = 12)\n",
    "plt.xlabel(\"Money Spent (Doller)\", fontsize = 12)\n",
    "\n",
    "plt.ylabel(\"Country\",fontsize = 12)\n",
    "plt.title(\"Money Spend by different Countrys\", fontsize = 12)\n",
    "plt.show()"
   ]
  },
  {
   "cell_type": "markdown",
   "id": "c04f3c89-9d61-4f08-ad52-d6ec480d3052",
   "metadata": {},
   "source": [
    " # -------------------DONE------------------------"
   ]
  },
  {
   "cell_type": "code",
   "execution_count": null,
   "id": "97ae5164-c636-4c55-8895-b626cc96d980",
   "metadata": {},
   "outputs": [],
   "source": []
  }
 ],
 "metadata": {
  "kernelspec": {
   "display_name": "Python 3 (ipykernel)",
   "language": "python",
   "name": "python3"
  },
  "language_info": {
   "codemirror_mode": {
    "name": "ipython",
    "version": 3
   },
   "file_extension": ".py",
   "mimetype": "text/x-python",
   "name": "python",
   "nbconvert_exporter": "python",
   "pygments_lexer": "ipython3",
   "version": "3.12.2"
  }
 },
 "nbformat": 4,
 "nbformat_minor": 5
}
